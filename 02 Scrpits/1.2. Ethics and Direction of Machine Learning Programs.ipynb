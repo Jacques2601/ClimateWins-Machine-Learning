{
 "cells": [
  {
   "cell_type": "markdown",
   "id": "b8a7c4f5-516b-4eff-9d05-928fe5b866ef",
   "metadata": {},
   "source": [
    "1. Import libraries"
   ]
  },
  {
   "cell_type": "code",
   "execution_count": 98,
   "id": "5f0328ec-330d-4476-ae9f-f0a82238c7ff",
   "metadata": {},
   "outputs": [],
   "source": [
    "# Import the necessary libraries\n",
    "import pandas as pd\n",
    "import numpy as np\n",
    "import seaborn as sns\n",
    "import matplotlib\n",
    "import matplotlib.pyplot as plt\n",
    "import os\n",
    "import sklearn\n",
    "from sklearn.preprocessing import StandardScaler"
   ]
  },
  {
   "cell_type": "markdown",
   "id": "1ee96961-8bc3-4e32-8009-719faa42a9c3",
   "metadata": {},
   "source": [
    "2. Load datasets"
   ]
  },
  {
   "cell_type": "code",
   "execution_count": 101,
   "id": "481e3c06-344a-4135-8ba4-f81216563b44",
   "metadata": {},
   "outputs": [],
   "source": [
    "# Define the file path\n",
    "path = r'C:\\Users\\Jacques\\OneDrive\\Documents\\Data Analytics course\\Data Specialization\\Part 1\\Exercise 1.2'"
   ]
  },
  {
   "cell_type": "code",
   "execution_count": 103,
   "id": "158dd92a-e344-41b7-9010-69051ac6053b",
   "metadata": {},
   "outputs": [],
   "source": [
    "# Read the CSV file\n",
    "df = pd.read_csv(os.path.join(path, 'Dataset-weather-prediction-dataset-processed.csv'))"
   ]
  },
  {
   "cell_type": "code",
   "execution_count": 104,
   "id": "63788cbe-e79a-44f0-b613-7b5bec6dc8d0",
   "metadata": {},
   "outputs": [],
   "source": [
    "# Reset index to default integers and store old index as a column\n",
    "df.reset_index(inplace=True)"
   ]
  },
  {
   "cell_type": "code",
   "execution_count": 107,
   "id": "6bd7861a-5d26-4d41-a835-e9f3d5e7f728",
   "metadata": {},
   "outputs": [],
   "source": [
    "# Rename the 'index' column to 'id'\n",
    "df.rename(columns={'index': 'id'}, inplace=True)"
   ]
  },
  {
   "cell_type": "markdown",
   "id": "bc10035b-384b-49ae-8d0e-ff170c63d97b",
   "metadata": {},
   "source": [
    "3. Check for missing values"
   ]
  },
  {
   "cell_type": "code",
   "execution_count": 110,
   "id": "f24d8e7f-18c7-4f52-a1a5-6f67dd8625ff",
   "metadata": {},
   "outputs": [
    {
     "name": "stdout",
     "output_type": "stream",
     "text": [
      "<class 'pandas.core.frame.DataFrame'>\n",
      "RangeIndex: 22950 entries, 0 to 22949\n",
      "Columns: 171 entries, id to VALENTIA_temp_max\n",
      "dtypes: float64(145), int64(26)\n",
      "memory usage: 29.9 MB\n"
     ]
    },
    {
     "data": {
      "text/plain": [
       "id                     0\n",
       "DATE                   0\n",
       "MONTH                  0\n",
       "BASEL_cloud_cover      0\n",
       "BASEL_wind_speed       0\n",
       "                      ..\n",
       "VALENTIA_snow_depth    0\n",
       "VALENTIA_sunshine      0\n",
       "VALENTIA_temp_mean     0\n",
       "VALENTIA_temp_min      0\n",
       "VALENTIA_temp_max      0\n",
       "Length: 171, dtype: int64"
      ]
     },
     "execution_count": 110,
     "metadata": {},
     "output_type": "execute_result"
    }
   ],
   "source": [
    "# Quick checks\n",
    "df.info()\n",
    "df.isnull().sum()"
   ]
  },
  {
   "cell_type": "code",
   "execution_count": 112,
   "id": "a8610572-7bfb-4038-9579-9c6bc1732dd9",
   "metadata": {},
   "outputs": [],
   "source": [
    "# Remove rows with NaN values\n",
    "df.dropna(inplace=True)"
   ]
  },
  {
   "cell_type": "markdown",
   "id": "d9b53f2a-4438-4e95-8fc9-a352162112f1",
   "metadata": {},
   "source": [
    "4. Scaling"
   ]
  },
  {
   "cell_type": "code",
   "execution_count": 115,
   "id": "f24bdbfe-45fd-4a90-84e0-26d8310537d8",
   "metadata": {},
   "outputs": [],
   "source": [
    "# Identify numeric columns to scale — exclude 'id', 'Date', and 'Month'\n",
    "cols_to_scale = df.select_dtypes(include=np.number).columns.drop(['id', 'DATE', 'MONTH'], errors='ignore')"
   ]
  },
  {
   "cell_type": "code",
   "execution_count": 117,
   "id": "973389f5-69d2-4115-880d-4f362a73dab8",
   "metadata": {},
   "outputs": [],
   "source": [
    "# Create scaler\n",
    "scaler = StandardScaler()"
   ]
  },
  {
   "cell_type": "code",
   "execution_count": 119,
   "id": "6e241a7b-550f-4be2-808f-3d2cb23a2379",
   "metadata": {},
   "outputs": [],
   "source": [
    "# Scale only the numeric columns we selected\n",
    "df_scaled_values = scaler.fit_transform(df[cols_to_scale])"
   ]
  },
  {
   "cell_type": "code",
   "execution_count": 121,
   "id": "4f1e992a-f98c-4962-8fb0-db673274990b",
   "metadata": {},
   "outputs": [],
   "source": [
    "# Create a copy of the original df to preserve all columns\n",
    "df_scaled = df.copy()"
   ]
  },
  {
   "cell_type": "code",
   "execution_count": 123,
   "id": "d93adfc1-f825-4138-b39a-91738386b12f",
   "metadata": {},
   "outputs": [],
   "source": [
    "# Replace only the scaled columns with their scaled values\n",
    "df_scaled[cols_to_scale] = df_scaled_values"
   ]
  },
  {
   "cell_type": "code",
   "execution_count": 125,
   "id": "34d9a222-ea35-4fd9-9f16-a70473cf025f",
   "metadata": {},
   "outputs": [
    {
     "data": {
      "text/html": [
       "<div>\n",
       "<style scoped>\n",
       "    .dataframe tbody tr th:only-of-type {\n",
       "        vertical-align: middle;\n",
       "    }\n",
       "\n",
       "    .dataframe tbody tr th {\n",
       "        vertical-align: top;\n",
       "    }\n",
       "\n",
       "    .dataframe thead th {\n",
       "        text-align: right;\n",
       "    }\n",
       "</style>\n",
       "<table border=\"1\" class=\"dataframe\">\n",
       "  <thead>\n",
       "    <tr style=\"text-align: right;\">\n",
       "      <th></th>\n",
       "      <th>id</th>\n",
       "      <th>DATE</th>\n",
       "      <th>MONTH</th>\n",
       "      <th>BASEL_cloud_cover</th>\n",
       "      <th>BASEL_wind_speed</th>\n",
       "      <th>BASEL_humidity</th>\n",
       "      <th>BASEL_pressure</th>\n",
       "      <th>BASEL_global_radiation</th>\n",
       "      <th>BASEL_precipitation</th>\n",
       "      <th>BASEL_snow_depth</th>\n",
       "      <th>...</th>\n",
       "      <th>VALENTIA_cloud_cover</th>\n",
       "      <th>VALENTIA_humidity</th>\n",
       "      <th>VALENTIA_pressure</th>\n",
       "      <th>VALENTIA_global_radiation</th>\n",
       "      <th>VALENTIA_precipitation</th>\n",
       "      <th>VALENTIA_snow_depth</th>\n",
       "      <th>VALENTIA_sunshine</th>\n",
       "      <th>VALENTIA_temp_mean</th>\n",
       "      <th>VALENTIA_temp_min</th>\n",
       "      <th>VALENTIA_temp_max</th>\n",
       "    </tr>\n",
       "  </thead>\n",
       "  <tbody>\n",
       "    <tr>\n",
       "      <th>0</th>\n",
       "      <td>0</td>\n",
       "      <td>19600101</td>\n",
       "      <td>1</td>\n",
       "      <td>0.660514</td>\n",
       "      <td>-0.02793</td>\n",
       "      <td>0.826097</td>\n",
       "      <td>-0.001949</td>\n",
       "      <td>-1.101066</td>\n",
       "      <td>-0.265148</td>\n",
       "      <td>-0.179228</td>\n",
       "      <td>...</td>\n",
       "      <td>-0.443701</td>\n",
       "      <td>0.761754</td>\n",
       "      <td>-1.299744</td>\n",
       "      <td>-0.806427</td>\n",
       "      <td>-0.088407</td>\n",
       "      <td>-0.024706</td>\n",
       "      <td>0.372147</td>\n",
       "      <td>-0.668215</td>\n",
       "      <td>-0.519743</td>\n",
       "      <td>-0.752237</td>\n",
       "    </tr>\n",
       "    <tr>\n",
       "      <th>1</th>\n",
       "      <td>1</td>\n",
       "      <td>19600102</td>\n",
       "      <td>1</td>\n",
       "      <td>0.244897</td>\n",
       "      <td>-0.02793</td>\n",
       "      <td>0.735760</td>\n",
       "      <td>-0.001949</td>\n",
       "      <td>-1.058108</td>\n",
       "      <td>1.658760</td>\n",
       "      <td>-0.179228</td>\n",
       "      <td>...</td>\n",
       "      <td>0.783085</td>\n",
       "      <td>1.183580</td>\n",
       "      <td>-1.262455</td>\n",
       "      <td>-1.042055</td>\n",
       "      <td>0.503361</td>\n",
       "      <td>-0.024706</td>\n",
       "      <td>-0.829285</td>\n",
       "      <td>-0.548046</td>\n",
       "      <td>-0.629054</td>\n",
       "      <td>-0.407141</td>\n",
       "    </tr>\n",
       "    <tr>\n",
       "      <th>2</th>\n",
       "      <td>2</td>\n",
       "      <td>19600103</td>\n",
       "      <td>1</td>\n",
       "      <td>1.076130</td>\n",
       "      <td>-0.02793</td>\n",
       "      <td>1.277781</td>\n",
       "      <td>-0.001949</td>\n",
       "      <td>-1.251420</td>\n",
       "      <td>0.155707</td>\n",
       "      <td>-0.179228</td>\n",
       "      <td>...</td>\n",
       "      <td>0.783085</td>\n",
       "      <td>1.183580</td>\n",
       "      <td>-0.432779</td>\n",
       "      <td>-1.136306</td>\n",
       "      <td>-0.396127</td>\n",
       "      <td>-0.024706</td>\n",
       "      <td>-1.009500</td>\n",
       "      <td>-0.067372</td>\n",
       "      <td>0.054135</td>\n",
       "      <td>-0.177078</td>\n",
       "    </tr>\n",
       "    <tr>\n",
       "      <th>3</th>\n",
       "      <td>3</td>\n",
       "      <td>19600104</td>\n",
       "      <td>1</td>\n",
       "      <td>-1.001953</td>\n",
       "      <td>-0.02793</td>\n",
       "      <td>1.458455</td>\n",
       "      <td>-0.001949</td>\n",
       "      <td>-0.821838</td>\n",
       "      <td>-0.445514</td>\n",
       "      <td>-0.179228</td>\n",
       "      <td>...</td>\n",
       "      <td>0.783085</td>\n",
       "      <td>0.480538</td>\n",
       "      <td>0.387574</td>\n",
       "      <td>-1.183432</td>\n",
       "      <td>0.669056</td>\n",
       "      <td>-0.024706</td>\n",
       "      <td>-1.039536</td>\n",
       "      <td>-0.998679</td>\n",
       "      <td>-0.164486</td>\n",
       "      <td>-0.838511</td>\n",
       "    </tr>\n",
       "    <tr>\n",
       "      <th>4</th>\n",
       "      <td>4</td>\n",
       "      <td>19600105</td>\n",
       "      <td>1</td>\n",
       "      <td>0.244897</td>\n",
       "      <td>-0.02793</td>\n",
       "      <td>1.729466</td>\n",
       "      <td>-0.001949</td>\n",
       "      <td>-0.746661</td>\n",
       "      <td>-0.164944</td>\n",
       "      <td>-0.179228</td>\n",
       "      <td>...</td>\n",
       "      <td>-1.670486</td>\n",
       "      <td>-0.363113</td>\n",
       "      <td>1.729970</td>\n",
       "      <td>-0.794645</td>\n",
       "      <td>-0.490810</td>\n",
       "      <td>-0.024706</td>\n",
       "      <td>0.672505</td>\n",
       "      <td>-1.509396</td>\n",
       "      <td>-1.339569</td>\n",
       "      <td>-1.471186</td>\n",
       "    </tr>\n",
       "  </tbody>\n",
       "</table>\n",
       "<p>5 rows × 171 columns</p>\n",
       "</div>"
      ],
      "text/plain": [
       "   id      DATE  MONTH  BASEL_cloud_cover  BASEL_wind_speed  BASEL_humidity  \\\n",
       "0   0  19600101      1           0.660514          -0.02793        0.826097   \n",
       "1   1  19600102      1           0.244897          -0.02793        0.735760   \n",
       "2   2  19600103      1           1.076130          -0.02793        1.277781   \n",
       "3   3  19600104      1          -1.001953          -0.02793        1.458455   \n",
       "4   4  19600105      1           0.244897          -0.02793        1.729466   \n",
       "\n",
       "   BASEL_pressure  BASEL_global_radiation  BASEL_precipitation  \\\n",
       "0       -0.001949               -1.101066            -0.265148   \n",
       "1       -0.001949               -1.058108             1.658760   \n",
       "2       -0.001949               -1.251420             0.155707   \n",
       "3       -0.001949               -0.821838            -0.445514   \n",
       "4       -0.001949               -0.746661            -0.164944   \n",
       "\n",
       "   BASEL_snow_depth  ...  VALENTIA_cloud_cover  VALENTIA_humidity  \\\n",
       "0         -0.179228  ...             -0.443701           0.761754   \n",
       "1         -0.179228  ...              0.783085           1.183580   \n",
       "2         -0.179228  ...              0.783085           1.183580   \n",
       "3         -0.179228  ...              0.783085           0.480538   \n",
       "4         -0.179228  ...             -1.670486          -0.363113   \n",
       "\n",
       "   VALENTIA_pressure  VALENTIA_global_radiation  VALENTIA_precipitation  \\\n",
       "0          -1.299744                  -0.806427               -0.088407   \n",
       "1          -1.262455                  -1.042055                0.503361   \n",
       "2          -0.432779                  -1.136306               -0.396127   \n",
       "3           0.387574                  -1.183432                0.669056   \n",
       "4           1.729970                  -0.794645               -0.490810   \n",
       "\n",
       "   VALENTIA_snow_depth  VALENTIA_sunshine  VALENTIA_temp_mean  \\\n",
       "0            -0.024706           0.372147           -0.668215   \n",
       "1            -0.024706          -0.829285           -0.548046   \n",
       "2            -0.024706          -1.009500           -0.067372   \n",
       "3            -0.024706          -1.039536           -0.998679   \n",
       "4            -0.024706           0.672505           -1.509396   \n",
       "\n",
       "   VALENTIA_temp_min  VALENTIA_temp_max  \n",
       "0          -0.519743          -0.752237  \n",
       "1          -0.629054          -0.407141  \n",
       "2           0.054135          -0.177078  \n",
       "3          -0.164486          -0.838511  \n",
       "4          -1.339569          -1.471186  \n",
       "\n",
       "[5 rows x 171 columns]"
      ]
     },
     "execution_count": 125,
     "metadata": {},
     "output_type": "execute_result"
    }
   ],
   "source": [
    "# Export dataframe as .csv file\n",
    "df_scaled.to_csv(os.path.join(path, 'DataSet_scaled.csv'), index=False)\n",
    "\n",
    "df_scaled.head()"
   ]
  },
  {
   "cell_type": "code",
   "execution_count": null,
   "id": "102dc371-3271-4a19-afbb-73e405da0b56",
   "metadata": {},
   "outputs": [],
   "source": []
  }
 ],
 "metadata": {
  "kernelspec": {
   "display_name": "Python 3 (ipykernel)",
   "language": "python",
   "name": "python3"
  },
  "language_info": {
   "codemirror_mode": {
    "name": "ipython",
    "version": 3
   },
   "file_extension": ".py",
   "mimetype": "text/x-python",
   "name": "python",
   "nbconvert_exporter": "python",
   "pygments_lexer": "ipython3",
   "version": "3.12.3"
  }
 },
 "nbformat": 4,
 "nbformat_minor": 5
}
