{
 "cells": [
  {
   "cell_type": "markdown",
   "id": "fe2ec81a-4d76-4f0e-99ec-668c974aec18",
   "metadata": {},
   "source": [
    "# 1. Importing necessary libraries"
   ]
  },
  {
   "cell_type": "code",
   "execution_count": 190,
   "id": "0edf4be2-c2cb-4e4a-9421-97e13ec0bdc4",
   "metadata": {},
   "outputs": [],
   "source": [
    "# Data manipulation and analysis\n",
    "import pandas as pd       # for handling tabular data (CSV, DataFrames)\n",
    "import numpy as np        # for numerical computations and array operations\n",
    "\n",
    "# Visualization\n",
    "import seaborn as sns     # for statistical data visualization (e.g., heatmaps, confusion matrices)\n",
    "import matplotlib.pyplot as plt  # for plotting graphs and visualizing training history\n",
    "\n",
    "# System utilities\n",
    "import os                 # for handling file paths (important when loading CSVs)\n",
    "import operator           # provides functions for comparisons (rarely used, but handy)\n",
    "\n",
    "# Deep learning frameworks\n",
    "import tensorflow as tf   # main deep learning framework\n",
    "from tensorflow import keras  # high-level API for building neural networks\n",
    "\n",
    "# Numpy helpers\n",
    "from numpy import unique  # for finding unique values in arrays\n",
    "from numpy import reshape # for reshaping arrays (important for preparing data for models)\n",
    "\n",
    "# Keras model components\n",
    "from keras.models import Sequential        # for building sequential neural network models\n",
    "from keras.layers import Conv1D, Conv2D    # convolutional layers (1D for sequences, 2D for images)\n",
    "from keras.layers import Dense             # fully connected (dense) layer\n",
    "from keras.layers import BatchNormalization # for normalizing layer outputs to speed training\n",
    "from keras.layers import Flatten           # flattening 2D/3D inputs into 1D\n",
    "from keras.layers import MaxPooling1D      # pooling layer to reduce dimensionality (for 1D CNN)\n",
    "from keras.layers import Dropout           # dropout layer to prevent overfitting\n",
    "from keras.layers import LSTM              # Long Short-Term Memory layer (RNN variant)\n",
    "\n",
    "# Keras utilities\n",
    "from keras.utils import to_categorical     # convert labels to one-hot encoding\n",
    "\n",
    "# Scikit-learn utilities\n",
    "from sklearn.model_selection import train_test_split  # split data into training and testing sets\n",
    "from sklearn.preprocessing import LabelEncoder        # encode categorical labels into numeric values"
   ]
  },
  {
   "cell_type": "code",
   "execution_count": 192,
   "id": "f6c18976-81d8-4b66-9432-b1e92fae5645",
   "metadata": {},
   "outputs": [],
   "source": [
    "# Define the file path to the folder where the dataset is stored.  \n",
    "path = r'C:\\Users\\Jacques\\OneDrive\\Documents\\Data Analytics course\\Data Specialization\\Part 2\\Exercise 2.2\\Datasets'"
   ]
  },
  {
   "cell_type": "code",
   "execution_count": 194,
   "id": "9c091bf3-278e-4e96-962f-8b338d92b329",
   "metadata": {},
   "outputs": [],
   "source": [
    "# Load the processed weather prediction dataset into a pandas DataFrame.  \n",
    "# 'os.path.join()' safely combines the folder path with the CSV filename.  \n",
    "# The data is read without any scaling applied (hence stored in 'df_unscaled'). \n",
    "df_unscaled = pd.read_csv(os.path.join(path, 'Dataset-weather-prediction-dataset-processed.csv'))"
   ]
  },
  {
   "cell_type": "code",
   "execution_count": 195,
   "id": "6fe00065-a71a-4229-905b-b0bc8bbffef1",
   "metadata": {},
   "outputs": [],
   "source": [
    "# Import the \"pleasant weather\" labels dataset into a DataFrame.  \n",
    "# This file contains the target variable (pleasant vs. not pleasant) for the prediction task.  \n",
    "df_pleasant = pd.read_csv(os.path.join(path, 'Dataset-Answers-Weather_Prediction_Pleasant_Weather.csv'))"
   ]
  },
  {
   "cell_type": "markdown",
   "id": "f4e26404-d0e9-4a13-87bc-90463a0a9ef8",
   "metadata": {},
   "source": [
    "# 2. Data preprocessing for deep learning"
   ]
  },
  {
   "cell_type": "code",
   "execution_count": 199,
   "id": "5814ec4f-7746-49d7-bda0-4177fa80e3c0",
   "metadata": {},
   "outputs": [
    {
     "data": {
      "text/html": [
       "<div>\n",
       "<style scoped>\n",
       "    .dataframe tbody tr th:only-of-type {\n",
       "        vertical-align: middle;\n",
       "    }\n",
       "\n",
       "    .dataframe tbody tr th {\n",
       "        vertical-align: top;\n",
       "    }\n",
       "\n",
       "    .dataframe thead th {\n",
       "        text-align: right;\n",
       "    }\n",
       "</style>\n",
       "<table border=\"1\" class=\"dataframe\">\n",
       "  <thead>\n",
       "    <tr style=\"text-align: right;\">\n",
       "      <th></th>\n",
       "      <th>DATE</th>\n",
       "      <th>MONTH</th>\n",
       "      <th>BASEL_cloud_cover</th>\n",
       "      <th>BASEL_wind_speed</th>\n",
       "      <th>BASEL_humidity</th>\n",
       "      <th>BASEL_pressure</th>\n",
       "      <th>BASEL_global_radiation</th>\n",
       "      <th>BASEL_precipitation</th>\n",
       "      <th>BASEL_snow_depth</th>\n",
       "      <th>BASEL_sunshine</th>\n",
       "      <th>...</th>\n",
       "      <th>VALENTIA_cloud_cover</th>\n",
       "      <th>VALENTIA_humidity</th>\n",
       "      <th>VALENTIA_pressure</th>\n",
       "      <th>VALENTIA_global_radiation</th>\n",
       "      <th>VALENTIA_precipitation</th>\n",
       "      <th>VALENTIA_snow_depth</th>\n",
       "      <th>VALENTIA_sunshine</th>\n",
       "      <th>VALENTIA_temp_mean</th>\n",
       "      <th>VALENTIA_temp_min</th>\n",
       "      <th>VALENTIA_temp_max</th>\n",
       "    </tr>\n",
       "  </thead>\n",
       "  <tbody>\n",
       "    <tr>\n",
       "      <th>0</th>\n",
       "      <td>19600101</td>\n",
       "      <td>1</td>\n",
       "      <td>7</td>\n",
       "      <td>2.1</td>\n",
       "      <td>0.85</td>\n",
       "      <td>1.018</td>\n",
       "      <td>0.32</td>\n",
       "      <td>0.09</td>\n",
       "      <td>0</td>\n",
       "      <td>0.7</td>\n",
       "      <td>...</td>\n",
       "      <td>5</td>\n",
       "      <td>0.88</td>\n",
       "      <td>1.0003</td>\n",
       "      <td>0.45</td>\n",
       "      <td>0.34</td>\n",
       "      <td>0</td>\n",
       "      <td>4.7</td>\n",
       "      <td>8.5</td>\n",
       "      <td>6.0</td>\n",
       "      <td>10.9</td>\n",
       "    </tr>\n",
       "    <tr>\n",
       "      <th>1</th>\n",
       "      <td>19600102</td>\n",
       "      <td>1</td>\n",
       "      <td>6</td>\n",
       "      <td>2.1</td>\n",
       "      <td>0.84</td>\n",
       "      <td>1.018</td>\n",
       "      <td>0.36</td>\n",
       "      <td>1.05</td>\n",
       "      <td>0</td>\n",
       "      <td>1.1</td>\n",
       "      <td>...</td>\n",
       "      <td>7</td>\n",
       "      <td>0.91</td>\n",
       "      <td>1.0007</td>\n",
       "      <td>0.25</td>\n",
       "      <td>0.84</td>\n",
       "      <td>0</td>\n",
       "      <td>0.7</td>\n",
       "      <td>8.9</td>\n",
       "      <td>5.6</td>\n",
       "      <td>12.1</td>\n",
       "    </tr>\n",
       "    <tr>\n",
       "      <th>2</th>\n",
       "      <td>19600103</td>\n",
       "      <td>1</td>\n",
       "      <td>8</td>\n",
       "      <td>2.1</td>\n",
       "      <td>0.90</td>\n",
       "      <td>1.018</td>\n",
       "      <td>0.18</td>\n",
       "      <td>0.30</td>\n",
       "      <td>0</td>\n",
       "      <td>0.0</td>\n",
       "      <td>...</td>\n",
       "      <td>7</td>\n",
       "      <td>0.91</td>\n",
       "      <td>1.0096</td>\n",
       "      <td>0.17</td>\n",
       "      <td>0.08</td>\n",
       "      <td>0</td>\n",
       "      <td>0.1</td>\n",
       "      <td>10.5</td>\n",
       "      <td>8.1</td>\n",
       "      <td>12.9</td>\n",
       "    </tr>\n",
       "    <tr>\n",
       "      <th>3</th>\n",
       "      <td>19600104</td>\n",
       "      <td>1</td>\n",
       "      <td>3</td>\n",
       "      <td>2.1</td>\n",
       "      <td>0.92</td>\n",
       "      <td>1.018</td>\n",
       "      <td>0.58</td>\n",
       "      <td>0.00</td>\n",
       "      <td>0</td>\n",
       "      <td>4.1</td>\n",
       "      <td>...</td>\n",
       "      <td>7</td>\n",
       "      <td>0.86</td>\n",
       "      <td>1.0184</td>\n",
       "      <td>0.13</td>\n",
       "      <td>0.98</td>\n",
       "      <td>0</td>\n",
       "      <td>0.0</td>\n",
       "      <td>7.4</td>\n",
       "      <td>7.3</td>\n",
       "      <td>10.6</td>\n",
       "    </tr>\n",
       "    <tr>\n",
       "      <th>4</th>\n",
       "      <td>19600105</td>\n",
       "      <td>1</td>\n",
       "      <td>6</td>\n",
       "      <td>2.1</td>\n",
       "      <td>0.95</td>\n",
       "      <td>1.018</td>\n",
       "      <td>0.65</td>\n",
       "      <td>0.14</td>\n",
       "      <td>0</td>\n",
       "      <td>5.4</td>\n",
       "      <td>...</td>\n",
       "      <td>3</td>\n",
       "      <td>0.80</td>\n",
       "      <td>1.0328</td>\n",
       "      <td>0.46</td>\n",
       "      <td>0.00</td>\n",
       "      <td>0</td>\n",
       "      <td>5.7</td>\n",
       "      <td>5.7</td>\n",
       "      <td>3.0</td>\n",
       "      <td>8.4</td>\n",
       "    </tr>\n",
       "  </tbody>\n",
       "</table>\n",
       "<p>5 rows × 170 columns</p>\n",
       "</div>"
      ],
      "text/plain": [
       "       DATE  MONTH  BASEL_cloud_cover  BASEL_wind_speed  BASEL_humidity  \\\n",
       "0  19600101      1                  7               2.1            0.85   \n",
       "1  19600102      1                  6               2.1            0.84   \n",
       "2  19600103      1                  8               2.1            0.90   \n",
       "3  19600104      1                  3               2.1            0.92   \n",
       "4  19600105      1                  6               2.1            0.95   \n",
       "\n",
       "   BASEL_pressure  BASEL_global_radiation  BASEL_precipitation  \\\n",
       "0           1.018                    0.32                 0.09   \n",
       "1           1.018                    0.36                 1.05   \n",
       "2           1.018                    0.18                 0.30   \n",
       "3           1.018                    0.58                 0.00   \n",
       "4           1.018                    0.65                 0.14   \n",
       "\n",
       "   BASEL_snow_depth  BASEL_sunshine  ...  VALENTIA_cloud_cover  \\\n",
       "0                 0             0.7  ...                     5   \n",
       "1                 0             1.1  ...                     7   \n",
       "2                 0             0.0  ...                     7   \n",
       "3                 0             4.1  ...                     7   \n",
       "4                 0             5.4  ...                     3   \n",
       "\n",
       "   VALENTIA_humidity  VALENTIA_pressure  VALENTIA_global_radiation  \\\n",
       "0               0.88             1.0003                       0.45   \n",
       "1               0.91             1.0007                       0.25   \n",
       "2               0.91             1.0096                       0.17   \n",
       "3               0.86             1.0184                       0.13   \n",
       "4               0.80             1.0328                       0.46   \n",
       "\n",
       "   VALENTIA_precipitation  VALENTIA_snow_depth  VALENTIA_sunshine  \\\n",
       "0                    0.34                    0                4.7   \n",
       "1                    0.84                    0                0.7   \n",
       "2                    0.08                    0                0.1   \n",
       "3                    0.98                    0                0.0   \n",
       "4                    0.00                    0                5.7   \n",
       "\n",
       "   VALENTIA_temp_mean  VALENTIA_temp_min  VALENTIA_temp_max  \n",
       "0                 8.5                6.0               10.9  \n",
       "1                 8.9                5.6               12.1  \n",
       "2                10.5                8.1               12.9  \n",
       "3                 7.4                7.3               10.6  \n",
       "4                 5.7                3.0                8.4  \n",
       "\n",
       "[5 rows x 170 columns]"
      ]
     },
     "execution_count": 199,
     "metadata": {},
     "output_type": "execute_result"
    }
   ],
   "source": [
    "# Display the first 5 rows of the unscaled dataset.  \n",
    "# This is a quick check to confirm the data loaded correctly and to get an initial look at its structure and values.  \n",
    "df_unscaled.head()"
   ]
  },
  {
   "cell_type": "code",
   "execution_count": 201,
   "id": "6a4fe402-5e81-4ebd-b82f-e33fa4483b49",
   "metadata": {},
   "outputs": [
    {
     "data": {
      "text/html": [
       "<div>\n",
       "<style scoped>\n",
       "    .dataframe tbody tr th:only-of-type {\n",
       "        vertical-align: middle;\n",
       "    }\n",
       "\n",
       "    .dataframe tbody tr th {\n",
       "        vertical-align: top;\n",
       "    }\n",
       "\n",
       "    .dataframe thead th {\n",
       "        text-align: right;\n",
       "    }\n",
       "</style>\n",
       "<table border=\"1\" class=\"dataframe\">\n",
       "  <thead>\n",
       "    <tr style=\"text-align: right;\">\n",
       "      <th></th>\n",
       "      <th>DATE</th>\n",
       "      <th>BASEL_pleasant_weather</th>\n",
       "      <th>BELGRADE_pleasant_weather</th>\n",
       "      <th>BUDAPEST_pleasant_weather</th>\n",
       "      <th>DEBILT_pleasant_weather</th>\n",
       "      <th>DUSSELDORF_pleasant_weather</th>\n",
       "      <th>HEATHROW_pleasant_weather</th>\n",
       "      <th>KASSEL_pleasant_weather</th>\n",
       "      <th>LJUBLJANA_pleasant_weather</th>\n",
       "      <th>MAASTRICHT_pleasant_weather</th>\n",
       "      <th>MADRID_pleasant_weather</th>\n",
       "      <th>MUNCHENB_pleasant_weather</th>\n",
       "      <th>OSLO_pleasant_weather</th>\n",
       "      <th>SONNBLICK_pleasant_weather</th>\n",
       "      <th>STOCKHOLM_pleasant_weather</th>\n",
       "      <th>VALENTIA_pleasant_weather</th>\n",
       "    </tr>\n",
       "  </thead>\n",
       "  <tbody>\n",
       "    <tr>\n",
       "      <th>0</th>\n",
       "      <td>19600101</td>\n",
       "      <td>0</td>\n",
       "      <td>0</td>\n",
       "      <td>0</td>\n",
       "      <td>0</td>\n",
       "      <td>0</td>\n",
       "      <td>0</td>\n",
       "      <td>0</td>\n",
       "      <td>0</td>\n",
       "      <td>0</td>\n",
       "      <td>0</td>\n",
       "      <td>0</td>\n",
       "      <td>0</td>\n",
       "      <td>0</td>\n",
       "      <td>0</td>\n",
       "      <td>0</td>\n",
       "    </tr>\n",
       "    <tr>\n",
       "      <th>1</th>\n",
       "      <td>19600102</td>\n",
       "      <td>0</td>\n",
       "      <td>0</td>\n",
       "      <td>0</td>\n",
       "      <td>0</td>\n",
       "      <td>0</td>\n",
       "      <td>0</td>\n",
       "      <td>0</td>\n",
       "      <td>0</td>\n",
       "      <td>0</td>\n",
       "      <td>0</td>\n",
       "      <td>0</td>\n",
       "      <td>0</td>\n",
       "      <td>0</td>\n",
       "      <td>0</td>\n",
       "      <td>0</td>\n",
       "    </tr>\n",
       "    <tr>\n",
       "      <th>2</th>\n",
       "      <td>19600103</td>\n",
       "      <td>0</td>\n",
       "      <td>0</td>\n",
       "      <td>0</td>\n",
       "      <td>0</td>\n",
       "      <td>0</td>\n",
       "      <td>0</td>\n",
       "      <td>0</td>\n",
       "      <td>0</td>\n",
       "      <td>0</td>\n",
       "      <td>0</td>\n",
       "      <td>0</td>\n",
       "      <td>0</td>\n",
       "      <td>0</td>\n",
       "      <td>0</td>\n",
       "      <td>0</td>\n",
       "    </tr>\n",
       "    <tr>\n",
       "      <th>3</th>\n",
       "      <td>19600104</td>\n",
       "      <td>0</td>\n",
       "      <td>0</td>\n",
       "      <td>0</td>\n",
       "      <td>0</td>\n",
       "      <td>0</td>\n",
       "      <td>0</td>\n",
       "      <td>0</td>\n",
       "      <td>0</td>\n",
       "      <td>0</td>\n",
       "      <td>0</td>\n",
       "      <td>0</td>\n",
       "      <td>0</td>\n",
       "      <td>0</td>\n",
       "      <td>0</td>\n",
       "      <td>0</td>\n",
       "    </tr>\n",
       "    <tr>\n",
       "      <th>4</th>\n",
       "      <td>19600105</td>\n",
       "      <td>0</td>\n",
       "      <td>0</td>\n",
       "      <td>0</td>\n",
       "      <td>0</td>\n",
       "      <td>0</td>\n",
       "      <td>0</td>\n",
       "      <td>0</td>\n",
       "      <td>0</td>\n",
       "      <td>0</td>\n",
       "      <td>0</td>\n",
       "      <td>0</td>\n",
       "      <td>0</td>\n",
       "      <td>0</td>\n",
       "      <td>0</td>\n",
       "      <td>0</td>\n",
       "    </tr>\n",
       "  </tbody>\n",
       "</table>\n",
       "</div>"
      ],
      "text/plain": [
       "       DATE  BASEL_pleasant_weather  BELGRADE_pleasant_weather  \\\n",
       "0  19600101                       0                          0   \n",
       "1  19600102                       0                          0   \n",
       "2  19600103                       0                          0   \n",
       "3  19600104                       0                          0   \n",
       "4  19600105                       0                          0   \n",
       "\n",
       "   BUDAPEST_pleasant_weather  DEBILT_pleasant_weather  \\\n",
       "0                          0                        0   \n",
       "1                          0                        0   \n",
       "2                          0                        0   \n",
       "3                          0                        0   \n",
       "4                          0                        0   \n",
       "\n",
       "   DUSSELDORF_pleasant_weather  HEATHROW_pleasant_weather  \\\n",
       "0                            0                          0   \n",
       "1                            0                          0   \n",
       "2                            0                          0   \n",
       "3                            0                          0   \n",
       "4                            0                          0   \n",
       "\n",
       "   KASSEL_pleasant_weather  LJUBLJANA_pleasant_weather  \\\n",
       "0                        0                           0   \n",
       "1                        0                           0   \n",
       "2                        0                           0   \n",
       "3                        0                           0   \n",
       "4                        0                           0   \n",
       "\n",
       "   MAASTRICHT_pleasant_weather  MADRID_pleasant_weather  \\\n",
       "0                            0                        0   \n",
       "1                            0                        0   \n",
       "2                            0                        0   \n",
       "3                            0                        0   \n",
       "4                            0                        0   \n",
       "\n",
       "   MUNCHENB_pleasant_weather  OSLO_pleasant_weather  \\\n",
       "0                          0                      0   \n",
       "1                          0                      0   \n",
       "2                          0                      0   \n",
       "3                          0                      0   \n",
       "4                          0                      0   \n",
       "\n",
       "   SONNBLICK_pleasant_weather  STOCKHOLM_pleasant_weather  \\\n",
       "0                           0                           0   \n",
       "1                           0                           0   \n",
       "2                           0                           0   \n",
       "3                           0                           0   \n",
       "4                           0                           0   \n",
       "\n",
       "   VALENTIA_pleasant_weather  \n",
       "0                          0  \n",
       "1                          0  \n",
       "2                          0  \n",
       "3                          0  \n",
       "4                          0  "
      ]
     },
     "execution_count": 201,
     "metadata": {},
     "output_type": "execute_result"
    }
   ],
   "source": [
    "# Display the first 5 rows of the pleasant weather dataset.  \n",
    "# This helps verify the data loaded correctly and gives a preview of the features and labels used for model training.  \n",
    "df_pleasant.head()"
   ]
  },
  {
   "cell_type": "code",
   "execution_count": 203,
   "id": "a00a0d91-0543-4e27-b4ba-25c63471e525",
   "metadata": {},
   "outputs": [
    {
     "data": {
      "text/html": [
       "<div>\n",
       "<style scoped>\n",
       "    .dataframe tbody tr th:only-of-type {\n",
       "        vertical-align: middle;\n",
       "    }\n",
       "\n",
       "    .dataframe tbody tr th {\n",
       "        vertical-align: top;\n",
       "    }\n",
       "\n",
       "    .dataframe thead th {\n",
       "        text-align: right;\n",
       "    }\n",
       "</style>\n",
       "<table border=\"1\" class=\"dataframe\">\n",
       "  <thead>\n",
       "    <tr style=\"text-align: right;\">\n",
       "      <th></th>\n",
       "      <th>BASEL_cloud_cover</th>\n",
       "      <th>BASEL_wind_speed</th>\n",
       "      <th>BASEL_humidity</th>\n",
       "      <th>BASEL_pressure</th>\n",
       "      <th>BASEL_global_radiation</th>\n",
       "      <th>BASEL_precipitation</th>\n",
       "      <th>BASEL_snow_depth</th>\n",
       "      <th>BASEL_sunshine</th>\n",
       "      <th>BASEL_temp_mean</th>\n",
       "      <th>BASEL_temp_min</th>\n",
       "      <th>...</th>\n",
       "      <th>VALENTIA_cloud_cover</th>\n",
       "      <th>VALENTIA_humidity</th>\n",
       "      <th>VALENTIA_pressure</th>\n",
       "      <th>VALENTIA_global_radiation</th>\n",
       "      <th>VALENTIA_precipitation</th>\n",
       "      <th>VALENTIA_snow_depth</th>\n",
       "      <th>VALENTIA_sunshine</th>\n",
       "      <th>VALENTIA_temp_mean</th>\n",
       "      <th>VALENTIA_temp_min</th>\n",
       "      <th>VALENTIA_temp_max</th>\n",
       "    </tr>\n",
       "  </thead>\n",
       "  <tbody>\n",
       "    <tr>\n",
       "      <th>0</th>\n",
       "      <td>7</td>\n",
       "      <td>2.1</td>\n",
       "      <td>0.85</td>\n",
       "      <td>1.018</td>\n",
       "      <td>0.32</td>\n",
       "      <td>0.09</td>\n",
       "      <td>0</td>\n",
       "      <td>0.7</td>\n",
       "      <td>6.5</td>\n",
       "      <td>0.8</td>\n",
       "      <td>...</td>\n",
       "      <td>5</td>\n",
       "      <td>0.88</td>\n",
       "      <td>1.0003</td>\n",
       "      <td>0.45</td>\n",
       "      <td>0.34</td>\n",
       "      <td>0</td>\n",
       "      <td>4.7</td>\n",
       "      <td>8.5</td>\n",
       "      <td>6.0</td>\n",
       "      <td>10.9</td>\n",
       "    </tr>\n",
       "    <tr>\n",
       "      <th>1</th>\n",
       "      <td>6</td>\n",
       "      <td>2.1</td>\n",
       "      <td>0.84</td>\n",
       "      <td>1.018</td>\n",
       "      <td>0.36</td>\n",
       "      <td>1.05</td>\n",
       "      <td>0</td>\n",
       "      <td>1.1</td>\n",
       "      <td>6.1</td>\n",
       "      <td>3.3</td>\n",
       "      <td>...</td>\n",
       "      <td>7</td>\n",
       "      <td>0.91</td>\n",
       "      <td>1.0007</td>\n",
       "      <td>0.25</td>\n",
       "      <td>0.84</td>\n",
       "      <td>0</td>\n",
       "      <td>0.7</td>\n",
       "      <td>8.9</td>\n",
       "      <td>5.6</td>\n",
       "      <td>12.1</td>\n",
       "    </tr>\n",
       "    <tr>\n",
       "      <th>2</th>\n",
       "      <td>8</td>\n",
       "      <td>2.1</td>\n",
       "      <td>0.90</td>\n",
       "      <td>1.018</td>\n",
       "      <td>0.18</td>\n",
       "      <td>0.30</td>\n",
       "      <td>0</td>\n",
       "      <td>0.0</td>\n",
       "      <td>8.5</td>\n",
       "      <td>5.1</td>\n",
       "      <td>...</td>\n",
       "      <td>7</td>\n",
       "      <td>0.91</td>\n",
       "      <td>1.0096</td>\n",
       "      <td>0.17</td>\n",
       "      <td>0.08</td>\n",
       "      <td>0</td>\n",
       "      <td>0.1</td>\n",
       "      <td>10.5</td>\n",
       "      <td>8.1</td>\n",
       "      <td>12.9</td>\n",
       "    </tr>\n",
       "    <tr>\n",
       "      <th>3</th>\n",
       "      <td>3</td>\n",
       "      <td>2.1</td>\n",
       "      <td>0.92</td>\n",
       "      <td>1.018</td>\n",
       "      <td>0.58</td>\n",
       "      <td>0.00</td>\n",
       "      <td>0</td>\n",
       "      <td>4.1</td>\n",
       "      <td>6.3</td>\n",
       "      <td>3.8</td>\n",
       "      <td>...</td>\n",
       "      <td>7</td>\n",
       "      <td>0.86</td>\n",
       "      <td>1.0184</td>\n",
       "      <td>0.13</td>\n",
       "      <td>0.98</td>\n",
       "      <td>0</td>\n",
       "      <td>0.0</td>\n",
       "      <td>7.4</td>\n",
       "      <td>7.3</td>\n",
       "      <td>10.6</td>\n",
       "    </tr>\n",
       "    <tr>\n",
       "      <th>4</th>\n",
       "      <td>6</td>\n",
       "      <td>2.1</td>\n",
       "      <td>0.95</td>\n",
       "      <td>1.018</td>\n",
       "      <td>0.65</td>\n",
       "      <td>0.14</td>\n",
       "      <td>0</td>\n",
       "      <td>5.4</td>\n",
       "      <td>3.0</td>\n",
       "      <td>-0.7</td>\n",
       "      <td>...</td>\n",
       "      <td>3</td>\n",
       "      <td>0.80</td>\n",
       "      <td>1.0328</td>\n",
       "      <td>0.46</td>\n",
       "      <td>0.00</td>\n",
       "      <td>0</td>\n",
       "      <td>5.7</td>\n",
       "      <td>5.7</td>\n",
       "      <td>3.0</td>\n",
       "      <td>8.4</td>\n",
       "    </tr>\n",
       "  </tbody>\n",
       "</table>\n",
       "<p>5 rows × 168 columns</p>\n",
       "</div>"
      ],
      "text/plain": [
       "   BASEL_cloud_cover  BASEL_wind_speed  BASEL_humidity  BASEL_pressure  \\\n",
       "0                  7               2.1            0.85           1.018   \n",
       "1                  6               2.1            0.84           1.018   \n",
       "2                  8               2.1            0.90           1.018   \n",
       "3                  3               2.1            0.92           1.018   \n",
       "4                  6               2.1            0.95           1.018   \n",
       "\n",
       "   BASEL_global_radiation  BASEL_precipitation  BASEL_snow_depth  \\\n",
       "0                    0.32                 0.09                 0   \n",
       "1                    0.36                 1.05                 0   \n",
       "2                    0.18                 0.30                 0   \n",
       "3                    0.58                 0.00                 0   \n",
       "4                    0.65                 0.14                 0   \n",
       "\n",
       "   BASEL_sunshine  BASEL_temp_mean  BASEL_temp_min  ...  VALENTIA_cloud_cover  \\\n",
       "0             0.7              6.5             0.8  ...                     5   \n",
       "1             1.1              6.1             3.3  ...                     7   \n",
       "2             0.0              8.5             5.1  ...                     7   \n",
       "3             4.1              6.3             3.8  ...                     7   \n",
       "4             5.4              3.0            -0.7  ...                     3   \n",
       "\n",
       "   VALENTIA_humidity  VALENTIA_pressure  VALENTIA_global_radiation  \\\n",
       "0               0.88             1.0003                       0.45   \n",
       "1               0.91             1.0007                       0.25   \n",
       "2               0.91             1.0096                       0.17   \n",
       "3               0.86             1.0184                       0.13   \n",
       "4               0.80             1.0328                       0.46   \n",
       "\n",
       "   VALENTIA_precipitation  VALENTIA_snow_depth  VALENTIA_sunshine  \\\n",
       "0                    0.34                    0                4.7   \n",
       "1                    0.84                    0                0.7   \n",
       "2                    0.08                    0                0.1   \n",
       "3                    0.98                    0                0.0   \n",
       "4                    0.00                    0                5.7   \n",
       "\n",
       "   VALENTIA_temp_mean  VALENTIA_temp_min  VALENTIA_temp_max  \n",
       "0                 8.5                6.0               10.9  \n",
       "1                 8.9                5.6               12.1  \n",
       "2                10.5                8.1               12.9  \n",
       "3                 7.4                7.3               10.6  \n",
       "4                 5.7                3.0                8.4  \n",
       "\n",
       "[5 rows x 168 columns]"
      ]
     },
     "execution_count": 203,
     "metadata": {},
     "output_type": "execute_result"
    }
   ],
   "source": [
    "# Remove the 'DATE' and 'MONTH' columns from the unscaled dataset.  \n",
    "# These columns are not useful for deep learning in this context, since the model should focus on weather features rather than raw time identifiers. Display the first 5 rows after dropping them.  \n",
    "df_unscaled = df_unscaled.drop(columns=['DATE', 'MONTH'], axis=1)\n",
    "df_unscaled.head()"
   ]
  },
  {
   "cell_type": "code",
   "execution_count": 205,
   "id": "6a7fbc7b-2b2a-4d01-acb9-9b9a6762bc24",
   "metadata": {},
   "outputs": [
    {
     "data": {
      "text/html": [
       "<div>\n",
       "<style scoped>\n",
       "    .dataframe tbody tr th:only-of-type {\n",
       "        vertical-align: middle;\n",
       "    }\n",
       "\n",
       "    .dataframe tbody tr th {\n",
       "        vertical-align: top;\n",
       "    }\n",
       "\n",
       "    .dataframe thead th {\n",
       "        text-align: right;\n",
       "    }\n",
       "</style>\n",
       "<table border=\"1\" class=\"dataframe\">\n",
       "  <thead>\n",
       "    <tr style=\"text-align: right;\">\n",
       "      <th></th>\n",
       "      <th>BASEL_pleasant_weather</th>\n",
       "      <th>BELGRADE_pleasant_weather</th>\n",
       "      <th>BUDAPEST_pleasant_weather</th>\n",
       "      <th>DEBILT_pleasant_weather</th>\n",
       "      <th>DUSSELDORF_pleasant_weather</th>\n",
       "      <th>HEATHROW_pleasant_weather</th>\n",
       "      <th>KASSEL_pleasant_weather</th>\n",
       "      <th>LJUBLJANA_pleasant_weather</th>\n",
       "      <th>MAASTRICHT_pleasant_weather</th>\n",
       "      <th>MADRID_pleasant_weather</th>\n",
       "      <th>MUNCHENB_pleasant_weather</th>\n",
       "      <th>OSLO_pleasant_weather</th>\n",
       "      <th>SONNBLICK_pleasant_weather</th>\n",
       "      <th>STOCKHOLM_pleasant_weather</th>\n",
       "      <th>VALENTIA_pleasant_weather</th>\n",
       "    </tr>\n",
       "  </thead>\n",
       "  <tbody>\n",
       "    <tr>\n",
       "      <th>0</th>\n",
       "      <td>0</td>\n",
       "      <td>0</td>\n",
       "      <td>0</td>\n",
       "      <td>0</td>\n",
       "      <td>0</td>\n",
       "      <td>0</td>\n",
       "      <td>0</td>\n",
       "      <td>0</td>\n",
       "      <td>0</td>\n",
       "      <td>0</td>\n",
       "      <td>0</td>\n",
       "      <td>0</td>\n",
       "      <td>0</td>\n",
       "      <td>0</td>\n",
       "      <td>0</td>\n",
       "    </tr>\n",
       "    <tr>\n",
       "      <th>1</th>\n",
       "      <td>0</td>\n",
       "      <td>0</td>\n",
       "      <td>0</td>\n",
       "      <td>0</td>\n",
       "      <td>0</td>\n",
       "      <td>0</td>\n",
       "      <td>0</td>\n",
       "      <td>0</td>\n",
       "      <td>0</td>\n",
       "      <td>0</td>\n",
       "      <td>0</td>\n",
       "      <td>0</td>\n",
       "      <td>0</td>\n",
       "      <td>0</td>\n",
       "      <td>0</td>\n",
       "    </tr>\n",
       "    <tr>\n",
       "      <th>2</th>\n",
       "      <td>0</td>\n",
       "      <td>0</td>\n",
       "      <td>0</td>\n",
       "      <td>0</td>\n",
       "      <td>0</td>\n",
       "      <td>0</td>\n",
       "      <td>0</td>\n",
       "      <td>0</td>\n",
       "      <td>0</td>\n",
       "      <td>0</td>\n",
       "      <td>0</td>\n",
       "      <td>0</td>\n",
       "      <td>0</td>\n",
       "      <td>0</td>\n",
       "      <td>0</td>\n",
       "    </tr>\n",
       "    <tr>\n",
       "      <th>3</th>\n",
       "      <td>0</td>\n",
       "      <td>0</td>\n",
       "      <td>0</td>\n",
       "      <td>0</td>\n",
       "      <td>0</td>\n",
       "      <td>0</td>\n",
       "      <td>0</td>\n",
       "      <td>0</td>\n",
       "      <td>0</td>\n",
       "      <td>0</td>\n",
       "      <td>0</td>\n",
       "      <td>0</td>\n",
       "      <td>0</td>\n",
       "      <td>0</td>\n",
       "      <td>0</td>\n",
       "    </tr>\n",
       "    <tr>\n",
       "      <th>4</th>\n",
       "      <td>0</td>\n",
       "      <td>0</td>\n",
       "      <td>0</td>\n",
       "      <td>0</td>\n",
       "      <td>0</td>\n",
       "      <td>0</td>\n",
       "      <td>0</td>\n",
       "      <td>0</td>\n",
       "      <td>0</td>\n",
       "      <td>0</td>\n",
       "      <td>0</td>\n",
       "      <td>0</td>\n",
       "      <td>0</td>\n",
       "      <td>0</td>\n",
       "      <td>0</td>\n",
       "    </tr>\n",
       "  </tbody>\n",
       "</table>\n",
       "</div>"
      ],
      "text/plain": [
       "   BASEL_pleasant_weather  BELGRADE_pleasant_weather  \\\n",
       "0                       0                          0   \n",
       "1                       0                          0   \n",
       "2                       0                          0   \n",
       "3                       0                          0   \n",
       "4                       0                          0   \n",
       "\n",
       "   BUDAPEST_pleasant_weather  DEBILT_pleasant_weather  \\\n",
       "0                          0                        0   \n",
       "1                          0                        0   \n",
       "2                          0                        0   \n",
       "3                          0                        0   \n",
       "4                          0                        0   \n",
       "\n",
       "   DUSSELDORF_pleasant_weather  HEATHROW_pleasant_weather  \\\n",
       "0                            0                          0   \n",
       "1                            0                          0   \n",
       "2                            0                          0   \n",
       "3                            0                          0   \n",
       "4                            0                          0   \n",
       "\n",
       "   KASSEL_pleasant_weather  LJUBLJANA_pleasant_weather  \\\n",
       "0                        0                           0   \n",
       "1                        0                           0   \n",
       "2                        0                           0   \n",
       "3                        0                           0   \n",
       "4                        0                           0   \n",
       "\n",
       "   MAASTRICHT_pleasant_weather  MADRID_pleasant_weather  \\\n",
       "0                            0                        0   \n",
       "1                            0                        0   \n",
       "2                            0                        0   \n",
       "3                            0                        0   \n",
       "4                            0                        0   \n",
       "\n",
       "   MUNCHENB_pleasant_weather  OSLO_pleasant_weather  \\\n",
       "0                          0                      0   \n",
       "1                          0                      0   \n",
       "2                          0                      0   \n",
       "3                          0                      0   \n",
       "4                          0                      0   \n",
       "\n",
       "   SONNBLICK_pleasant_weather  STOCKHOLM_pleasant_weather  \\\n",
       "0                           0                           0   \n",
       "1                           0                           0   \n",
       "2                           0                           0   \n",
       "3                           0                           0   \n",
       "4                           0                           0   \n",
       "\n",
       "   VALENTIA_pleasant_weather  \n",
       "0                          0  \n",
       "1                          0  \n",
       "2                          0  \n",
       "3                          0  \n",
       "4                          0  "
      ]
     },
     "execution_count": 205,
     "metadata": {},
     "output_type": "execute_result"
    }
   ],
   "source": [
    "# Remove the 'DATE' column from the pleasant weather dataset.  \n",
    "# The exact date is not needed for model training, as it does not contribute meaningful predictive power. Show the first 5 rows after dropping the column to confirm the change.  \n",
    "df_pleasant = df_pleasant.drop(columns=['DATE'], axis=1)\n",
    "df_pleasant.head()"
   ]
  },
  {
   "cell_type": "code",
   "execution_count": 207,
   "id": "d2ab3576-cc3d-4306-b105-5ffc210aae5d",
   "metadata": {},
   "outputs": [],
   "source": [
    "# Identify and drop all columns related to the weather stations. Gdansk, Roma, and Tours from the unscaled dataset. These stations are not present in the pleasant weather dataset, and keeping them would cause mismatches between the two datasets.  \n",
    "# The list comprehension finds all column names starting with those station names.  \n",
    "cols_to_drop = [col for col in df_unscaled.columns if col.startswith(('GDANSK', 'ROMA', 'TOURS'))]\n",
    "df_unscaled = df_unscaled.drop(columns=cols_to_drop)"
   ]
  },
  {
   "cell_type": "code",
   "execution_count": 209,
   "id": "8a02860f-54a7-4779-b9f5-777dc0cc53e7",
   "metadata": {},
   "outputs": [
    {
     "data": {
      "text/plain": [
       "Index(['BASEL_cloud_cover', 'BASEL_wind_speed', 'BASEL_humidity',\n",
       "       'BASEL_pressure', 'BASEL_global_radiation', 'BASEL_precipitation',\n",
       "       'BASEL_snow_depth', 'BASEL_sunshine', 'BASEL_temp_mean',\n",
       "       'BASEL_temp_min',\n",
       "       ...\n",
       "       'VALENTIA_cloud_cover', 'VALENTIA_humidity', 'VALENTIA_pressure',\n",
       "       'VALENTIA_global_radiation', 'VALENTIA_precipitation',\n",
       "       'VALENTIA_snow_depth', 'VALENTIA_sunshine', 'VALENTIA_temp_mean',\n",
       "       'VALENTIA_temp_min', 'VALENTIA_temp_max'],\n",
       "      dtype='object', length=147)"
      ]
     },
     "execution_count": 209,
     "metadata": {},
     "output_type": "execute_result"
    }
   ],
   "source": [
    "# Display all column names of the cleaned unscaled dataset\n",
    "# This helps to verify which weather stations and observation types remain\n",
    "df_unscaled.columns"
   ]
  },
  {
   "cell_type": "code",
   "execution_count": 211,
   "id": "884aa440-6301-4853-a28b-c4ffea3a2b4d",
   "metadata": {},
   "outputs": [
    {
     "name": "stdout",
     "output_type": "stream",
     "text": [
      "Location: KASSEL\n",
      "  - wind_speed: 1\n",
      "  - humidity: 1\n",
      "  - pressure: 1\n",
      "  - global_radiation: 1\n",
      "  - precipitation: 1\n",
      "  - sunshine: 1\n",
      "  - temp_mean: 1\n",
      "  - temp_min: 1\n",
      "  - temp_max: 1\n",
      "\n",
      "Location: BELGRADE\n",
      "  - cloud_cover: 1\n",
      "  - humidity: 1\n",
      "  - pressure: 1\n",
      "  - global_radiation: 1\n",
      "  - precipitation: 1\n",
      "  - sunshine: 1\n",
      "  - temp_mean: 1\n",
      "  - temp_min: 1\n",
      "  - temp_max: 1\n",
      "\n",
      "Location: BUDAPEST\n",
      "  - cloud_cover: 1\n",
      "  - humidity: 1\n",
      "  - pressure: 1\n",
      "  - global_radiation: 1\n",
      "  - precipitation: 1\n",
      "  - sunshine: 1\n",
      "  - temp_mean: 1\n",
      "  - temp_min: 1\n",
      "  - temp_max: 1\n",
      "\n",
      "Location: MUNCHENB\n",
      "  - cloud_cover: 1\n",
      "  - humidity: 1\n",
      "  - global_radiation: 1\n",
      "  - precipitation: 1\n",
      "  - snow_depth: 1\n",
      "  - sunshine: 1\n",
      "  - temp_mean: 1\n",
      "  - temp_min: 1\n",
      "  - temp_max: 1\n",
      "\n",
      "Location: BASEL\n",
      "  - cloud_cover: 1\n",
      "  - wind_speed: 1\n",
      "  - humidity: 1\n",
      "  - pressure: 1\n",
      "  - global_radiation: 1\n",
      "  - precipitation: 1\n",
      "  - snow_depth: 1\n",
      "  - sunshine: 1\n",
      "  - temp_mean: 1\n",
      "  - temp_min: 1\n",
      "  - temp_max: 1\n",
      "\n",
      "Location: VALENTIA\n",
      "  - cloud_cover: 1\n",
      "  - humidity: 1\n",
      "  - pressure: 1\n",
      "  - global_radiation: 1\n",
      "  - precipitation: 1\n",
      "  - snow_depth: 1\n",
      "  - sunshine: 1\n",
      "  - temp_mean: 1\n",
      "  - temp_min: 1\n",
      "  - temp_max: 1\n",
      "\n",
      "Location: HEATHROW\n",
      "  - cloud_cover: 1\n",
      "  - humidity: 1\n",
      "  - pressure: 1\n",
      "  - global_radiation: 1\n",
      "  - precipitation: 1\n",
      "  - snow_depth: 1\n",
      "  - sunshine: 1\n",
      "  - temp_mean: 1\n",
      "  - temp_min: 1\n",
      "  - temp_max: 1\n",
      "\n",
      "Location: SONNBLICK\n",
      "  - cloud_cover: 1\n",
      "  - wind_speed: 1\n",
      "  - humidity: 1\n",
      "  - pressure: 1\n",
      "  - global_radiation: 1\n",
      "  - precipitation: 1\n",
      "  - sunshine: 1\n",
      "  - temp_mean: 1\n",
      "  - temp_min: 1\n",
      "  - temp_max: 1\n",
      "\n",
      "Location: MAASTRICHT\n",
      "  - cloud_cover: 1\n",
      "  - wind_speed: 1\n",
      "  - humidity: 1\n",
      "  - pressure: 1\n",
      "  - global_radiation: 1\n",
      "  - precipitation: 1\n",
      "  - sunshine: 1\n",
      "  - temp_mean: 1\n",
      "  - temp_min: 1\n",
      "  - temp_max: 1\n",
      "\n",
      "Location: DUSSELDORF\n",
      "  - cloud_cover: 1\n",
      "  - wind_speed: 1\n",
      "  - humidity: 1\n",
      "  - pressure: 1\n",
      "  - global_radiation: 1\n",
      "  - precipitation: 1\n",
      "  - snow_depth: 1\n",
      "  - sunshine: 1\n",
      "  - temp_mean: 1\n",
      "  - temp_min: 1\n",
      "  - temp_max: 1\n",
      "\n",
      "Location: LJUBLJANA\n",
      "  - cloud_cover: 1\n",
      "  - wind_speed: 1\n",
      "  - humidity: 1\n",
      "  - pressure: 1\n",
      "  - global_radiation: 1\n",
      "  - precipitation: 1\n",
      "  - sunshine: 1\n",
      "  - temp_mean: 1\n",
      "  - temp_min: 1\n",
      "  - temp_max: 1\n",
      "\n",
      "Location: OSLO\n",
      "  - cloud_cover: 1\n",
      "  - wind_speed: 1\n",
      "  - humidity: 1\n",
      "  - pressure: 1\n",
      "  - global_radiation: 1\n",
      "  - precipitation: 1\n",
      "  - snow_depth: 1\n",
      "  - sunshine: 1\n",
      "  - temp_mean: 1\n",
      "  - temp_min: 1\n",
      "  - temp_max: 1\n",
      "\n",
      "Location: STOCKHOLM\n",
      "  - cloud_cover: 1\n",
      "  - pressure: 1\n",
      "  - global_radiation: 1\n",
      "  - precipitation: 1\n",
      "  - sunshine: 1\n",
      "  - temp_mean: 1\n",
      "  - temp_min: 1\n",
      "  - temp_max: 1\n",
      "\n",
      "Location: DEBILT\n",
      "  - cloud_cover: 1\n",
      "  - wind_speed: 1\n",
      "  - humidity: 1\n",
      "  - pressure: 1\n",
      "  - global_radiation: 1\n",
      "  - precipitation: 1\n",
      "  - sunshine: 1\n",
      "  - temp_mean: 1\n",
      "  - temp_min: 1\n",
      "  - temp_max: 1\n",
      "\n",
      "Location: MADRID\n",
      "  - cloud_cover: 1\n",
      "  - wind_speed: 1\n",
      "  - humidity: 1\n",
      "  - pressure: 1\n",
      "  - global_radiation: 1\n",
      "  - precipitation: 1\n",
      "  - sunshine: 1\n",
      "  - temp_mean: 1\n",
      "  - temp_min: 1\n",
      "  - temp_max: 1\n",
      "\n"
     ]
    }
   ],
   "source": [
    "# Count the number of different observation/measurement types for each weather station\n",
    "# This helps identify which measurements (e.g., temperature, humidity, pressure) are available for each location and ensures consistency across the dataset before deep learning.\n",
    "# Extract location names \n",
    "locations = set([col.split('_')[0] for col in df_unscaled.columns])\n",
    "\n",
    "# Create a dictionary to store measurement counts for each location\n",
    "measurement_counts = {location: {} for location in locations}\n",
    "\n",
    "# Count occurrences of each measurement type for each location\n",
    "for col in df_unscaled.columns:\n",
    "    parts = col.split('_') \n",
    "    location = parts[0] \n",
    "    measurement = '_'.join(parts[1:])  # Join remaining parts if there are more than two\n",
    "\n",
    "    if measurement not in measurement_counts[location]:\n",
    "        measurement_counts[location][measurement] = 1\n",
    "    else:\n",
    "        measurement_counts[location][measurement] += 1\n",
    "\n",
    "# Print the measurement counts for each location\n",
    "for location, measurements in measurement_counts.items():\n",
    "    print(f\"Location: {location}\")\n",
    "    for measurement, count in measurements.items():\n",
    "        print(f\"  - {measurement}: {count}\")\n",
    "    print()"
   ]
  },
  {
   "cell_type": "markdown",
   "id": "79ff7d0f-67a5-49be-8d8b-b96377665e9a",
   "metadata": {},
   "source": [
    "The maximum number of measurements recorded at a single location is 11, which include:\n",
    "\n",
    "cloud_cover: 1\n",
    "\n",
    "wind_speed: 1\n",
    "\n",
    "humidity: 1\n",
    "\n",
    "pressure: 1\n",
    "\n",
    "global_radiation: 1\n",
    "\n",
    "precipitation: 1\n",
    "\n",
    "snow_depth: 1\n",
    "\n",
    "sunshine: 1\n",
    "\n",
    "temp_mean: 1\n",
    "\n",
    "temp_min: 1\n",
    "\n",
    "temp_max: 1\n",
    "\n",
    "Missing measurements by location:\n",
    "\n",
    "Maastricht: snow_depth\n",
    "\n",
    "Madrid: snow_depth\n",
    "\n",
    "Heathrow: wind_speed\n",
    "\n",
    "Kassel: cloud_cover, snow_depth\n",
    "\n",
    "Belgrade: wind_speed, snow_depth\n",
    "\n",
    "Valentia: wind_speed\n",
    "\n",
    "Budapest: wind_speed, snow_depth\n",
    "\n",
    "Ljubljana: snow_depth\n",
    "\n",
    "Sonnblick: snow_depth\n",
    "\n",
    "Stockholm: wind_speed, humidity, snow_depth\n",
    "\n",
    "Debilt: snow_depth\n",
    "\n",
    "Munchenb: wind_speed, pressure"
   ]
  },
  {
   "cell_type": "code",
   "execution_count": 214,
   "id": "7cb9d998-e71b-4b4a-af26-f9eae37a71a2",
   "metadata": {},
   "outputs": [],
   "source": [
    "# Remove columns for wind_speed and snow_depth since these measurements are frequently missing across multiple locations.\n",
    "# First, we create a list of all columns that end with 'wind_speed' or 'snow_depth'.\n",
    "# Then, we drop these columns from df_unscaled to clean the dataset for modeling.\n",
    "\n",
    "cols_to_drop = [col for col in df_unscaled.columns if col.endswith(('wind_speed', 'snow_depth'))]\n",
    "df_unscaled = df_unscaled.drop(columns=cols_to_drop)"
   ]
  },
  {
   "cell_type": "code",
   "execution_count": 216,
   "id": "fc8b860b-03b0-4686-8e26-18e3dc9e3e79",
   "metadata": {},
   "outputs": [
    {
     "data": {
      "text/html": [
       "<div>\n",
       "<style scoped>\n",
       "    .dataframe tbody tr th:only-of-type {\n",
       "        vertical-align: middle;\n",
       "    }\n",
       "\n",
       "    .dataframe tbody tr th {\n",
       "        vertical-align: top;\n",
       "    }\n",
       "\n",
       "    .dataframe thead th {\n",
       "        text-align: right;\n",
       "    }\n",
       "</style>\n",
       "<table border=\"1\" class=\"dataframe\">\n",
       "  <thead>\n",
       "    <tr style=\"text-align: right;\">\n",
       "      <th></th>\n",
       "      <th>BASEL_cloud_cover</th>\n",
       "      <th>BASEL_humidity</th>\n",
       "      <th>BASEL_pressure</th>\n",
       "      <th>BASEL_global_radiation</th>\n",
       "      <th>BASEL_precipitation</th>\n",
       "      <th>BASEL_sunshine</th>\n",
       "      <th>BASEL_temp_mean</th>\n",
       "      <th>BASEL_temp_min</th>\n",
       "      <th>BASEL_temp_max</th>\n",
       "      <th>BELGRADE_cloud_cover</th>\n",
       "      <th>...</th>\n",
       "      <th>STOCKHOLM_temp_max</th>\n",
       "      <th>VALENTIA_cloud_cover</th>\n",
       "      <th>VALENTIA_humidity</th>\n",
       "      <th>VALENTIA_pressure</th>\n",
       "      <th>VALENTIA_global_radiation</th>\n",
       "      <th>VALENTIA_precipitation</th>\n",
       "      <th>VALENTIA_sunshine</th>\n",
       "      <th>VALENTIA_temp_mean</th>\n",
       "      <th>VALENTIA_temp_min</th>\n",
       "      <th>VALENTIA_temp_max</th>\n",
       "    </tr>\n",
       "  </thead>\n",
       "  <tbody>\n",
       "    <tr>\n",
       "      <th>0</th>\n",
       "      <td>7</td>\n",
       "      <td>0.85</td>\n",
       "      <td>1.018</td>\n",
       "      <td>0.32</td>\n",
       "      <td>0.09</td>\n",
       "      <td>0.7</td>\n",
       "      <td>6.5</td>\n",
       "      <td>0.8</td>\n",
       "      <td>10.9</td>\n",
       "      <td>1</td>\n",
       "      <td>...</td>\n",
       "      <td>4.9</td>\n",
       "      <td>5</td>\n",
       "      <td>0.88</td>\n",
       "      <td>1.0003</td>\n",
       "      <td>0.45</td>\n",
       "      <td>0.34</td>\n",
       "      <td>4.7</td>\n",
       "      <td>8.5</td>\n",
       "      <td>6.0</td>\n",
       "      <td>10.9</td>\n",
       "    </tr>\n",
       "    <tr>\n",
       "      <th>1</th>\n",
       "      <td>6</td>\n",
       "      <td>0.84</td>\n",
       "      <td>1.018</td>\n",
       "      <td>0.36</td>\n",
       "      <td>1.05</td>\n",
       "      <td>1.1</td>\n",
       "      <td>6.1</td>\n",
       "      <td>3.3</td>\n",
       "      <td>10.1</td>\n",
       "      <td>6</td>\n",
       "      <td>...</td>\n",
       "      <td>5.0</td>\n",
       "      <td>7</td>\n",
       "      <td>0.91</td>\n",
       "      <td>1.0007</td>\n",
       "      <td>0.25</td>\n",
       "      <td>0.84</td>\n",
       "      <td>0.7</td>\n",
       "      <td>8.9</td>\n",
       "      <td>5.6</td>\n",
       "      <td>12.1</td>\n",
       "    </tr>\n",
       "    <tr>\n",
       "      <th>2</th>\n",
       "      <td>8</td>\n",
       "      <td>0.90</td>\n",
       "      <td>1.018</td>\n",
       "      <td>0.18</td>\n",
       "      <td>0.30</td>\n",
       "      <td>0.0</td>\n",
       "      <td>8.5</td>\n",
       "      <td>5.1</td>\n",
       "      <td>9.9</td>\n",
       "      <td>6</td>\n",
       "      <td>...</td>\n",
       "      <td>4.1</td>\n",
       "      <td>7</td>\n",
       "      <td>0.91</td>\n",
       "      <td>1.0096</td>\n",
       "      <td>0.17</td>\n",
       "      <td>0.08</td>\n",
       "      <td>0.1</td>\n",
       "      <td>10.5</td>\n",
       "      <td>8.1</td>\n",
       "      <td>12.9</td>\n",
       "    </tr>\n",
       "    <tr>\n",
       "      <th>3</th>\n",
       "      <td>3</td>\n",
       "      <td>0.92</td>\n",
       "      <td>1.018</td>\n",
       "      <td>0.58</td>\n",
       "      <td>0.00</td>\n",
       "      <td>4.1</td>\n",
       "      <td>6.3</td>\n",
       "      <td>3.8</td>\n",
       "      <td>10.6</td>\n",
       "      <td>8</td>\n",
       "      <td>...</td>\n",
       "      <td>2.3</td>\n",
       "      <td>7</td>\n",
       "      <td>0.86</td>\n",
       "      <td>1.0184</td>\n",
       "      <td>0.13</td>\n",
       "      <td>0.98</td>\n",
       "      <td>0.0</td>\n",
       "      <td>7.4</td>\n",
       "      <td>7.3</td>\n",
       "      <td>10.6</td>\n",
       "    </tr>\n",
       "    <tr>\n",
       "      <th>4</th>\n",
       "      <td>6</td>\n",
       "      <td>0.95</td>\n",
       "      <td>1.018</td>\n",
       "      <td>0.65</td>\n",
       "      <td>0.14</td>\n",
       "      <td>5.4</td>\n",
       "      <td>3.0</td>\n",
       "      <td>-0.7</td>\n",
       "      <td>6.0</td>\n",
       "      <td>8</td>\n",
       "      <td>...</td>\n",
       "      <td>4.3</td>\n",
       "      <td>3</td>\n",
       "      <td>0.80</td>\n",
       "      <td>1.0328</td>\n",
       "      <td>0.46</td>\n",
       "      <td>0.00</td>\n",
       "      <td>5.7</td>\n",
       "      <td>5.7</td>\n",
       "      <td>3.0</td>\n",
       "      <td>8.4</td>\n",
       "    </tr>\n",
       "  </tbody>\n",
       "</table>\n",
       "<p>5 rows × 132 columns</p>\n",
       "</div>"
      ],
      "text/plain": [
       "   BASEL_cloud_cover  BASEL_humidity  BASEL_pressure  BASEL_global_radiation  \\\n",
       "0                  7            0.85           1.018                    0.32   \n",
       "1                  6            0.84           1.018                    0.36   \n",
       "2                  8            0.90           1.018                    0.18   \n",
       "3                  3            0.92           1.018                    0.58   \n",
       "4                  6            0.95           1.018                    0.65   \n",
       "\n",
       "   BASEL_precipitation  BASEL_sunshine  BASEL_temp_mean  BASEL_temp_min  \\\n",
       "0                 0.09             0.7              6.5             0.8   \n",
       "1                 1.05             1.1              6.1             3.3   \n",
       "2                 0.30             0.0              8.5             5.1   \n",
       "3                 0.00             4.1              6.3             3.8   \n",
       "4                 0.14             5.4              3.0            -0.7   \n",
       "\n",
       "   BASEL_temp_max  BELGRADE_cloud_cover  ...  STOCKHOLM_temp_max  \\\n",
       "0            10.9                     1  ...                 4.9   \n",
       "1            10.1                     6  ...                 5.0   \n",
       "2             9.9                     6  ...                 4.1   \n",
       "3            10.6                     8  ...                 2.3   \n",
       "4             6.0                     8  ...                 4.3   \n",
       "\n",
       "   VALENTIA_cloud_cover  VALENTIA_humidity  VALENTIA_pressure  \\\n",
       "0                     5               0.88             1.0003   \n",
       "1                     7               0.91             1.0007   \n",
       "2                     7               0.91             1.0096   \n",
       "3                     7               0.86             1.0184   \n",
       "4                     3               0.80             1.0328   \n",
       "\n",
       "   VALENTIA_global_radiation  VALENTIA_precipitation  VALENTIA_sunshine  \\\n",
       "0                       0.45                    0.34                4.7   \n",
       "1                       0.25                    0.84                0.7   \n",
       "2                       0.17                    0.08                0.1   \n",
       "3                       0.13                    0.98                0.0   \n",
       "4                       0.46                    0.00                5.7   \n",
       "\n",
       "   VALENTIA_temp_mean  VALENTIA_temp_min  VALENTIA_temp_max  \n",
       "0                 8.5                6.0               10.9  \n",
       "1                 8.9                5.6               12.1  \n",
       "2                10.5                8.1               12.9  \n",
       "3                 7.4                7.3               10.6  \n",
       "4                 5.7                3.0                8.4  \n",
       "\n",
       "[5 rows x 132 columns]"
      ]
     },
     "execution_count": 216,
     "metadata": {},
     "output_type": "execute_result"
    }
   ],
   "source": [
    "# Display the first few rows of the cleaned dataset to verify that the wind_speed and snow_depth columns have been removed\n",
    "df_unscaled.head()"
   ]
  },
  {
   "cell_type": "code",
   "execution_count": 218,
   "id": "aadffd0d-9665-41fa-9be5-b1f40ad27993",
   "metadata": {},
   "outputs": [
    {
     "name": "stdout",
     "output_type": "stream",
     "text": [
      "       KASSEL_cloud_cover  KASSEL_humidity  KASSEL_pressure  \\\n",
      "0                     8.0             0.82           1.0094   \n",
      "1                     6.0             0.86           1.0086   \n",
      "2                     8.0             0.91           1.0129   \n",
      "3                     6.0             0.87           1.0290   \n",
      "4                     7.0             0.86           1.0262   \n",
      "...                   ...              ...              ...   \n",
      "22945                 4.0             0.77           1.0161   \n",
      "22946                 3.0             0.77           1.0161   \n",
      "22947                 3.0             0.77           1.0161   \n",
      "22948                 3.0             0.77           1.0161   \n",
      "22949                 3.0             0.77           1.0161   \n",
      "\n",
      "       KASSEL_global_radiation  KASSEL_precipitation  KASSEL_sunshine  \\\n",
      "0                         0.28                  0.48              1.6   \n",
      "1                         0.12                  0.27              0.0   \n",
      "2                         0.12                  0.60              0.0   \n",
      "3                         0.12                  0.00              0.0   \n",
      "4                         0.13                  0.71              0.0   \n",
      "...                        ...                   ...              ...   \n",
      "22945                     1.14                  0.19              4.0   \n",
      "22946                     1.14                  0.19              4.0   \n",
      "22947                     1.14                  0.19              4.0   \n",
      "22948                     1.14                  0.19              4.0   \n",
      "22949                     1.14                  0.19              4.0   \n",
      "\n",
      "       KASSEL_temp_mean  KASSEL_temp_min  KASSEL_temp_max  \\\n",
      "0                   7.9              3.9              9.4   \n",
      "1                   7.7              6.8              9.1   \n",
      "2                   6.5              6.0              8.0   \n",
      "3                   5.8              5.2              6.5   \n",
      "4                   5.4              3.7              6.0   \n",
      "...                 ...              ...              ...   \n",
      "22945               9.1              5.4             13.1   \n",
      "22946               9.1              5.4             13.1   \n",
      "22947               9.1              5.4             13.1   \n",
      "22948               9.1              5.4             13.1   \n",
      "22949               9.1              5.4             13.1   \n",
      "\n",
      "       MUNCHENB_cloud_cover  ...  MUNCHENB_temp_max  STOCKHOLM_cloud_cover  \\\n",
      "0                         5  ...               10.4                      5   \n",
      "1                         6  ...               10.2                      5   \n",
      "2                         6  ...                8.0                      5   \n",
      "3                         6  ...                5.4                      5   \n",
      "4                         5  ...                6.0                      5   \n",
      "...                     ...  ...                ...                    ...   \n",
      "22945                     2  ...               22.2                      5   \n",
      "22946                     6  ...               26.1                      5   \n",
      "22947                     7  ...               26.2                      5   \n",
      "22948                     6  ...               23.5                      5   \n",
      "22949                     5  ...               19.6                      5   \n",
      "\n",
      "       STOCKHOLM_humidity  STOCKHOLM_pressure  STOCKHOLM_global_radiation  \\\n",
      "0                    0.98              1.0114                        0.05   \n",
      "1                    0.62              1.0114                        0.05   \n",
      "2                    0.69              1.0114                        0.05   \n",
      "3                    0.98              1.0114                        0.05   \n",
      "4                    0.96              1.0114                        0.05   \n",
      "...                   ...                 ...                         ...   \n",
      "22945                0.98              1.0161                        1.11   \n",
      "22946                1.00              1.0122                        1.11   \n",
      "22947                0.85              1.0059                        1.11   \n",
      "22948                0.94              1.0160                        1.11   \n",
      "22949                0.97              1.0164                        1.11   \n",
      "\n",
      "       STOCKHOLM_precipitation  STOCKHOLM_sunshine  STOCKHOLM_temp_mean  \\\n",
      "0                         0.32                 0.0                  4.2   \n",
      "1                         0.06                 0.0                  4.0   \n",
      "2                         0.02                 0.0                  2.4   \n",
      "3                         0.00                 0.0                  1.2   \n",
      "4                         1.32                 0.0                  3.3   \n",
      "...                        ...                 ...                  ...   \n",
      "22945                     0.14                 3.2                 11.5   \n",
      "22946                     0.14                 0.8                 12.5   \n",
      "22947                     0.14                 6.9                 13.1   \n",
      "22948                     0.14                 8.4                  7.5   \n",
      "22949                     0.14                 0.4                  9.7   \n",
      "\n",
      "       STOCKHOLM_temp_min  STOCKHOLM_temp_max  \n",
      "0                     2.2                 4.9  \n",
      "1                     3.0                 5.0  \n",
      "2                     1.3                 4.1  \n",
      "3                     0.4                 2.3  \n",
      "4                     0.8                 4.3  \n",
      "...                   ...                 ...  \n",
      "22945                 8.2                14.2  \n",
      "22946                11.0                14.3  \n",
      "22947                12.1                14.4  \n",
      "22948                 5.1                12.4  \n",
      "22949                 5.0                12.6  \n",
      "\n",
      "[22950 rows x 27 columns]\n"
     ]
    },
    {
     "name": "stderr",
     "output_type": "stream",
     "text": [
      "C:\\Users\\Jacques\\AppData\\Local\\Temp\\ipykernel_28624\\3048401554.py:36: FutureWarning: A value is trying to be set on a copy of a DataFrame or Series through chained assignment using an inplace method.\n",
      "The behavior will change in pandas 3.0. This inplace method will never work because the intermediate object on which we are setting values always behaves as a copy.\n",
      "\n",
      "For example, when doing 'df[col].method(value, inplace=True)', try using 'df.method({col: value}, inplace=True)' or df[col] = df[col].method(value) instead, to perform the operation inplace on the original object.\n",
      "\n",
      "\n",
      "  df_unscaled[target_col].fillna(df_unscaled[source_col], inplace=True)\n",
      "C:\\Users\\Jacques\\AppData\\Local\\Temp\\ipykernel_28624\\3048401554.py:36: FutureWarning: A value is trying to be set on a copy of a DataFrame or Series through chained assignment using an inplace method.\n",
      "The behavior will change in pandas 3.0. This inplace method will never work because the intermediate object on which we are setting values always behaves as a copy.\n",
      "\n",
      "For example, when doing 'df[col].method(value, inplace=True)', try using 'df.method({col: value}, inplace=True)' or df[col] = df[col].method(value) instead, to perform the operation inplace on the original object.\n",
      "\n",
      "\n",
      "  df_unscaled[target_col].fillna(df_unscaled[source_col], inplace=True)\n",
      "C:\\Users\\Jacques\\AppData\\Local\\Temp\\ipykernel_28624\\3048401554.py:36: FutureWarning: A value is trying to be set on a copy of a DataFrame or Series through chained assignment using an inplace method.\n",
      "The behavior will change in pandas 3.0. This inplace method will never work because the intermediate object on which we are setting values always behaves as a copy.\n",
      "\n",
      "For example, when doing 'df[col].method(value, inplace=True)', try using 'df.method({col: value}, inplace=True)' or df[col] = df[col].method(value) instead, to perform the operation inplace on the original object.\n",
      "\n",
      "\n",
      "  df_unscaled[target_col].fillna(df_unscaled[source_col], inplace=True)\n"
     ]
    }
   ],
   "source": [
    "# Fill in missing measurements for specific locations (Kassel, Stockholm, Munchenb) using data from nearby stations\n",
    "# Ensures the new columns are inserted in the correct order based on the measurement type\n",
    "# After processing, verify that the columns for the target locations have been added correctly\n",
    "\n",
    "# Define relationships between locations\n",
    "location_pairs = {\n",
    "    'KASSEL': 'LJUBLJANA',\n",
    "    'STOCKHOLM': 'OSLO',\n",
    "    'MUNCHENB': 'SONNBLICK'\n",
    "}\n",
    "\n",
    "# Define the desired order of measurements\n",
    "measurement_order = ['cloud_cover', 'humidity', 'pressure', 'global_radiation', \n",
    "                     'precipitation', 'sunshine', 'temp_mean', 'temp_min', 'temp_max']\n",
    "\n",
    "# Function to fill missing values and insert in correct position\n",
    "def fill_missing_values(df_unscaled, location, measurement, neighbor):\n",
    "    \"\"\"\n",
    "    Fills missing values for a given location and measurement using data from a neighbor location.\n",
    "    Inserts the new column in the correct position based on the measurement order.\n",
    "    \"\"\"\n",
    "    source_col = f'{neighbor}_{measurement}'\n",
    "    target_col = f'{location}_{measurement}'\n",
    "\n",
    "    # Determine the insertion index \n",
    "    if measurement == measurement_order[0]:  \n",
    "        location_columns = [col for col in df_unscaled.columns if col.startswith(location)]\n",
    "        insert_index = df_unscaled.columns.get_loc(location_columns[0]) if location_columns else 0\n",
    "    else:\n",
    "        insert_index = df_unscaled.columns.get_loc(f'{location}_{measurement_order[measurement_order.index(measurement) - 1]}') + 1 \n",
    "\n",
    "    # Create the new column with missing values and insert it at the correct position\n",
    "    df_unscaled.insert(insert_index, target_col, np.nan) \n",
    "\n",
    "    # Fill missing values in the new column\n",
    "    df_unscaled[target_col].fillna(df_unscaled[source_col], inplace=True) \n",
    "\n",
    "    return df_unscaled\n",
    "\n",
    "# Fill missing values for each location and measurement\n",
    "for location, neighbor in location_pairs.items():\n",
    "    for measurement in measurement_order:\n",
    "        if f'{location}_{measurement}' not in df_unscaled.columns:  \n",
    "            df_unscaled = fill_missing_values(df_unscaled, location, measurement, neighbor)\n",
    "\n",
    "# Checking new columns for existence and location\n",
    "selected_columns = [col for col in df_unscaled.columns if col.startswith(('KASSEL', 'STOCKHOLM', 'MUNCHENB'))]\n",
    "print(df_unscaled[selected_columns])"
   ]
  },
  {
   "cell_type": "code",
   "execution_count": 220,
   "id": "fea14a1c-c509-4233-8af6-214c3a271580",
   "metadata": {},
   "outputs": [
    {
     "name": "stdout",
     "output_type": "stream",
     "text": [
      "       MUNCHENB_cloud_cover  MUNCHENB_humidity  MUNCHENB_pressure  \\\n",
      "0                         5               0.67             1.0304   \n",
      "1                         6               0.72             1.0292   \n",
      "2                         6               0.91             1.0320   \n",
      "3                         6               0.90             1.0443   \n",
      "4                         5               0.85             1.0430   \n",
      "...                     ...                ...                ...   \n",
      "22945                     2               0.76             1.0263   \n",
      "22946                     6               0.70             1.0263   \n",
      "22947                     7               0.64             1.0263   \n",
      "22948                     6               0.75             1.0263   \n",
      "22949                     5               0.83             1.0263   \n",
      "\n",
      "       MUNCHENB_global_radiation  MUNCHENB_precipitation  MUNCHENB_sunshine  \\\n",
      "0                           0.20                    0.10                0.0   \n",
      "1                           0.61                    0.30                5.1   \n",
      "2                           0.20                    0.30                0.0   \n",
      "3                           0.20                    0.01                0.0   \n",
      "4                           0.65                    0.96                5.6   \n",
      "...                          ...                     ...                ...   \n",
      "22945                       1.37                    0.26                9.7   \n",
      "22946                       1.37                    0.26                7.7   \n",
      "22947                       1.37                    0.26                6.8   \n",
      "22948                       1.37                    0.26                8.3   \n",
      "22949                       1.37                    0.26                6.8   \n",
      "\n",
      "       MUNCHENB_temp_mean  MUNCHENB_temp_min  MUNCHENB_temp_max  \n",
      "0                     6.9                1.1               10.4  \n",
      "1                     6.2                4.2               10.2  \n",
      "2                     5.8                4.0                8.0  \n",
      "3                     3.9                3.2                5.4  \n",
      "4                     1.8               -3.0                6.0  \n",
      "...                   ...                ...                ...  \n",
      "22945                14.3                8.3               22.2  \n",
      "22946                16.1                8.9               26.1  \n",
      "22947                17.4               11.2               26.2  \n",
      "22948                14.5                9.2               23.5  \n",
      "22949                12.9                7.9               19.6  \n",
      "\n",
      "[22950 rows x 9 columns]\n"
     ]
    }
   ],
   "source": [
    "# Verify that the new columns for Munchenb have been successfully added and are in the correct order within the DataFrame\n",
    "selected_columns = [col for col in df_unscaled.columns if col.startswith('MUNCHENB')]\n",
    "print(df_unscaled[selected_columns])"
   ]
  },
  {
   "cell_type": "code",
   "execution_count": 222,
   "id": "885cd00c-9ead-4ae0-a22b-3885c9188517",
   "metadata": {},
   "outputs": [
    {
     "data": {
      "text/plain": [
       "(22950, 135)"
      ]
     },
     "execution_count": 222,
     "metadata": {},
     "output_type": "execute_result"
    }
   ],
   "source": [
    "# Check the overall shape of the DataFrame after cleaning and adding missing columns\n",
    "# This shows the total number of rows and columns currently in df_unscaled\n",
    "df_unscaled.shape"
   ]
  },
  {
   "cell_type": "code",
   "execution_count": 224,
   "id": "46e9aa01-1dcb-43e8-86af-7ae1dcb35232",
   "metadata": {},
   "outputs": [
    {
     "data": {
      "text/plain": [
       "(22950, 15)"
      ]
     },
     "execution_count": 224,
     "metadata": {},
     "output_type": "execute_result"
    }
   ],
   "source": [
    "# Check the shape of the pleasant weather DataFrame\n",
    "# This shows the total number of rows and columns in df_pleasant, ensuring it matches expectations\n",
    "df_pleasant.shape"
   ]
  },
  {
   "cell_type": "code",
   "execution_count": 226,
   "id": "29c548dd-bacc-4c6a-b288-1b16175c92ac",
   "metadata": {},
   "outputs": [],
   "source": [
    "# Export the cleaned weather dataset to a CSV file\n",
    "# This allows us to save the preprocessed data for future use in modeling without repeating the cleaning steps\n",
    "df_unscaled.to_csv(os.path.join(path, 'weather_clean.csv'), index=False)"
   ]
  },
  {
   "cell_type": "markdown",
   "id": "ee75058e-2e15-4a67-a701-039e20e48eef",
   "metadata": {},
   "source": [
    "# 3. Reshape data for deep learning models"
   ]
  },
  {
   "cell_type": "code",
   "execution_count": 228,
   "id": "365a4aab-9d44-4f0c-998f-3c6df4b54f4a",
   "metadata": {},
   "outputs": [],
   "source": [
    "# Assign feature data to X and target labels to y for model training\n",
    "X = df_unscaled\n",
    "y = df_pleasant"
   ]
  },
  {
   "cell_type": "code",
   "execution_count": 229,
   "id": "87d2d0af-65f2-42db-b4b9-4b2208229949",
   "metadata": {},
   "outputs": [],
   "source": [
    "# Convert the feature (X) and target (y) dataFrames into NumPy arrays for compatibility with deep learning models\n",
    "X = np.array(X)\n",
    "y = np.array(y)"
   ]
  },
  {
   "cell_type": "code",
   "execution_count": 233,
   "id": "cd15a942-eb02-4fd5-a9d1-9d386c0ff31a",
   "metadata": {},
   "outputs": [
    {
     "data": {
      "text/plain": [
       "array([[ 7.    ,  0.85  ,  1.018 , ...,  8.5   ,  6.    , 10.9   ],\n",
       "       [ 6.    ,  0.84  ,  1.018 , ...,  8.9   ,  5.6   , 12.1   ],\n",
       "       [ 8.    ,  0.9   ,  1.018 , ..., 10.5   ,  8.1   , 12.9   ],\n",
       "       ...,\n",
       "       [ 4.    ,  0.76  ,  1.0227, ..., 10.7   ,  7.9   , 13.5   ],\n",
       "       [ 5.    ,  0.8   ,  1.0212, ..., 10.7   ,  7.9   , 13.5   ],\n",
       "       [ 5.    ,  0.84  ,  1.0193, ..., 10.7   ,  7.9   , 13.5   ]])"
      ]
     },
     "execution_count": 233,
     "metadata": {},
     "output_type": "execute_result"
    }
   ],
   "source": [
    "# Display the X array to verify its structure and contents before reshaping for the model\n",
    "X"
   ]
  },
  {
   "cell_type": "code",
   "execution_count": 235,
   "id": "435b2a26-5258-451a-a894-d58c316403e1",
   "metadata": {},
   "outputs": [
    {
     "data": {
      "text/plain": [
       "array([[0, 0, 0, ..., 0, 0, 0],\n",
       "       [0, 0, 0, ..., 0, 0, 0],\n",
       "       [0, 0, 0, ..., 0, 0, 0],\n",
       "       ...,\n",
       "       [0, 0, 0, ..., 0, 0, 0],\n",
       "       [0, 0, 0, ..., 0, 0, 0],\n",
       "       [0, 0, 0, ..., 0, 0, 0]], dtype=int64)"
      ]
     },
     "execution_count": 235,
     "metadata": {},
     "output_type": "execute_result"
    }
   ],
   "source": [
    "# Display the y array to inspect the target values and ensure they align with the features in X\n",
    "y"
   ]
  },
  {
   "cell_type": "code",
   "execution_count": 237,
   "id": "419ec179-b603-4d77-bb07-e9aa1944666d",
   "metadata": {},
   "outputs": [],
   "source": [
    "# Reshape X into a 3D array with dimensions (samples, timesteps, features). \n",
    "# This is required for deep learning models like CNNs and LSTMs which expect 3D input.\n",
    "X = X.reshape(-1,15,9)"
   ]
  },
  {
   "cell_type": "code",
   "execution_count": 239,
   "id": "9b884805-b4b3-409e-9426-3f3dc532a3d3",
   "metadata": {},
   "outputs": [
    {
     "data": {
      "text/plain": [
       "(22950, 15, 9)"
      ]
     },
     "execution_count": 239,
     "metadata": {},
     "output_type": "execute_result"
    }
   ],
   "source": [
    "# Check the new shape of X after reshaping to confirm it has the expected 3D structure (samples, timesteps, features)\n",
    "X.shape"
   ]
  },
  {
   "cell_type": "code",
   "execution_count": 241,
   "id": "653ce508-76c6-4352-b7f5-ca3dd039d773",
   "metadata": {},
   "outputs": [
    {
     "data": {
      "text/plain": [
       "(22950, 15)"
      ]
     },
     "execution_count": 241,
     "metadata": {},
     "output_type": "execute_result"
    }
   ],
   "source": [
    "# Check the shape of y to confirm it matches the number of samples in X and is ready for model training\n",
    "y.shape"
   ]
  },
  {
   "cell_type": "markdown",
   "id": "bffa9c94-f36f-4815-b025-fc78e7c556e4",
   "metadata": {},
   "source": [
    "# 4. Divide data into training and test sets"
   ]
  },
  {
   "cell_type": "code",
   "execution_count": 244,
   "id": "840e7725-2314-4232-9f37-d2a0a9d36137",
   "metadata": {},
   "outputs": [],
   "source": [
    "# Split the dataset into training and testing sets to evaluate model performance later. \n",
    "# The random_state ensures reproducibility of the split.\n",
    "X_train, X_test, y_train, y_test = train_test_split(X,y,random_state = 42)"
   ]
  },
  {
   "cell_type": "markdown",
   "id": "07760a9a-4030-4565-bc1b-22682a88bf51",
   "metadata": {},
   "source": [
    "# 5. Build and configure keras neural network"
   ]
  },
  {
   "cell_type": "code",
   "execution_count": 247,
   "id": "9bbe9567-cc4d-4f37-a0bb-1fc5453e8282",
   "metadata": {},
   "outputs": [
    {
     "data": {
      "text/html": [
       "<pre style=\"white-space:pre;overflow-x:auto;line-height:normal;font-family:Menlo,'DejaVu Sans Mono',consolas,'Courier New',monospace\"><span style=\"font-weight: bold\">Model: \"sequential_16\"</span>\n",
       "</pre>\n"
      ],
      "text/plain": [
       "\u001b[1mModel: \"sequential_16\"\u001b[0m\n"
      ]
     },
     "metadata": {},
     "output_type": "display_data"
    },
    {
     "data": {
      "text/html": [
       "<pre style=\"white-space:pre;overflow-x:auto;line-height:normal;font-family:Menlo,'DejaVu Sans Mono',consolas,'Courier New',monospace\">┏━━━━━━━━━━━━━━━━━━━━━━━━━━━━━━━━━━━━━━┳━━━━━━━━━━━━━━━━━━━━━━━━━━━━━┳━━━━━━━━━━━━━━━━━┓\n",
       "┃<span style=\"font-weight: bold\"> Layer (type)                         </span>┃<span style=\"font-weight: bold\"> Output Shape                </span>┃<span style=\"font-weight: bold\">         Param # </span>┃\n",
       "┡━━━━━━━━━━━━━━━━━━━━━━━━━━━━━━━━━━━━━━╇━━━━━━━━━━━━━━━━━━━━━━━━━━━━━╇━━━━━━━━━━━━━━━━━┩\n",
       "│ lstm_10 (<span style=\"color: #0087ff; text-decoration-color: #0087ff\">LSTM</span>)                       │ (<span style=\"color: #00d7ff; text-decoration-color: #00d7ff\">None</span>, <span style=\"color: #00af00; text-decoration-color: #00af00\">16</span>)                  │           <span style=\"color: #00af00; text-decoration-color: #00af00\">1,664</span> │\n",
       "├──────────────────────────────────────┼─────────────────────────────┼─────────────────┤\n",
       "│ dropout_10 (<span style=\"color: #0087ff; text-decoration-color: #0087ff\">Dropout</span>)                 │ (<span style=\"color: #00d7ff; text-decoration-color: #00d7ff\">None</span>, <span style=\"color: #00af00; text-decoration-color: #00af00\">16</span>)                  │               <span style=\"color: #00af00; text-decoration-color: #00af00\">0</span> │\n",
       "├──────────────────────────────────────┼─────────────────────────────┼─────────────────┤\n",
       "│ dense_20 (<span style=\"color: #0087ff; text-decoration-color: #0087ff\">Dense</span>)                     │ (<span style=\"color: #00d7ff; text-decoration-color: #00d7ff\">None</span>, <span style=\"color: #00af00; text-decoration-color: #00af00\">15</span>)                  │             <span style=\"color: #00af00; text-decoration-color: #00af00\">255</span> │\n",
       "└──────────────────────────────────────┴─────────────────────────────┴─────────────────┘\n",
       "</pre>\n"
      ],
      "text/plain": [
       "┏━━━━━━━━━━━━━━━━━━━━━━━━━━━━━━━━━━━━━━┳━━━━━━━━━━━━━━━━━━━━━━━━━━━━━┳━━━━━━━━━━━━━━━━━┓\n",
       "┃\u001b[1m \u001b[0m\u001b[1mLayer (type)                        \u001b[0m\u001b[1m \u001b[0m┃\u001b[1m \u001b[0m\u001b[1mOutput Shape               \u001b[0m\u001b[1m \u001b[0m┃\u001b[1m \u001b[0m\u001b[1m        Param #\u001b[0m\u001b[1m \u001b[0m┃\n",
       "┡━━━━━━━━━━━━━━━━━━━━━━━━━━━━━━━━━━━━━━╇━━━━━━━━━━━━━━━━━━━━━━━━━━━━━╇━━━━━━━━━━━━━━━━━┩\n",
       "│ lstm_10 (\u001b[38;5;33mLSTM\u001b[0m)                       │ (\u001b[38;5;45mNone\u001b[0m, \u001b[38;5;34m16\u001b[0m)                  │           \u001b[38;5;34m1,664\u001b[0m │\n",
       "├──────────────────────────────────────┼─────────────────────────────┼─────────────────┤\n",
       "│ dropout_10 (\u001b[38;5;33mDropout\u001b[0m)                 │ (\u001b[38;5;45mNone\u001b[0m, \u001b[38;5;34m16\u001b[0m)                  │               \u001b[38;5;34m0\u001b[0m │\n",
       "├──────────────────────────────────────┼─────────────────────────────┼─────────────────┤\n",
       "│ dense_20 (\u001b[38;5;33mDense\u001b[0m)                     │ (\u001b[38;5;45mNone\u001b[0m, \u001b[38;5;34m15\u001b[0m)                  │             \u001b[38;5;34m255\u001b[0m │\n",
       "└──────────────────────────────────────┴─────────────────────────────┴─────────────────┘\n"
      ]
     },
     "metadata": {},
     "output_type": "display_data"
    },
    {
     "data": {
      "text/html": [
       "<pre style=\"white-space:pre;overflow-x:auto;line-height:normal;font-family:Menlo,'DejaVu Sans Mono',consolas,'Courier New',monospace\"><span style=\"font-weight: bold\"> Total params: </span><span style=\"color: #00af00; text-decoration-color: #00af00\">1,919</span> (7.50 KB)\n",
       "</pre>\n"
      ],
      "text/plain": [
       "\u001b[1m Total params: \u001b[0m\u001b[38;5;34m1,919\u001b[0m (7.50 KB)\n"
      ]
     },
     "metadata": {},
     "output_type": "display_data"
    },
    {
     "data": {
      "text/html": [
       "<pre style=\"white-space:pre;overflow-x:auto;line-height:normal;font-family:Menlo,'DejaVu Sans Mono',consolas,'Courier New',monospace\"><span style=\"font-weight: bold\"> Trainable params: </span><span style=\"color: #00af00; text-decoration-color: #00af00\">1,919</span> (7.50 KB)\n",
       "</pre>\n"
      ],
      "text/plain": [
       "\u001b[1m Trainable params: \u001b[0m\u001b[38;5;34m1,919\u001b[0m (7.50 KB)\n"
      ]
     },
     "metadata": {},
     "output_type": "display_data"
    },
    {
     "data": {
      "text/html": [
       "<pre style=\"white-space:pre;overflow-x:auto;line-height:normal;font-family:Menlo,'DejaVu Sans Mono',consolas,'Courier New',monospace\"><span style=\"font-weight: bold\"> Non-trainable params: </span><span style=\"color: #00af00; text-decoration-color: #00af00\">0</span> (0.00 B)\n",
       "</pre>\n"
      ],
      "text/plain": [
       "\u001b[1m Non-trainable params: \u001b[0m\u001b[38;5;34m0\u001b[0m (0.00 B)\n"
      ]
     },
     "metadata": {},
     "output_type": "display_data"
    }
   ],
   "source": [
    "# Import the Input layer from Keras to explicitly define the input shape for a Sequential model\n",
    "from keras.layers import Input\n",
    "\n",
    "# Set training parameters\n",
    "epochs = 20\n",
    "batch_size = 16\n",
    "n_hidden = 16\n",
    "\n",
    "# Determine input dimensions\n",
    "timesteps = len(X_train[0])\n",
    "input_dim = len(X_train[0][0])\n",
    "n_classes = len(y_train[0])\n",
    "\n",
    "# Build the LSTM model using an explicit Input layer\n",
    "model = Sequential()\n",
    "model.add(Input(shape=(timesteps, input_dim)))   # Explicitly define input shape\n",
    "model.add(LSTM(n_hidden))                        # LSTM layer with n_hidden units\n",
    "model.add(Dropout(0.5))                          # Dropout layer to reduce overfitting\n",
    "model.add(Dense(n_classes, activation='sigmoid'))# Output layer with sigmoid for multi-class prediction\n",
    "\n",
    "# Show model summary\n",
    "model.summary()"
   ]
  },
  {
   "cell_type": "code",
   "execution_count": 248,
   "id": "8b657d33-490c-4e06-9b0b-e8d7fc89cd00",
   "metadata": {},
   "outputs": [
    {
     "data": {
      "text/html": [
       "<pre style=\"white-space:pre;overflow-x:auto;line-height:normal;font-family:Menlo,'DejaVu Sans Mono',consolas,'Courier New',monospace\"><span style=\"font-weight: bold\">Model: \"sequential_16\"</span>\n",
       "</pre>\n"
      ],
      "text/plain": [
       "\u001b[1mModel: \"sequential_16\"\u001b[0m\n"
      ]
     },
     "metadata": {},
     "output_type": "display_data"
    },
    {
     "data": {
      "text/html": [
       "<pre style=\"white-space:pre;overflow-x:auto;line-height:normal;font-family:Menlo,'DejaVu Sans Mono',consolas,'Courier New',monospace\">┏━━━━━━━━━━━━━━━━━━━━━━━━━━━━━━━━━━━━━━┳━━━━━━━━━━━━━━━━━━━━━━━━━━━━━┳━━━━━━━━━━━━━━━━━┓\n",
       "┃<span style=\"font-weight: bold\"> Layer (type)                         </span>┃<span style=\"font-weight: bold\"> Output Shape                </span>┃<span style=\"font-weight: bold\">         Param # </span>┃\n",
       "┡━━━━━━━━━━━━━━━━━━━━━━━━━━━━━━━━━━━━━━╇━━━━━━━━━━━━━━━━━━━━━━━━━━━━━╇━━━━━━━━━━━━━━━━━┩\n",
       "│ lstm_10 (<span style=\"color: #0087ff; text-decoration-color: #0087ff\">LSTM</span>)                       │ (<span style=\"color: #00d7ff; text-decoration-color: #00d7ff\">None</span>, <span style=\"color: #00af00; text-decoration-color: #00af00\">16</span>)                  │           <span style=\"color: #00af00; text-decoration-color: #00af00\">1,664</span> │\n",
       "├──────────────────────────────────────┼─────────────────────────────┼─────────────────┤\n",
       "│ dropout_10 (<span style=\"color: #0087ff; text-decoration-color: #0087ff\">Dropout</span>)                 │ (<span style=\"color: #00d7ff; text-decoration-color: #00d7ff\">None</span>, <span style=\"color: #00af00; text-decoration-color: #00af00\">16</span>)                  │               <span style=\"color: #00af00; text-decoration-color: #00af00\">0</span> │\n",
       "├──────────────────────────────────────┼─────────────────────────────┼─────────────────┤\n",
       "│ dense_20 (<span style=\"color: #0087ff; text-decoration-color: #0087ff\">Dense</span>)                     │ (<span style=\"color: #00d7ff; text-decoration-color: #00d7ff\">None</span>, <span style=\"color: #00af00; text-decoration-color: #00af00\">15</span>)                  │             <span style=\"color: #00af00; text-decoration-color: #00af00\">255</span> │\n",
       "└──────────────────────────────────────┴─────────────────────────────┴─────────────────┘\n",
       "</pre>\n"
      ],
      "text/plain": [
       "┏━━━━━━━━━━━━━━━━━━━━━━━━━━━━━━━━━━━━━━┳━━━━━━━━━━━━━━━━━━━━━━━━━━━━━┳━━━━━━━━━━━━━━━━━┓\n",
       "┃\u001b[1m \u001b[0m\u001b[1mLayer (type)                        \u001b[0m\u001b[1m \u001b[0m┃\u001b[1m \u001b[0m\u001b[1mOutput Shape               \u001b[0m\u001b[1m \u001b[0m┃\u001b[1m \u001b[0m\u001b[1m        Param #\u001b[0m\u001b[1m \u001b[0m┃\n",
       "┡━━━━━━━━━━━━━━━━━━━━━━━━━━━━━━━━━━━━━━╇━━━━━━━━━━━━━━━━━━━━━━━━━━━━━╇━━━━━━━━━━━━━━━━━┩\n",
       "│ lstm_10 (\u001b[38;5;33mLSTM\u001b[0m)                       │ (\u001b[38;5;45mNone\u001b[0m, \u001b[38;5;34m16\u001b[0m)                  │           \u001b[38;5;34m1,664\u001b[0m │\n",
       "├──────────────────────────────────────┼─────────────────────────────┼─────────────────┤\n",
       "│ dropout_10 (\u001b[38;5;33mDropout\u001b[0m)                 │ (\u001b[38;5;45mNone\u001b[0m, \u001b[38;5;34m16\u001b[0m)                  │               \u001b[38;5;34m0\u001b[0m │\n",
       "├──────────────────────────────────────┼─────────────────────────────┼─────────────────┤\n",
       "│ dense_20 (\u001b[38;5;33mDense\u001b[0m)                     │ (\u001b[38;5;45mNone\u001b[0m, \u001b[38;5;34m15\u001b[0m)                  │             \u001b[38;5;34m255\u001b[0m │\n",
       "└──────────────────────────────────────┴─────────────────────────────┴─────────────────┘\n"
      ]
     },
     "metadata": {},
     "output_type": "display_data"
    },
    {
     "data": {
      "text/html": [
       "<pre style=\"white-space:pre;overflow-x:auto;line-height:normal;font-family:Menlo,'DejaVu Sans Mono',consolas,'Courier New',monospace\"><span style=\"font-weight: bold\"> Total params: </span><span style=\"color: #00af00; text-decoration-color: #00af00\">1,919</span> (7.50 KB)\n",
       "</pre>\n"
      ],
      "text/plain": [
       "\u001b[1m Total params: \u001b[0m\u001b[38;5;34m1,919\u001b[0m (7.50 KB)\n"
      ]
     },
     "metadata": {},
     "output_type": "display_data"
    },
    {
     "data": {
      "text/html": [
       "<pre style=\"white-space:pre;overflow-x:auto;line-height:normal;font-family:Menlo,'DejaVu Sans Mono',consolas,'Courier New',monospace\"><span style=\"font-weight: bold\"> Trainable params: </span><span style=\"color: #00af00; text-decoration-color: #00af00\">1,919</span> (7.50 KB)\n",
       "</pre>\n"
      ],
      "text/plain": [
       "\u001b[1m Trainable params: \u001b[0m\u001b[38;5;34m1,919\u001b[0m (7.50 KB)\n"
      ]
     },
     "metadata": {},
     "output_type": "display_data"
    },
    {
     "data": {
      "text/html": [
       "<pre style=\"white-space:pre;overflow-x:auto;line-height:normal;font-family:Menlo,'DejaVu Sans Mono',consolas,'Courier New',monospace\"><span style=\"font-weight: bold\"> Non-trainable params: </span><span style=\"color: #00af00; text-decoration-color: #00af00\">0</span> (0.00 B)\n",
       "</pre>\n"
      ],
      "text/plain": [
       "\u001b[1m Non-trainable params: \u001b[0m\u001b[38;5;34m0\u001b[0m (0.00 B)\n"
      ]
     },
     "metadata": {},
     "output_type": "display_data"
    }
   ],
   "source": [
    "# Display a summary of the model architecture, including layer types, output shapes, and number of parameters\n",
    "model.summary()"
   ]
  },
  {
   "cell_type": "markdown",
   "id": "40a80501-cdce-40aa-a691-500b5f364ac9",
   "metadata": {},
   "source": [
    "# 6. Compile and train the RNN model"
   ]
  },
  {
   "cell_type": "code",
   "execution_count": 252,
   "id": "2c70e41d-9bf9-4198-b308-c4340380bb57",
   "metadata": {},
   "outputs": [],
   "source": [
    "# Compile the LSTM model by specifying:\n",
    "# - Loss function as 'categorical_crossentropy' for multi-class classification.\n",
    "# - Optimizer as 'rmsprop' to update weights during training\n",
    "# - Metric as 'accuracy' to monitor model performance during training\n",
    "model.compile(loss='categorical_crossentropy',\n",
    "              optimizer='rmsprop',\n",
    "              metrics=['accuracy'])"
   ]
  },
  {
   "cell_type": "code",
   "execution_count": 254,
   "id": "a72b356f-639a-4979-a50e-7d5f2831a4a6",
   "metadata": {},
   "outputs": [
    {
     "name": "stdout",
     "output_type": "stream",
     "text": [
      "Epoch 1/20\n",
      "\u001b[1m1076/1076\u001b[0m \u001b[32m━━━━━━━━━━━━━━━━━━━━\u001b[0m\u001b[37m\u001b[0m \u001b[1m12s\u001b[0m 7ms/step - accuracy: 0.2017 - loss: 9.8511 - val_accuracy: 0.1793 - val_loss: 8.4478\n",
      "Epoch 2/20\n",
      "\u001b[1m1076/1076\u001b[0m \u001b[32m━━━━━━━━━━━━━━━━━━━━\u001b[0m\u001b[37m\u001b[0m \u001b[1m6s\u001b[0m 6ms/step - accuracy: 0.1173 - loss: 9.8348 - val_accuracy: 0.0786 - val_loss: 8.6875\n",
      "Epoch 3/20\n",
      "\u001b[1m1076/1076\u001b[0m \u001b[32m━━━━━━━━━━━━━━━━━━━━\u001b[0m\u001b[37m\u001b[0m \u001b[1m6s\u001b[0m 6ms/step - accuracy: 0.0992 - loss: 10.1578 - val_accuracy: 0.0798 - val_loss: 9.0776\n",
      "Epoch 4/20\n",
      "\u001b[1m1076/1076\u001b[0m \u001b[32m━━━━━━━━━━━━━━━━━━━━\u001b[0m\u001b[37m\u001b[0m \u001b[1m6s\u001b[0m 6ms/step - accuracy: 0.0949 - loss: 10.3656 - val_accuracy: 0.0816 - val_loss: 9.4756\n",
      "Epoch 5/20\n",
      "\u001b[1m1076/1076\u001b[0m \u001b[32m━━━━━━━━━━━━━━━━━━━━\u001b[0m\u001b[37m\u001b[0m \u001b[1m6s\u001b[0m 5ms/step - accuracy: 0.0926 - loss: 10.4164 - val_accuracy: 0.0795 - val_loss: 9.7752\n",
      "Epoch 6/20\n",
      "\u001b[1m1076/1076\u001b[0m \u001b[32m━━━━━━━━━━━━━━━━━━━━\u001b[0m\u001b[37m\u001b[0m \u001b[1m6s\u001b[0m 5ms/step - accuracy: 0.0837 - loss: 10.5371 - val_accuracy: 0.0795 - val_loss: 10.0456\n",
      "Epoch 7/20\n",
      "\u001b[1m1076/1076\u001b[0m \u001b[32m━━━━━━━━━━━━━━━━━━━━\u001b[0m\u001b[37m\u001b[0m \u001b[1m7s\u001b[0m 7ms/step - accuracy: 0.0862 - loss: 10.9613 - val_accuracy: 0.0800 - val_loss: 10.3419\n",
      "Epoch 8/20\n",
      "\u001b[1m1076/1076\u001b[0m \u001b[32m━━━━━━━━━━━━━━━━━━━━\u001b[0m\u001b[37m\u001b[0m \u001b[1m8s\u001b[0m 7ms/step - accuracy: 0.0778 - loss: 11.3150 - val_accuracy: 0.0798 - val_loss: 10.6581\n",
      "Epoch 9/20\n",
      "\u001b[1m1076/1076\u001b[0m \u001b[32m━━━━━━━━━━━━━━━━━━━━\u001b[0m\u001b[37m\u001b[0m \u001b[1m8s\u001b[0m 7ms/step - accuracy: 0.0723 - loss: 11.4046 - val_accuracy: 0.0800 - val_loss: 10.8507\n",
      "Epoch 10/20\n",
      "\u001b[1m1076/1076\u001b[0m \u001b[32m━━━━━━━━━━━━━━━━━━━━\u001b[0m\u001b[37m\u001b[0m \u001b[1m8s\u001b[0m 7ms/step - accuracy: 0.0703 - loss: 11.5914 - val_accuracy: 0.0800 - val_loss: 11.1375\n",
      "Epoch 11/20\n",
      "\u001b[1m1076/1076\u001b[0m \u001b[32m━━━━━━━━━━━━━━━━━━━━\u001b[0m\u001b[37m\u001b[0m \u001b[1m7s\u001b[0m 6ms/step - accuracy: 0.0643 - loss: 11.8510 - val_accuracy: 0.0800 - val_loss: 11.4822\n",
      "Epoch 12/20\n",
      "\u001b[1m1076/1076\u001b[0m \u001b[32m━━━━━━━━━━━━━━━━━━━━\u001b[0m\u001b[37m\u001b[0m \u001b[1m6s\u001b[0m 6ms/step - accuracy: 0.0604 - loss: 12.2936 - val_accuracy: 0.0796 - val_loss: 11.6751\n",
      "Epoch 13/20\n",
      "\u001b[1m1076/1076\u001b[0m \u001b[32m━━━━━━━━━━━━━━━━━━━━\u001b[0m\u001b[37m\u001b[0m \u001b[1m6s\u001b[0m 5ms/step - accuracy: 0.0552 - loss: 12.3090 - val_accuracy: 0.0786 - val_loss: 11.9234\n",
      "Epoch 14/20\n",
      "\u001b[1m1076/1076\u001b[0m \u001b[32m━━━━━━━━━━━━━━━━━━━━\u001b[0m\u001b[37m\u001b[0m \u001b[1m6s\u001b[0m 6ms/step - accuracy: 0.0497 - loss: 12.5264 - val_accuracy: 0.0796 - val_loss: 12.1047\n",
      "Epoch 15/20\n",
      "\u001b[1m1076/1076\u001b[0m \u001b[32m━━━━━━━━━━━━━━━━━━━━\u001b[0m\u001b[37m\u001b[0m \u001b[1m6s\u001b[0m 6ms/step - accuracy: 0.0495 - loss: 12.6893 - val_accuracy: 0.0800 - val_loss: 12.3636\n",
      "Epoch 16/20\n",
      "\u001b[1m1076/1076\u001b[0m \u001b[32m━━━━━━━━━━━━━━━━━━━━\u001b[0m\u001b[37m\u001b[0m \u001b[1m7s\u001b[0m 6ms/step - accuracy: 0.0533 - loss: 12.8992 - val_accuracy: 0.0791 - val_loss: 12.5989\n",
      "Epoch 17/20\n",
      "\u001b[1m1076/1076\u001b[0m \u001b[32m━━━━━━━━━━━━━━━━━━━━\u001b[0m\u001b[37m\u001b[0m \u001b[1m6s\u001b[0m 6ms/step - accuracy: 0.0516 - loss: 13.2002 - val_accuracy: 0.0796 - val_loss: 12.8050\n",
      "Epoch 18/20\n",
      "\u001b[1m1076/1076\u001b[0m \u001b[32m━━━━━━━━━━━━━━━━━━━━\u001b[0m\u001b[37m\u001b[0m \u001b[1m7s\u001b[0m 6ms/step - accuracy: 0.0454 - loss: 13.1897 - val_accuracy: 0.0795 - val_loss: 12.9859\n",
      "Epoch 19/20\n",
      "\u001b[1m1076/1076\u001b[0m \u001b[32m━━━━━━━━━━━━━━━━━━━━\u001b[0m\u001b[37m\u001b[0m \u001b[1m7s\u001b[0m 6ms/step - accuracy: 0.0498 - loss: 13.7733 - val_accuracy: 0.0800 - val_loss: 13.2408\n",
      "Epoch 20/20\n",
      "\u001b[1m1076/1076\u001b[0m \u001b[32m━━━━━━━━━━━━━━━━━━━━\u001b[0m\u001b[37m\u001b[0m \u001b[1m7s\u001b[0m 7ms/step - accuracy: 0.0500 - loss: 14.1287 - val_accuracy: 0.0467 - val_loss: 13.4352\n"
     ]
    },
    {
     "data": {
      "text/plain": [
       "<keras.src.callbacks.history.History at 0x2079b2f9220>"
      ]
     },
     "execution_count": 254,
     "metadata": {},
     "output_type": "execute_result"
    }
   ],
   "source": [
    "# Train the LSTM model using the training data (X_train, y_train) with:\n",
    "# - Specified batch_size and epochs\n",
    "# - Validation on the test set (X_test, y_test) to monitor performance during training\n",
    "model.fit(X_train,\n",
    "          y_train,\n",
    "          batch_size=batch_size,\n",
    "          validation_data=(X_test, y_test),\n",
    "          epochs=epochs)"
   ]
  },
  {
   "cell_type": "markdown",
   "id": "88300545-4f60-4707-8a08-c209ad6e4bf3",
   "metadata": {},
   "source": [
    "# 7. Evaluate Model Performance with a Confusion Matrix"
   ]
  },
  {
   "cell_type": "code",
   "execution_count": 256,
   "id": "588b4c0c-39bf-42e0-9554-d51ddd33a356",
   "metadata": {},
   "outputs": [],
   "source": [
    "# Create a dictionary mapping numeric class indices to weather station names for easier interpretation of predictions.\n",
    "stations = {\n",
    "0: 'BASEL',\n",
    "1: 'BELGRADE',\n",
    "2: 'BUDAPEST',\n",
    "3: 'DEBILT',\n",
    "4: 'DUSSELDORF',\n",
    "5: 'HEATHROW',\n",
    "6: 'KASSEL',\n",
    "7: 'LJUBLJANA',\n",
    "8: 'MAASTRICHT',\n",
    "9: 'MADRID',\n",
    "10: 'MUNCHENB',\n",
    "11: 'OSLO',\n",
    "12: 'SONNBLICK',\n",
    "13: 'STOCKHOLM',\n",
    "14: 'VALENTIA'\n",
    "}"
   ]
  },
  {
   "cell_type": "code",
   "execution_count": 257,
   "id": "63a50d9f-c0b1-4111-9043-95d812d1f2ea",
   "metadata": {},
   "outputs": [],
   "source": [
    "# Define a function to create a confusion matrix\n",
    "# - Converts one-hot encoded true and predicted labels to station names.\n",
    "# - Uses np.argmax to get the predicted class index for each sample.\n",
    "# - Returns a cross-tabulation showing counts of true vs predicted station classifications\n",
    "def confusion_matrix(y_true, y_pred):\n",
    "    y_true = pd.Series([stations[y] for y in np.argmax(y_true, axis=1)])\n",
    "    y_pred = pd.Series([stations[y] for y in np.argmax(y_pred, axis=1)])\n",
    "\n",
    "    return pd.crosstab(y_true, y_pred, rownames=['True'], colnames=['Pred'])"
   ]
  },
  {
   "cell_type": "code",
   "execution_count": 258,
   "id": "5ef82806-16e2-4b0e-b453-1750b4d2adb5",
   "metadata": {},
   "outputs": [
    {
     "name": "stdout",
     "output_type": "stream",
     "text": [
      "\u001b[1m180/180\u001b[0m \u001b[32m━━━━━━━━━━━━━━━━━━━━\u001b[0m\u001b[37m\u001b[0m \u001b[1m1s\u001b[0m 5ms/step\n",
      "Pred        BASEL  BUDAPEST  MADRID\n",
      "True                               \n",
      "BASEL        3676         0       6\n",
      "BELGRADE     1084         1       7\n",
      "BUDAPEST      210         1       3\n",
      "DEBILT         82         0       0\n",
      "DUSSELDORF     29         0       0\n",
      "HEATHROW       79         1       2\n",
      "KASSEL         11         0       0\n",
      "LJUBLJANA      58         0       3\n",
      "MAASTRICHT      9         0       0\n",
      "MADRID        423         2      33\n",
      "MUNCHENB        6         0       2\n",
      "OSLO            5         0       0\n",
      "STOCKHOLM       4         0       0\n",
      "VALENTIA        1         0       0\n"
     ]
    }
   ],
   "source": [
    "# Evaluate the trained model on the test set\n",
    "# - Generate predictions for X_test\n",
    "# - Use the custom confusion_matrix function to display how well the model classified each station\n",
    "# - Print the resulting confusion matrix for inspection\n",
    "print(confusion_matrix(y_test, model.predict(X_test)))"
   ]
  },
  {
   "cell_type": "markdown",
   "id": "9b75d6b3-a27c-4f3b-8f7c-2717861ff714",
   "metadata": {},
   "source": [
    "# 8. Rebuilding the model with updated hyperparameters"
   ]
  },
  {
   "cell_type": "code",
   "execution_count": 260,
   "id": "5c11762a-91f0-4c3a-b8e8-3d7e9d698b88",
   "metadata": {},
   "outputs": [
    {
     "data": {
      "text/html": [
       "<pre style=\"white-space:pre;overflow-x:auto;line-height:normal;font-family:Menlo,'DejaVu Sans Mono',consolas,'Courier New',monospace\"><span style=\"font-weight: bold\">Model: \"sequential_17\"</span>\n",
       "</pre>\n"
      ],
      "text/plain": [
       "\u001b[1mModel: \"sequential_17\"\u001b[0m\n"
      ]
     },
     "metadata": {},
     "output_type": "display_data"
    },
    {
     "data": {
      "text/html": [
       "<pre style=\"white-space:pre;overflow-x:auto;line-height:normal;font-family:Menlo,'DejaVu Sans Mono',consolas,'Courier New',monospace\">┏━━━━━━━━━━━━━━━━━━━━━━━━━━━━━━━━━━━━━━┳━━━━━━━━━━━━━━━━━━━━━━━━━━━━━┳━━━━━━━━━━━━━━━━━┓\n",
       "┃<span style=\"font-weight: bold\"> Layer (type)                         </span>┃<span style=\"font-weight: bold\"> Output Shape                </span>┃<span style=\"font-weight: bold\">         Param # </span>┃\n",
       "┡━━━━━━━━━━━━━━━━━━━━━━━━━━━━━━━━━━━━━━╇━━━━━━━━━━━━━━━━━━━━━━━━━━━━━╇━━━━━━━━━━━━━━━━━┩\n",
       "│ lstm_11 (<span style=\"color: #0087ff; text-decoration-color: #0087ff\">LSTM</span>)                       │ (<span style=\"color: #00d7ff; text-decoration-color: #00d7ff\">None</span>, <span style=\"color: #00af00; text-decoration-color: #00af00\">32</span>)                  │           <span style=\"color: #00af00; text-decoration-color: #00af00\">5,376</span> │\n",
       "├──────────────────────────────────────┼─────────────────────────────┼─────────────────┤\n",
       "│ dropout_11 (<span style=\"color: #0087ff; text-decoration-color: #0087ff\">Dropout</span>)                 │ (<span style=\"color: #00d7ff; text-decoration-color: #00d7ff\">None</span>, <span style=\"color: #00af00; text-decoration-color: #00af00\">32</span>)                  │               <span style=\"color: #00af00; text-decoration-color: #00af00\">0</span> │\n",
       "├──────────────────────────────────────┼─────────────────────────────┼─────────────────┤\n",
       "│ dense_21 (<span style=\"color: #0087ff; text-decoration-color: #0087ff\">Dense</span>)                     │ (<span style=\"color: #00d7ff; text-decoration-color: #00d7ff\">None</span>, <span style=\"color: #00af00; text-decoration-color: #00af00\">15</span>)                  │             <span style=\"color: #00af00; text-decoration-color: #00af00\">495</span> │\n",
       "└──────────────────────────────────────┴─────────────────────────────┴─────────────────┘\n",
       "</pre>\n"
      ],
      "text/plain": [
       "┏━━━━━━━━━━━━━━━━━━━━━━━━━━━━━━━━━━━━━━┳━━━━━━━━━━━━━━━━━━━━━━━━━━━━━┳━━━━━━━━━━━━━━━━━┓\n",
       "┃\u001b[1m \u001b[0m\u001b[1mLayer (type)                        \u001b[0m\u001b[1m \u001b[0m┃\u001b[1m \u001b[0m\u001b[1mOutput Shape               \u001b[0m\u001b[1m \u001b[0m┃\u001b[1m \u001b[0m\u001b[1m        Param #\u001b[0m\u001b[1m \u001b[0m┃\n",
       "┡━━━━━━━━━━━━━━━━━━━━━━━━━━━━━━━━━━━━━━╇━━━━━━━━━━━━━━━━━━━━━━━━━━━━━╇━━━━━━━━━━━━━━━━━┩\n",
       "│ lstm_11 (\u001b[38;5;33mLSTM\u001b[0m)                       │ (\u001b[38;5;45mNone\u001b[0m, \u001b[38;5;34m32\u001b[0m)                  │           \u001b[38;5;34m5,376\u001b[0m │\n",
       "├──────────────────────────────────────┼─────────────────────────────┼─────────────────┤\n",
       "│ dropout_11 (\u001b[38;5;33mDropout\u001b[0m)                 │ (\u001b[38;5;45mNone\u001b[0m, \u001b[38;5;34m32\u001b[0m)                  │               \u001b[38;5;34m0\u001b[0m │\n",
       "├──────────────────────────────────────┼─────────────────────────────┼─────────────────┤\n",
       "│ dense_21 (\u001b[38;5;33mDense\u001b[0m)                     │ (\u001b[38;5;45mNone\u001b[0m, \u001b[38;5;34m15\u001b[0m)                  │             \u001b[38;5;34m495\u001b[0m │\n",
       "└──────────────────────────────────────┴─────────────────────────────┴─────────────────┘\n"
      ]
     },
     "metadata": {},
     "output_type": "display_data"
    },
    {
     "data": {
      "text/html": [
       "<pre style=\"white-space:pre;overflow-x:auto;line-height:normal;font-family:Menlo,'DejaVu Sans Mono',consolas,'Courier New',monospace\"><span style=\"font-weight: bold\"> Total params: </span><span style=\"color: #00af00; text-decoration-color: #00af00\">5,871</span> (22.93 KB)\n",
       "</pre>\n"
      ],
      "text/plain": [
       "\u001b[1m Total params: \u001b[0m\u001b[38;5;34m5,871\u001b[0m (22.93 KB)\n"
      ]
     },
     "metadata": {},
     "output_type": "display_data"
    },
    {
     "data": {
      "text/html": [
       "<pre style=\"white-space:pre;overflow-x:auto;line-height:normal;font-family:Menlo,'DejaVu Sans Mono',consolas,'Courier New',monospace\"><span style=\"font-weight: bold\"> Trainable params: </span><span style=\"color: #00af00; text-decoration-color: #00af00\">5,871</span> (22.93 KB)\n",
       "</pre>\n"
      ],
      "text/plain": [
       "\u001b[1m Trainable params: \u001b[0m\u001b[38;5;34m5,871\u001b[0m (22.93 KB)\n"
      ]
     },
     "metadata": {},
     "output_type": "display_data"
    },
    {
     "data": {
      "text/html": [
       "<pre style=\"white-space:pre;overflow-x:auto;line-height:normal;font-family:Menlo,'DejaVu Sans Mono',consolas,'Courier New',monospace\"><span style=\"font-weight: bold\"> Non-trainable params: </span><span style=\"color: #00af00; text-decoration-color: #00af00\">0</span> (0.00 B)\n",
       "</pre>\n"
      ],
      "text/plain": [
       "\u001b[1m Non-trainable params: \u001b[0m\u001b[38;5;34m0\u001b[0m (0.00 B)\n"
      ]
     },
     "metadata": {},
     "output_type": "display_data"
    }
   ],
   "source": [
    "# Set training parameters\n",
    "epochs = 30           # Number of training cycles\n",
    "batch_size = 16       # Number of samples per gradient update\n",
    "n_hidden = 32         # Number of units in the LSTM layer\n",
    "\n",
    "# Determine input dimensions from training data\n",
    "timesteps = len(X_train[0])     # Number of time steps in each input sequence\n",
    "input_dim = len(X_train[0][0])  # Number of features per time step\n",
    "n_classes = len(y_train[0])     # Number of output classes\n",
    "\n",
    "# Build the LSTM model\n",
    "model = Sequential()\n",
    "\n",
    "# 1) Explicit Input layer to define input shape and avoid warnings\n",
    "model.add(Input(shape=(timesteps, input_dim)))\n",
    "\n",
    "# 2) LSTM layer with n_hidden units\n",
    "model.add(LSTM(n_hidden))\n",
    "\n",
    "# 3) Dropout layer (50%) to reduce overfitting\n",
    "model.add(Dropout(0.5))\n",
    "\n",
    "# 4) Dense output layer with n_classes units and sigmoid activation\n",
    "#    for multi-class prediction\n",
    "model.add(Dense(n_classes, activation='sigmoid'))\n",
    "\n",
    "# Display the model summary\n",
    "model.summary()"
   ]
  },
  {
   "cell_type": "code",
   "execution_count": 261,
   "id": "868983bb-9869-42ea-b19b-fc8f5adb7144",
   "metadata": {},
   "outputs": [
    {
     "data": {
      "text/html": [
       "<pre style=\"white-space:pre;overflow-x:auto;line-height:normal;font-family:Menlo,'DejaVu Sans Mono',consolas,'Courier New',monospace\"><span style=\"font-weight: bold\">Model: \"sequential_17\"</span>\n",
       "</pre>\n"
      ],
      "text/plain": [
       "\u001b[1mModel: \"sequential_17\"\u001b[0m\n"
      ]
     },
     "metadata": {},
     "output_type": "display_data"
    },
    {
     "data": {
      "text/html": [
       "<pre style=\"white-space:pre;overflow-x:auto;line-height:normal;font-family:Menlo,'DejaVu Sans Mono',consolas,'Courier New',monospace\">┏━━━━━━━━━━━━━━━━━━━━━━━━━━━━━━━━━━━━━━┳━━━━━━━━━━━━━━━━━━━━━━━━━━━━━┳━━━━━━━━━━━━━━━━━┓\n",
       "┃<span style=\"font-weight: bold\"> Layer (type)                         </span>┃<span style=\"font-weight: bold\"> Output Shape                </span>┃<span style=\"font-weight: bold\">         Param # </span>┃\n",
       "┡━━━━━━━━━━━━━━━━━━━━━━━━━━━━━━━━━━━━━━╇━━━━━━━━━━━━━━━━━━━━━━━━━━━━━╇━━━━━━━━━━━━━━━━━┩\n",
       "│ lstm_11 (<span style=\"color: #0087ff; text-decoration-color: #0087ff\">LSTM</span>)                       │ (<span style=\"color: #00d7ff; text-decoration-color: #00d7ff\">None</span>, <span style=\"color: #00af00; text-decoration-color: #00af00\">32</span>)                  │           <span style=\"color: #00af00; text-decoration-color: #00af00\">5,376</span> │\n",
       "├──────────────────────────────────────┼─────────────────────────────┼─────────────────┤\n",
       "│ dropout_11 (<span style=\"color: #0087ff; text-decoration-color: #0087ff\">Dropout</span>)                 │ (<span style=\"color: #00d7ff; text-decoration-color: #00d7ff\">None</span>, <span style=\"color: #00af00; text-decoration-color: #00af00\">32</span>)                  │               <span style=\"color: #00af00; text-decoration-color: #00af00\">0</span> │\n",
       "├──────────────────────────────────────┼─────────────────────────────┼─────────────────┤\n",
       "│ dense_21 (<span style=\"color: #0087ff; text-decoration-color: #0087ff\">Dense</span>)                     │ (<span style=\"color: #00d7ff; text-decoration-color: #00d7ff\">None</span>, <span style=\"color: #00af00; text-decoration-color: #00af00\">15</span>)                  │             <span style=\"color: #00af00; text-decoration-color: #00af00\">495</span> │\n",
       "└──────────────────────────────────────┴─────────────────────────────┴─────────────────┘\n",
       "</pre>\n"
      ],
      "text/plain": [
       "┏━━━━━━━━━━━━━━━━━━━━━━━━━━━━━━━━━━━━━━┳━━━━━━━━━━━━━━━━━━━━━━━━━━━━━┳━━━━━━━━━━━━━━━━━┓\n",
       "┃\u001b[1m \u001b[0m\u001b[1mLayer (type)                        \u001b[0m\u001b[1m \u001b[0m┃\u001b[1m \u001b[0m\u001b[1mOutput Shape               \u001b[0m\u001b[1m \u001b[0m┃\u001b[1m \u001b[0m\u001b[1m        Param #\u001b[0m\u001b[1m \u001b[0m┃\n",
       "┡━━━━━━━━━━━━━━━━━━━━━━━━━━━━━━━━━━━━━━╇━━━━━━━━━━━━━━━━━━━━━━━━━━━━━╇━━━━━━━━━━━━━━━━━┩\n",
       "│ lstm_11 (\u001b[38;5;33mLSTM\u001b[0m)                       │ (\u001b[38;5;45mNone\u001b[0m, \u001b[38;5;34m32\u001b[0m)                  │           \u001b[38;5;34m5,376\u001b[0m │\n",
       "├──────────────────────────────────────┼─────────────────────────────┼─────────────────┤\n",
       "│ dropout_11 (\u001b[38;5;33mDropout\u001b[0m)                 │ (\u001b[38;5;45mNone\u001b[0m, \u001b[38;5;34m32\u001b[0m)                  │               \u001b[38;5;34m0\u001b[0m │\n",
       "├──────────────────────────────────────┼─────────────────────────────┼─────────────────┤\n",
       "│ dense_21 (\u001b[38;5;33mDense\u001b[0m)                     │ (\u001b[38;5;45mNone\u001b[0m, \u001b[38;5;34m15\u001b[0m)                  │             \u001b[38;5;34m495\u001b[0m │\n",
       "└──────────────────────────────────────┴─────────────────────────────┴─────────────────┘\n"
      ]
     },
     "metadata": {},
     "output_type": "display_data"
    },
    {
     "data": {
      "text/html": [
       "<pre style=\"white-space:pre;overflow-x:auto;line-height:normal;font-family:Menlo,'DejaVu Sans Mono',consolas,'Courier New',monospace\"><span style=\"font-weight: bold\"> Total params: </span><span style=\"color: #00af00; text-decoration-color: #00af00\">5,871</span> (22.93 KB)\n",
       "</pre>\n"
      ],
      "text/plain": [
       "\u001b[1m Total params: \u001b[0m\u001b[38;5;34m5,871\u001b[0m (22.93 KB)\n"
      ]
     },
     "metadata": {},
     "output_type": "display_data"
    },
    {
     "data": {
      "text/html": [
       "<pre style=\"white-space:pre;overflow-x:auto;line-height:normal;font-family:Menlo,'DejaVu Sans Mono',consolas,'Courier New',monospace\"><span style=\"font-weight: bold\"> Trainable params: </span><span style=\"color: #00af00; text-decoration-color: #00af00\">5,871</span> (22.93 KB)\n",
       "</pre>\n"
      ],
      "text/plain": [
       "\u001b[1m Trainable params: \u001b[0m\u001b[38;5;34m5,871\u001b[0m (22.93 KB)\n"
      ]
     },
     "metadata": {},
     "output_type": "display_data"
    },
    {
     "data": {
      "text/html": [
       "<pre style=\"white-space:pre;overflow-x:auto;line-height:normal;font-family:Menlo,'DejaVu Sans Mono',consolas,'Courier New',monospace\"><span style=\"font-weight: bold\"> Non-trainable params: </span><span style=\"color: #00af00; text-decoration-color: #00af00\">0</span> (0.00 B)\n",
       "</pre>\n"
      ],
      "text/plain": [
       "\u001b[1m Non-trainable params: \u001b[0m\u001b[38;5;34m0\u001b[0m (0.00 B)\n"
      ]
     },
     "metadata": {},
     "output_type": "display_data"
    }
   ],
   "source": [
    "# Display a summary of the model architecture, showing each layer, its output shape, and the number of trainable parameters\n",
    "model.summary()"
   ]
  },
  {
   "cell_type": "code",
   "execution_count": 262,
   "id": "ef529f64-98b8-429d-9161-c7c6eb8a19c2",
   "metadata": {},
   "outputs": [],
   "source": [
    "# Compile the LSTM model with the following settings:\n",
    "# - loss='categorical_crossentropy': suitable for multi-class classification\n",
    "# - optimizer='rmsprop': optimizer for adjusting weights during training\n",
    "# - metrics=['accuracy']: track model accuracy during training and evaluation\n",
    "model.compile(loss='categorical_crossentropy',\n",
    "              optimizer='rmsprop',\n",
    "              metrics=['accuracy'])"
   ]
  },
  {
   "cell_type": "code",
   "execution_count": 263,
   "id": "43def845-6f4a-4e10-8c1d-0110ee56f980",
   "metadata": {},
   "outputs": [
    {
     "name": "stdout",
     "output_type": "stream",
     "text": [
      "Epoch 1/30\n",
      "\u001b[1m1076/1076\u001b[0m \u001b[32m━━━━━━━━━━━━━━━━━━━━\u001b[0m\u001b[37m\u001b[0m \u001b[1m11s\u001b[0m 7ms/step - accuracy: 0.0620 - loss: 10.6743 - val_accuracy: 0.0488 - val_loss: 9.0007\n",
      "Epoch 2/30\n",
      "\u001b[1m1076/1076\u001b[0m \u001b[32m━━━━━━━━━━━━━━━━━━━━\u001b[0m\u001b[37m\u001b[0m \u001b[1m7s\u001b[0m 6ms/step - accuracy: 0.0904 - loss: 10.7994 - val_accuracy: 0.0350 - val_loss: 9.6656\n",
      "Epoch 3/30\n",
      "\u001b[1m1076/1076\u001b[0m \u001b[32m━━━━━━━━━━━━━━━━━━━━\u001b[0m\u001b[37m\u001b[0m \u001b[1m6s\u001b[0m 6ms/step - accuracy: 0.0872 - loss: 11.3067 - val_accuracy: 0.0427 - val_loss: 10.1002\n",
      "Epoch 4/30\n",
      "\u001b[1m1076/1076\u001b[0m \u001b[32m━━━━━━━━━━━━━━━━━━━━\u001b[0m\u001b[37m\u001b[0m \u001b[1m6s\u001b[0m 6ms/step - accuracy: 0.0897 - loss: 11.4730 - val_accuracy: 0.0474 - val_loss: 10.5760\n",
      "Epoch 5/30\n",
      "\u001b[1m1076/1076\u001b[0m \u001b[32m━━━━━━━━━━━━━━━━━━━━\u001b[0m\u001b[37m\u001b[0m \u001b[1m6s\u001b[0m 6ms/step - accuracy: 0.0944 - loss: 11.9577 - val_accuracy: 0.0406 - val_loss: 10.8661\n",
      "Epoch 6/30\n",
      "\u001b[1m1076/1076\u001b[0m \u001b[32m━━━━━━━━━━━━━━━━━━━━\u001b[0m\u001b[37m\u001b[0m \u001b[1m7s\u001b[0m 6ms/step - accuracy: 0.0825 - loss: 11.7376 - val_accuracy: 0.0410 - val_loss: 10.7021\n",
      "Epoch 7/30\n",
      "\u001b[1m1076/1076\u001b[0m \u001b[32m━━━━━━━━━━━━━━━━━━━━\u001b[0m\u001b[37m\u001b[0m \u001b[1m7s\u001b[0m 6ms/step - accuracy: 0.0836 - loss: 12.2410 - val_accuracy: 0.0336 - val_loss: 11.2491\n",
      "Epoch 8/30\n",
      "\u001b[1m1076/1076\u001b[0m \u001b[32m━━━━━━━━━━━━━━━━━━━━\u001b[0m\u001b[37m\u001b[0m \u001b[1m7s\u001b[0m 6ms/step - accuracy: 0.0867 - loss: 12.4481 - val_accuracy: 0.0329 - val_loss: 11.5875\n",
      "Epoch 9/30\n",
      "\u001b[1m1076/1076\u001b[0m \u001b[32m━━━━━━━━━━━━━━━━━━━━\u001b[0m\u001b[37m\u001b[0m \u001b[1m7s\u001b[0m 6ms/step - accuracy: 0.0775 - loss: 12.7651 - val_accuracy: 0.0394 - val_loss: 12.0867\n",
      "Epoch 10/30\n",
      "\u001b[1m1076/1076\u001b[0m \u001b[32m━━━━━━━━━━━━━━━━━━━━\u001b[0m\u001b[37m\u001b[0m \u001b[1m7s\u001b[0m 6ms/step - accuracy: 0.0817 - loss: 13.3797 - val_accuracy: 0.0464 - val_loss: 12.4405\n",
      "Epoch 11/30\n",
      "\u001b[1m1076/1076\u001b[0m \u001b[32m━━━━━━━━━━━━━━━━━━━━\u001b[0m\u001b[37m\u001b[0m \u001b[1m7s\u001b[0m 7ms/step - accuracy: 0.0769 - loss: 13.4660 - val_accuracy: 0.0422 - val_loss: 12.7099\n",
      "Epoch 12/30\n",
      "\u001b[1m1076/1076\u001b[0m \u001b[32m━━━━━━━━━━━━━━━━━━━━\u001b[0m\u001b[37m\u001b[0m \u001b[1m6s\u001b[0m 6ms/step - accuracy: 0.0644 - loss: 13.4347 - val_accuracy: 0.0406 - val_loss: 12.9983\n",
      "Epoch 13/30\n",
      "\u001b[1m1076/1076\u001b[0m \u001b[32m━━━━━━━━━━━━━━━━━━━━\u001b[0m\u001b[37m\u001b[0m \u001b[1m7s\u001b[0m 6ms/step - accuracy: 0.0690 - loss: 14.1739 - val_accuracy: 0.0462 - val_loss: 13.4328\n",
      "Epoch 14/30\n",
      "\u001b[1m1076/1076\u001b[0m \u001b[32m━━━━━━━━━━━━━━━━━━━━\u001b[0m\u001b[37m\u001b[0m \u001b[1m7s\u001b[0m 6ms/step - accuracy: 0.0610 - loss: 14.2873 - val_accuracy: 0.0387 - val_loss: 13.5990\n",
      "Epoch 15/30\n",
      "\u001b[1m1076/1076\u001b[0m \u001b[32m━━━━━━━━━━━━━━━━━━━━\u001b[0m\u001b[37m\u001b[0m \u001b[1m7s\u001b[0m 6ms/step - accuracy: 0.0629 - loss: 14.2147 - val_accuracy: 0.0389 - val_loss: 13.8744\n",
      "Epoch 16/30\n",
      "\u001b[1m1076/1076\u001b[0m \u001b[32m━━━━━━━━━━━━━━━━━━━━\u001b[0m\u001b[37m\u001b[0m \u001b[1m7s\u001b[0m 6ms/step - accuracy: 0.0521 - loss: 14.6434 - val_accuracy: 0.0467 - val_loss: 14.1467\n",
      "Epoch 17/30\n",
      "\u001b[1m1076/1076\u001b[0m \u001b[32m━━━━━━━━━━━━━━━━━━━━\u001b[0m\u001b[37m\u001b[0m \u001b[1m8s\u001b[0m 7ms/step - accuracy: 0.0502 - loss: 15.2058 - val_accuracy: 0.0486 - val_loss: 14.5377\n",
      "Epoch 18/30\n",
      "\u001b[1m1076/1076\u001b[0m \u001b[32m━━━━━━━━━━━━━━━━━━━━\u001b[0m\u001b[37m\u001b[0m \u001b[1m6s\u001b[0m 6ms/step - accuracy: 0.0520 - loss: 15.2950 - val_accuracy: 0.0423 - val_loss: 14.8876\n",
      "Epoch 19/30\n",
      "\u001b[1m1076/1076\u001b[0m \u001b[32m━━━━━━━━━━━━━━━━━━━━\u001b[0m\u001b[37m\u001b[0m \u001b[1m7s\u001b[0m 7ms/step - accuracy: 0.0515 - loss: 15.9238 - val_accuracy: 0.0411 - val_loss: 15.2014\n",
      "Epoch 20/30\n",
      "\u001b[1m1076/1076\u001b[0m \u001b[32m━━━━━━━━━━━━━━━━━━━━\u001b[0m\u001b[37m\u001b[0m \u001b[1m8s\u001b[0m 7ms/step - accuracy: 0.0521 - loss: 15.5904 - val_accuracy: 0.0486 - val_loss: 15.3185\n",
      "Epoch 21/30\n",
      "\u001b[1m1076/1076\u001b[0m \u001b[32m━━━━━━━━━━━━━━━━━━━━\u001b[0m\u001b[37m\u001b[0m \u001b[1m7s\u001b[0m 6ms/step - accuracy: 0.0499 - loss: 16.1102 - val_accuracy: 0.0542 - val_loss: 15.4783\n",
      "Epoch 22/30\n",
      "\u001b[1m1076/1076\u001b[0m \u001b[32m━━━━━━━━━━━━━━━━━━━━\u001b[0m\u001b[37m\u001b[0m \u001b[1m7s\u001b[0m 7ms/step - accuracy: 0.0582 - loss: 15.9832 - val_accuracy: 0.0392 - val_loss: 15.7333\n",
      "Epoch 23/30\n",
      "\u001b[1m1076/1076\u001b[0m \u001b[32m━━━━━━━━━━━━━━━━━━━━\u001b[0m\u001b[37m\u001b[0m \u001b[1m7s\u001b[0m 6ms/step - accuracy: 0.0488 - loss: 16.7710 - val_accuracy: 0.0362 - val_loss: 16.0497\n",
      "Epoch 24/30\n",
      "\u001b[1m1076/1076\u001b[0m \u001b[32m━━━━━━━━━━━━━━━━━━━━\u001b[0m\u001b[37m\u001b[0m \u001b[1m9s\u001b[0m 6ms/step - accuracy: 0.0534 - loss: 16.7377 - val_accuracy: 0.0234 - val_loss: 16.2290\n",
      "Epoch 25/30\n",
      "\u001b[1m1076/1076\u001b[0m \u001b[32m━━━━━━━━━━━━━━━━━━━━\u001b[0m\u001b[37m\u001b[0m \u001b[1m7s\u001b[0m 6ms/step - accuracy: 0.0515 - loss: 17.0268 - val_accuracy: 0.0491 - val_loss: 16.6103\n",
      "Epoch 26/30\n",
      "\u001b[1m1076/1076\u001b[0m \u001b[32m━━━━━━━━━━━━━━━━━━━━\u001b[0m\u001b[37m\u001b[0m \u001b[1m6s\u001b[0m 6ms/step - accuracy: 0.0493 - loss: 17.3774 - val_accuracy: 0.0324 - val_loss: 16.7859\n",
      "Epoch 27/30\n",
      "\u001b[1m1076/1076\u001b[0m \u001b[32m━━━━━━━━━━━━━━━━━━━━\u001b[0m\u001b[37m\u001b[0m \u001b[1m7s\u001b[0m 6ms/step - accuracy: 0.0467 - loss: 17.5685 - val_accuracy: 0.0430 - val_loss: 17.0294\n",
      "Epoch 28/30\n",
      "\u001b[1m1076/1076\u001b[0m \u001b[32m━━━━━━━━━━━━━━━━━━━━\u001b[0m\u001b[37m\u001b[0m \u001b[1m6s\u001b[0m 6ms/step - accuracy: 0.0501 - loss: 18.3302 - val_accuracy: 0.0507 - val_loss: 17.3228\n",
      "Epoch 29/30\n",
      "\u001b[1m1076/1076\u001b[0m \u001b[32m━━━━━━━━━━━━━━━━━━━━\u001b[0m\u001b[37m\u001b[0m \u001b[1m6s\u001b[0m 6ms/step - accuracy: 0.0496 - loss: 18.1196 - val_accuracy: 0.0476 - val_loss: 17.6135\n",
      "Epoch 30/30\n",
      "\u001b[1m1076/1076\u001b[0m \u001b[32m━━━━━━━━━━━━━━━━━━━━\u001b[0m\u001b[37m\u001b[0m \u001b[1m6s\u001b[0m 6ms/step - accuracy: 0.0478 - loss: 18.6837 - val_accuracy: 0.0443 - val_loss: 17.8024\n"
     ]
    },
    {
     "data": {
      "text/plain": [
       "<keras.src.callbacks.history.History at 0x207864f98b0>"
      ]
     },
     "execution_count": 263,
     "metadata": {},
     "output_type": "execute_result"
    }
   ],
   "source": [
    "# Train the LSTM model on the training data (X_train, y_train)\n",
    "# - batch_size=batch_size: number of samples per gradient update\n",
    "# - validation_data=(X_test, y_test): evaluate model performance on test data after each epoch\n",
    "# - epochs=epochs: number of complete passes through the training dataset\n",
    "model.fit(X_train,\n",
    "          y_train,\n",
    "          batch_size=batch_size,\n",
    "          validation_data=(X_test, y_test),\n",
    "          epochs=epochs)"
   ]
  },
  {
   "cell_type": "code",
   "execution_count": 264,
   "id": "b5aa491b-9276-4139-918d-94b4277d41ea",
   "metadata": {},
   "outputs": [],
   "source": [
    "# Define a function to create a confusion matrix for model predictions\n",
    "# - Converts one-hot encoded y_true and y_pred arrays to station names using the stations dictionary\n",
    "# - np.argmax(..., axis=1) finds the predicted class index for each sample\n",
    "# - pd.crosstab generates a table showing counts of true vs predicted station labels\n",
    "def confusion_matrix(y_true, y_pred):\n",
    "    y_true = pd.Series([stations[y] for y in np.argmax(y_true, axis=1)])\n",
    "    y_pred = pd.Series([stations[y] for y in np.argmax(y_pred, axis=1)])\n",
    "\n",
    "    return pd.crosstab(y_true, y_pred, rownames=['True'], colnames=['Pred'])"
   ]
  },
  {
   "cell_type": "code",
   "execution_count": 265,
   "id": "efa0f10a-0cd8-408a-ad18-89de1e988e32",
   "metadata": {},
   "outputs": [
    {
     "name": "stdout",
     "output_type": "stream",
     "text": [
      "\u001b[1m180/180\u001b[0m \u001b[32m━━━━━━━━━━━━━━━━━━━━\u001b[0m\u001b[37m\u001b[0m \u001b[1m1s\u001b[0m 4ms/step\n",
      "Pred        BASEL  MADRID\n",
      "True                     \n",
      "BASEL        3682       0\n",
      "BELGRADE     1091       1\n",
      "BUDAPEST      214       0\n",
      "DEBILT         82       0\n",
      "DUSSELDORF     29       0\n",
      "HEATHROW       82       0\n",
      "KASSEL         11       0\n",
      "LJUBLJANA      60       1\n",
      "MAASTRICHT      9       0\n",
      "MADRID        458       0\n",
      "MUNCHENB        8       0\n",
      "OSLO            5       0\n",
      "STOCKHOLM       4       0\n",
      "VALENTIA        1       0\n"
     ]
    }
   ],
   "source": [
    "# Evaluate the trained LSTM model on the test set\n",
    "# - model.predict(X_test) generates predictions for the test inputs\n",
    "# - confusion_matrix() compares predicted labels with true labels\n",
    "# - Prints a table showing how well the model predicted each station\n",
    "print(confusion_matrix(y_test, model.predict(X_test)))"
   ]
  },
  {
   "cell_type": "markdown",
   "id": "365a9fa6-ed52-4efe-9dbc-c82ff45f6baa",
   "metadata": {},
   "source": [
    "The model’s accuracy seems to drop while the loss rises."
   ]
  },
  {
   "cell_type": "markdown",
   "id": "899dc5f7-ed41-4c17-98bc-ba4a1e5e6b72",
   "metadata": {},
   "source": [
    "# 9. Modifying hyperparameters and updating activation function"
   ]
  },
  {
   "cell_type": "code",
   "execution_count": 268,
   "id": "475416eb-6f51-4f09-883b-7b66da15746a",
   "metadata": {},
   "outputs": [
    {
     "data": {
      "text/html": [
       "<pre style=\"white-space:pre;overflow-x:auto;line-height:normal;font-family:Menlo,'DejaVu Sans Mono',consolas,'Courier New',monospace\"><span style=\"font-weight: bold\">Model: \"sequential_18\"</span>\n",
       "</pre>\n"
      ],
      "text/plain": [
       "\u001b[1mModel: \"sequential_18\"\u001b[0m\n"
      ]
     },
     "metadata": {},
     "output_type": "display_data"
    },
    {
     "data": {
      "text/html": [
       "<pre style=\"white-space:pre;overflow-x:auto;line-height:normal;font-family:Menlo,'DejaVu Sans Mono',consolas,'Courier New',monospace\">┏━━━━━━━━━━━━━━━━━━━━━━━━━━━━━━━━━━━━━━┳━━━━━━━━━━━━━━━━━━━━━━━━━━━━━┳━━━━━━━━━━━━━━━━━┓\n",
       "┃<span style=\"font-weight: bold\"> Layer (type)                         </span>┃<span style=\"font-weight: bold\"> Output Shape                </span>┃<span style=\"font-weight: bold\">         Param # </span>┃\n",
       "┡━━━━━━━━━━━━━━━━━━━━━━━━━━━━━━━━━━━━━━╇━━━━━━━━━━━━━━━━━━━━━━━━━━━━━╇━━━━━━━━━━━━━━━━━┩\n",
       "│ lstm_12 (<span style=\"color: #0087ff; text-decoration-color: #0087ff\">LSTM</span>)                       │ (<span style=\"color: #00d7ff; text-decoration-color: #00d7ff\">None</span>, <span style=\"color: #00af00; text-decoration-color: #00af00\">64</span>)                  │          <span style=\"color: #00af00; text-decoration-color: #00af00\">18,944</span> │\n",
       "├──────────────────────────────────────┼─────────────────────────────┼─────────────────┤\n",
       "│ dropout_12 (<span style=\"color: #0087ff; text-decoration-color: #0087ff\">Dropout</span>)                 │ (<span style=\"color: #00d7ff; text-decoration-color: #00d7ff\">None</span>, <span style=\"color: #00af00; text-decoration-color: #00af00\">64</span>)                  │               <span style=\"color: #00af00; text-decoration-color: #00af00\">0</span> │\n",
       "├──────────────────────────────────────┼─────────────────────────────┼─────────────────┤\n",
       "│ dense_22 (<span style=\"color: #0087ff; text-decoration-color: #0087ff\">Dense</span>)                     │ (<span style=\"color: #00d7ff; text-decoration-color: #00d7ff\">None</span>, <span style=\"color: #00af00; text-decoration-color: #00af00\">15</span>)                  │             <span style=\"color: #00af00; text-decoration-color: #00af00\">975</span> │\n",
       "└──────────────────────────────────────┴─────────────────────────────┴─────────────────┘\n",
       "</pre>\n"
      ],
      "text/plain": [
       "┏━━━━━━━━━━━━━━━━━━━━━━━━━━━━━━━━━━━━━━┳━━━━━━━━━━━━━━━━━━━━━━━━━━━━━┳━━━━━━━━━━━━━━━━━┓\n",
       "┃\u001b[1m \u001b[0m\u001b[1mLayer (type)                        \u001b[0m\u001b[1m \u001b[0m┃\u001b[1m \u001b[0m\u001b[1mOutput Shape               \u001b[0m\u001b[1m \u001b[0m┃\u001b[1m \u001b[0m\u001b[1m        Param #\u001b[0m\u001b[1m \u001b[0m┃\n",
       "┡━━━━━━━━━━━━━━━━━━━━━━━━━━━━━━━━━━━━━━╇━━━━━━━━━━━━━━━━━━━━━━━━━━━━━╇━━━━━━━━━━━━━━━━━┩\n",
       "│ lstm_12 (\u001b[38;5;33mLSTM\u001b[0m)                       │ (\u001b[38;5;45mNone\u001b[0m, \u001b[38;5;34m64\u001b[0m)                  │          \u001b[38;5;34m18,944\u001b[0m │\n",
       "├──────────────────────────────────────┼─────────────────────────────┼─────────────────┤\n",
       "│ dropout_12 (\u001b[38;5;33mDropout\u001b[0m)                 │ (\u001b[38;5;45mNone\u001b[0m, \u001b[38;5;34m64\u001b[0m)                  │               \u001b[38;5;34m0\u001b[0m │\n",
       "├──────────────────────────────────────┼─────────────────────────────┼─────────────────┤\n",
       "│ dense_22 (\u001b[38;5;33mDense\u001b[0m)                     │ (\u001b[38;5;45mNone\u001b[0m, \u001b[38;5;34m15\u001b[0m)                  │             \u001b[38;5;34m975\u001b[0m │\n",
       "└──────────────────────────────────────┴─────────────────────────────┴─────────────────┘\n"
      ]
     },
     "metadata": {},
     "output_type": "display_data"
    },
    {
     "data": {
      "text/html": [
       "<pre style=\"white-space:pre;overflow-x:auto;line-height:normal;font-family:Menlo,'DejaVu Sans Mono',consolas,'Courier New',monospace\"><span style=\"font-weight: bold\"> Total params: </span><span style=\"color: #00af00; text-decoration-color: #00af00\">19,919</span> (77.81 KB)\n",
       "</pre>\n"
      ],
      "text/plain": [
       "\u001b[1m Total params: \u001b[0m\u001b[38;5;34m19,919\u001b[0m (77.81 KB)\n"
      ]
     },
     "metadata": {},
     "output_type": "display_data"
    },
    {
     "data": {
      "text/html": [
       "<pre style=\"white-space:pre;overflow-x:auto;line-height:normal;font-family:Menlo,'DejaVu Sans Mono',consolas,'Courier New',monospace\"><span style=\"font-weight: bold\"> Trainable params: </span><span style=\"color: #00af00; text-decoration-color: #00af00\">19,919</span> (77.81 KB)\n",
       "</pre>\n"
      ],
      "text/plain": [
       "\u001b[1m Trainable params: \u001b[0m\u001b[38;5;34m19,919\u001b[0m (77.81 KB)\n"
      ]
     },
     "metadata": {},
     "output_type": "display_data"
    },
    {
     "data": {
      "text/html": [
       "<pre style=\"white-space:pre;overflow-x:auto;line-height:normal;font-family:Menlo,'DejaVu Sans Mono',consolas,'Courier New',monospace\"><span style=\"font-weight: bold\"> Non-trainable params: </span><span style=\"color: #00af00; text-decoration-color: #00af00\">0</span> (0.00 B)\n",
       "</pre>\n"
      ],
      "text/plain": [
       "\u001b[1m Non-trainable params: \u001b[0m\u001b[38;5;34m0\u001b[0m (0.00 B)\n"
      ]
     },
     "metadata": {},
     "output_type": "display_data"
    }
   ],
   "source": [
    "# Set updated training parameters and rebuild the LSTM model with new hyperparameters\n",
    "epochs = 30\n",
    "batch_size = 16\n",
    "n_hidden = 64\n",
    "\n",
    "timesteps = len(X_train[0])\n",
    "input_dim = len(X_train[0][0])\n",
    "n_classes = len(y_train[0])\n",
    "\n",
    "# Build the model using an explicit Input layer\n",
    "model = Sequential()\n",
    "model.add(Input(shape=(timesteps, input_dim)))  # Explicit input layer to avoid warning\n",
    "model.add(LSTM(n_hidden))                        # LSTM layer with n_hidden units\n",
    "model.add(Dropout(0.5))                          # Dropout layer to reduce overfitting\n",
    "model.add(Dense(n_classes, activation='tanh'))   # Dense output layer with 'tanh' activation\n",
    "\n",
    "# Display model summary\n",
    "model.summary()"
   ]
  },
  {
   "cell_type": "code",
   "execution_count": 269,
   "id": "3ecf979e-7406-420d-bc4e-cd042519c056",
   "metadata": {},
   "outputs": [
    {
     "data": {
      "text/html": [
       "<pre style=\"white-space:pre;overflow-x:auto;line-height:normal;font-family:Menlo,'DejaVu Sans Mono',consolas,'Courier New',monospace\"><span style=\"font-weight: bold\">Model: \"sequential_18\"</span>\n",
       "</pre>\n"
      ],
      "text/plain": [
       "\u001b[1mModel: \"sequential_18\"\u001b[0m\n"
      ]
     },
     "metadata": {},
     "output_type": "display_data"
    },
    {
     "data": {
      "text/html": [
       "<pre style=\"white-space:pre;overflow-x:auto;line-height:normal;font-family:Menlo,'DejaVu Sans Mono',consolas,'Courier New',monospace\">┏━━━━━━━━━━━━━━━━━━━━━━━━━━━━━━━━━━━━━━┳━━━━━━━━━━━━━━━━━━━━━━━━━━━━━┳━━━━━━━━━━━━━━━━━┓\n",
       "┃<span style=\"font-weight: bold\"> Layer (type)                         </span>┃<span style=\"font-weight: bold\"> Output Shape                </span>┃<span style=\"font-weight: bold\">         Param # </span>┃\n",
       "┡━━━━━━━━━━━━━━━━━━━━━━━━━━━━━━━━━━━━━━╇━━━━━━━━━━━━━━━━━━━━━━━━━━━━━╇━━━━━━━━━━━━━━━━━┩\n",
       "│ lstm_12 (<span style=\"color: #0087ff; text-decoration-color: #0087ff\">LSTM</span>)                       │ (<span style=\"color: #00d7ff; text-decoration-color: #00d7ff\">None</span>, <span style=\"color: #00af00; text-decoration-color: #00af00\">64</span>)                  │          <span style=\"color: #00af00; text-decoration-color: #00af00\">18,944</span> │\n",
       "├──────────────────────────────────────┼─────────────────────────────┼─────────────────┤\n",
       "│ dropout_12 (<span style=\"color: #0087ff; text-decoration-color: #0087ff\">Dropout</span>)                 │ (<span style=\"color: #00d7ff; text-decoration-color: #00d7ff\">None</span>, <span style=\"color: #00af00; text-decoration-color: #00af00\">64</span>)                  │               <span style=\"color: #00af00; text-decoration-color: #00af00\">0</span> │\n",
       "├──────────────────────────────────────┼─────────────────────────────┼─────────────────┤\n",
       "│ dense_22 (<span style=\"color: #0087ff; text-decoration-color: #0087ff\">Dense</span>)                     │ (<span style=\"color: #00d7ff; text-decoration-color: #00d7ff\">None</span>, <span style=\"color: #00af00; text-decoration-color: #00af00\">15</span>)                  │             <span style=\"color: #00af00; text-decoration-color: #00af00\">975</span> │\n",
       "└──────────────────────────────────────┴─────────────────────────────┴─────────────────┘\n",
       "</pre>\n"
      ],
      "text/plain": [
       "┏━━━━━━━━━━━━━━━━━━━━━━━━━━━━━━━━━━━━━━┳━━━━━━━━━━━━━━━━━━━━━━━━━━━━━┳━━━━━━━━━━━━━━━━━┓\n",
       "┃\u001b[1m \u001b[0m\u001b[1mLayer (type)                        \u001b[0m\u001b[1m \u001b[0m┃\u001b[1m \u001b[0m\u001b[1mOutput Shape               \u001b[0m\u001b[1m \u001b[0m┃\u001b[1m \u001b[0m\u001b[1m        Param #\u001b[0m\u001b[1m \u001b[0m┃\n",
       "┡━━━━━━━━━━━━━━━━━━━━━━━━━━━━━━━━━━━━━━╇━━━━━━━━━━━━━━━━━━━━━━━━━━━━━╇━━━━━━━━━━━━━━━━━┩\n",
       "│ lstm_12 (\u001b[38;5;33mLSTM\u001b[0m)                       │ (\u001b[38;5;45mNone\u001b[0m, \u001b[38;5;34m64\u001b[0m)                  │          \u001b[38;5;34m18,944\u001b[0m │\n",
       "├──────────────────────────────────────┼─────────────────────────────┼─────────────────┤\n",
       "│ dropout_12 (\u001b[38;5;33mDropout\u001b[0m)                 │ (\u001b[38;5;45mNone\u001b[0m, \u001b[38;5;34m64\u001b[0m)                  │               \u001b[38;5;34m0\u001b[0m │\n",
       "├──────────────────────────────────────┼─────────────────────────────┼─────────────────┤\n",
       "│ dense_22 (\u001b[38;5;33mDense\u001b[0m)                     │ (\u001b[38;5;45mNone\u001b[0m, \u001b[38;5;34m15\u001b[0m)                  │             \u001b[38;5;34m975\u001b[0m │\n",
       "└──────────────────────────────────────┴─────────────────────────────┴─────────────────┘\n"
      ]
     },
     "metadata": {},
     "output_type": "display_data"
    },
    {
     "data": {
      "text/html": [
       "<pre style=\"white-space:pre;overflow-x:auto;line-height:normal;font-family:Menlo,'DejaVu Sans Mono',consolas,'Courier New',monospace\"><span style=\"font-weight: bold\"> Total params: </span><span style=\"color: #00af00; text-decoration-color: #00af00\">19,919</span> (77.81 KB)\n",
       "</pre>\n"
      ],
      "text/plain": [
       "\u001b[1m Total params: \u001b[0m\u001b[38;5;34m19,919\u001b[0m (77.81 KB)\n"
      ]
     },
     "metadata": {},
     "output_type": "display_data"
    },
    {
     "data": {
      "text/html": [
       "<pre style=\"white-space:pre;overflow-x:auto;line-height:normal;font-family:Menlo,'DejaVu Sans Mono',consolas,'Courier New',monospace\"><span style=\"font-weight: bold\"> Trainable params: </span><span style=\"color: #00af00; text-decoration-color: #00af00\">19,919</span> (77.81 KB)\n",
       "</pre>\n"
      ],
      "text/plain": [
       "\u001b[1m Trainable params: \u001b[0m\u001b[38;5;34m19,919\u001b[0m (77.81 KB)\n"
      ]
     },
     "metadata": {},
     "output_type": "display_data"
    },
    {
     "data": {
      "text/html": [
       "<pre style=\"white-space:pre;overflow-x:auto;line-height:normal;font-family:Menlo,'DejaVu Sans Mono',consolas,'Courier New',monospace\"><span style=\"font-weight: bold\"> Non-trainable params: </span><span style=\"color: #00af00; text-decoration-color: #00af00\">0</span> (0.00 B)\n",
       "</pre>\n"
      ],
      "text/plain": [
       "\u001b[1m Non-trainable params: \u001b[0m\u001b[38;5;34m0\u001b[0m (0.00 B)\n"
      ]
     },
     "metadata": {},
     "output_type": "display_data"
    }
   ],
   "source": [
    "# Display the model summary\n",
    "model.summary()"
   ]
  },
  {
   "cell_type": "code",
   "execution_count": 270,
   "id": "39f7324e-20ba-4719-bb30-26974afba4a9",
   "metadata": {},
   "outputs": [],
   "source": [
    "# Compile the LSTM model\n",
    "# - loss='categorical_crossentropy': appropriate loss function for multi-class classification\n",
    "# - optimizer='rmsprop': adaptive optimizer suitable for RNNs/LSTMs\n",
    "# - metrics=['accuracy']: track accuracy during training and evaluation\n",
    "model.compile(loss='categorical_crossentropy',\n",
    "              optimizer='rmsprop',\n",
    "              metrics=['accuracy'])"
   ]
  },
  {
   "cell_type": "code",
   "execution_count": 271,
   "id": "9ea76cbb-b944-44f9-ba14-25b8e72517ab",
   "metadata": {},
   "outputs": [
    {
     "name": "stdout",
     "output_type": "stream",
     "text": [
      "Epoch 1/30\n",
      "\u001b[1m1076/1076\u001b[0m \u001b[32m━━━━━━━━━━━━━━━━━━━━\u001b[0m\u001b[37m\u001b[0m \u001b[1m12s\u001b[0m 7ms/step - accuracy: 0.0279 - loss: 24.9604 - val_accuracy: 0.0850 - val_loss: 22.6357\n",
      "Epoch 2/30\n",
      "\u001b[1m1076/1076\u001b[0m \u001b[32m━━━━━━━━━━━━━━━━━━━━\u001b[0m\u001b[37m\u001b[0m \u001b[1m7s\u001b[0m 7ms/step - accuracy: 0.0643 - loss: 25.0337 - val_accuracy: 0.0763 - val_loss: 25.9383\n",
      "Epoch 3/30\n",
      "\u001b[1m1076/1076\u001b[0m \u001b[32m━━━━━━━━━━━━━━━━━━━━\u001b[0m\u001b[37m\u001b[0m \u001b[1m9s\u001b[0m 8ms/step - accuracy: 0.0698 - loss: 24.7253 - val_accuracy: 0.1596 - val_loss: 19.9886\n",
      "Epoch 4/30\n",
      "\u001b[1m1076/1076\u001b[0m \u001b[32m━━━━━━━━━━━━━━━━━━━━\u001b[0m\u001b[37m\u001b[0m \u001b[1m8s\u001b[0m 7ms/step - accuracy: 0.0781 - loss: 24.8576 - val_accuracy: 0.0396 - val_loss: 27.3011\n",
      "Epoch 5/30\n",
      "\u001b[1m1076/1076\u001b[0m \u001b[32m━━━━━━━━━━━━━━━━━━━━\u001b[0m\u001b[37m\u001b[0m \u001b[1m8s\u001b[0m 7ms/step - accuracy: 0.1026 - loss: 24.9044 - val_accuracy: 0.2529 - val_loss: 24.9915\n",
      "Epoch 6/30\n",
      "\u001b[1m1076/1076\u001b[0m \u001b[32m━━━━━━━━━━━━━━━━━━━━\u001b[0m\u001b[37m\u001b[0m \u001b[1m8s\u001b[0m 8ms/step - accuracy: 0.1630 - loss: 24.4794 - val_accuracy: 0.0861 - val_loss: 25.6886\n",
      "Epoch 7/30\n",
      "\u001b[1m1076/1076\u001b[0m \u001b[32m━━━━━━━━━━━━━━━━━━━━\u001b[0m\u001b[37m\u001b[0m \u001b[1m8s\u001b[0m 7ms/step - accuracy: 0.1082 - loss: 23.9694 - val_accuracy: 0.1901 - val_loss: 21.7498\n",
      "Epoch 8/30\n",
      "\u001b[1m1076/1076\u001b[0m \u001b[32m━━━━━━━━━━━━━━━━━━━━\u001b[0m\u001b[37m\u001b[0m \u001b[1m7s\u001b[0m 7ms/step - accuracy: 0.1229 - loss: 24.8515 - val_accuracy: 0.0016 - val_loss: 23.5900\n",
      "Epoch 9/30\n",
      "\u001b[1m1076/1076\u001b[0m \u001b[32m━━━━━━━━━━━━━━━━━━━━\u001b[0m\u001b[37m\u001b[0m \u001b[1m7s\u001b[0m 7ms/step - accuracy: 0.0625 - loss: 24.8431 - val_accuracy: 0.2921 - val_loss: 22.9573\n",
      "Epoch 10/30\n",
      "\u001b[1m1076/1076\u001b[0m \u001b[32m━━━━━━━━━━━━━━━━━━━━\u001b[0m\u001b[37m\u001b[0m \u001b[1m7s\u001b[0m 7ms/step - accuracy: 0.1410 - loss: 24.0458 - val_accuracy: 0.0241 - val_loss: 25.7087\n",
      "Epoch 11/30\n",
      "\u001b[1m1076/1076\u001b[0m \u001b[32m━━━━━━━━━━━━━━━━━━━━\u001b[0m\u001b[37m\u001b[0m \u001b[1m7s\u001b[0m 7ms/step - accuracy: 0.0682 - loss: 21.3252 - val_accuracy: 0.0000e+00 - val_loss: 23.8597\n",
      "Epoch 12/30\n",
      "\u001b[1m1076/1076\u001b[0m \u001b[32m━━━━━━━━━━━━━━━━━━━━\u001b[0m\u001b[37m\u001b[0m \u001b[1m7s\u001b[0m 7ms/step - accuracy: 0.0196 - loss: 21.3675 - val_accuracy: 0.0000e+00 - val_loss: 23.9328\n",
      "Epoch 13/30\n",
      "\u001b[1m1076/1076\u001b[0m \u001b[32m━━━━━━━━━━━━━━━━━━━━\u001b[0m\u001b[37m\u001b[0m \u001b[1m7s\u001b[0m 6ms/step - accuracy: 0.0191 - loss: 23.8124 - val_accuracy: 0.0000e+00 - val_loss: 23.3904\n",
      "Epoch 14/30\n",
      "\u001b[1m1076/1076\u001b[0m \u001b[32m━━━━━━━━━━━━━━━━━━━━\u001b[0m\u001b[37m\u001b[0m \u001b[1m7s\u001b[0m 7ms/step - accuracy: 0.0352 - loss: 24.4034 - val_accuracy: 0.0000e+00 - val_loss: 27.0881\n",
      "Epoch 15/30\n",
      "\u001b[1m1076/1076\u001b[0m \u001b[32m━━━━━━━━━━━━━━━━━━━━\u001b[0m\u001b[37m\u001b[0m \u001b[1m8s\u001b[0m 7ms/step - accuracy: 0.0418 - loss: 24.3633 - val_accuracy: 0.0000e+00 - val_loss: 23.8832\n",
      "Epoch 16/30\n",
      "\u001b[1m1076/1076\u001b[0m \u001b[32m━━━━━━━━━━━━━━━━━━━━\u001b[0m\u001b[37m\u001b[0m \u001b[1m8s\u001b[0m 7ms/step - accuracy: 0.0543 - loss: 24.6171 - val_accuracy: 0.0000e+00 - val_loss: 23.5979\n",
      "Epoch 17/30\n",
      "\u001b[1m1076/1076\u001b[0m \u001b[32m━━━━━━━━━━━━━━━━━━━━\u001b[0m\u001b[37m\u001b[0m \u001b[1m7s\u001b[0m 7ms/step - accuracy: 0.0453 - loss: 25.7967 - val_accuracy: 0.0000e+00 - val_loss: 22.5339\n",
      "Epoch 18/30\n",
      "\u001b[1m1076/1076\u001b[0m \u001b[32m━━━━━━━━━━━━━━━━━━━━\u001b[0m\u001b[37m\u001b[0m \u001b[1m7s\u001b[0m 7ms/step - accuracy: 0.0337 - loss: 26.4237 - val_accuracy: 0.0000e+00 - val_loss: 29.2726\n",
      "Epoch 19/30\n",
      "\u001b[1m1076/1076\u001b[0m \u001b[32m━━━━━━━━━━━━━━━━━━━━\u001b[0m\u001b[37m\u001b[0m \u001b[1m7s\u001b[0m 6ms/step - accuracy: 0.0384 - loss: 26.2944 - val_accuracy: 0.0000e+00 - val_loss: 24.4468\n",
      "Epoch 20/30\n",
      "\u001b[1m1076/1076\u001b[0m \u001b[32m━━━━━━━━━━━━━━━━━━━━\u001b[0m\u001b[37m\u001b[0m \u001b[1m8s\u001b[0m 7ms/step - accuracy: 0.0367 - loss: 25.6100 - val_accuracy: 0.0000e+00 - val_loss: 22.5909\n",
      "Epoch 21/30\n",
      "\u001b[1m1076/1076\u001b[0m \u001b[32m━━━━━━━━━━━━━━━━━━━━\u001b[0m\u001b[37m\u001b[0m \u001b[1m8s\u001b[0m 7ms/step - accuracy: 0.0382 - loss: 25.6826 - val_accuracy: 0.0000e+00 - val_loss: 23.8629\n",
      "Epoch 22/30\n",
      "\u001b[1m1076/1076\u001b[0m \u001b[32m━━━━━━━━━━━━━━━━━━━━\u001b[0m\u001b[37m\u001b[0m \u001b[1m7s\u001b[0m 6ms/step - accuracy: 0.0441 - loss: 25.4603 - val_accuracy: 1.7428e-04 - val_loss: 23.8553\n",
      "Epoch 23/30\n",
      "\u001b[1m1076/1076\u001b[0m \u001b[32m━━━━━━━━━━━━━━━━━━━━\u001b[0m\u001b[37m\u001b[0m \u001b[1m7s\u001b[0m 7ms/step - accuracy: 0.0439 - loss: 26.0584 - val_accuracy: 0.0000e+00 - val_loss: 21.6123\n",
      "Epoch 24/30\n",
      "\u001b[1m1076/1076\u001b[0m \u001b[32m━━━━━━━━━━━━━━━━━━━━\u001b[0m\u001b[37m\u001b[0m \u001b[1m8s\u001b[0m 7ms/step - accuracy: 0.0455 - loss: 26.4954 - val_accuracy: 1.7428e-04 - val_loss: 29.2135\n",
      "Epoch 25/30\n",
      "\u001b[1m1076/1076\u001b[0m \u001b[32m━━━━━━━━━━━━━━━━━━━━\u001b[0m\u001b[37m\u001b[0m \u001b[1m9s\u001b[0m 8ms/step - accuracy: 0.0533 - loss: 26.9167 - val_accuracy: 0.0000e+00 - val_loss: 23.8909\n",
      "Epoch 26/30\n",
      "\u001b[1m1076/1076\u001b[0m \u001b[32m━━━━━━━━━━━━━━━━━━━━\u001b[0m\u001b[37m\u001b[0m \u001b[1m9s\u001b[0m 8ms/step - accuracy: 0.0370 - loss: 26.1914 - val_accuracy: 3.4855e-04 - val_loss: 23.8717\n",
      "Epoch 27/30\n",
      "\u001b[1m1076/1076\u001b[0m \u001b[32m━━━━━━━━━━━━━━━━━━━━\u001b[0m\u001b[37m\u001b[0m \u001b[1m8s\u001b[0m 8ms/step - accuracy: 0.0286 - loss: 25.7937 - val_accuracy: 0.0023 - val_loss: 17.2654\n",
      "Epoch 28/30\n",
      "\u001b[1m1076/1076\u001b[0m \u001b[32m━━━━━━━━━━━━━━━━━━━━\u001b[0m\u001b[37m\u001b[0m \u001b[1m9s\u001b[0m 8ms/step - accuracy: 0.0482 - loss: 26.8491 - val_accuracy: 0.0289 - val_loss: 22.1400\n",
      "Epoch 29/30\n",
      "\u001b[1m1076/1076\u001b[0m \u001b[32m━━━━━━━━━━━━━━━━━━━━\u001b[0m\u001b[37m\u001b[0m \u001b[1m9s\u001b[0m 8ms/step - accuracy: 0.0893 - loss: 26.1291 - val_accuracy: 0.0103 - val_loss: 18.0418\n",
      "Epoch 30/30\n",
      "\u001b[1m1076/1076\u001b[0m \u001b[32m━━━━━━━━━━━━━━━━━━━━\u001b[0m\u001b[37m\u001b[0m \u001b[1m9s\u001b[0m 8ms/step - accuracy: 0.0525 - loss: 24.2439 - val_accuracy: 5.2283e-04 - val_loss: 17.7927\n"
     ]
    },
    {
     "data": {
      "text/plain": [
       "<keras.src.callbacks.history.History at 0x20788c132f0>"
      ]
     },
     "execution_count": 271,
     "metadata": {},
     "output_type": "execute_result"
    }
   ],
   "source": [
    "# Train the LSTM model on the training data\n",
    "# - X_train, y_train: training features and labels\n",
    "# - batch_size: number of samples per gradient update\n",
    "# - validation_data: evaluate model performance on the test set after each epoch\n",
    "# - epochs: number of complete passes through the training data\n",
    "model.fit(X_train,\n",
    "          y_train,\n",
    "          batch_size=batch_size,\n",
    "          validation_data=(X_test, y_test),\n",
    "          epochs=epochs)"
   ]
  },
  {
   "cell_type": "code",
   "execution_count": 272,
   "id": "3f54819e-a590-4d1b-b25b-d4f27da85476",
   "metadata": {},
   "outputs": [],
   "source": [
    "# Define a function to create a confusion matrix\n",
    "# - y_true: true labels (one-hot encoded)\n",
    "# - y_pred: predicted labels (one-hot encoded)\n",
    "# The function converts one-hot arrays to station names, then computes a crosstab showing\n",
    "# how often each true label was predicted as each possible class, helping evaluate model performance.\n",
    "def confusion_matrix(y_true, y_pred):\n",
    "    y_true = pd.Series([stations[y] for y in np.argmax(y_true, axis=1)])\n",
    "    y_pred = pd.Series([stations[y] for y in np.argmax(y_pred, axis=1)])\n",
    "\n",
    "    return pd.crosstab(y_true, y_pred, rownames=['True'], colnames=['Pred'])"
   ]
  },
  {
   "cell_type": "code",
   "execution_count": 273,
   "id": "8368b74d-ebb5-423c-96c0-00970aeccd6b",
   "metadata": {},
   "outputs": [
    {
     "name": "stdout",
     "output_type": "stream",
     "text": [
      "\u001b[1m180/180\u001b[0m \u001b[32m━━━━━━━━━━━━━━━━━━━━\u001b[0m\u001b[37m\u001b[0m \u001b[1m2s\u001b[0m 6ms/step\n",
      "Pred        BELGRADE  MUNCHENB  SONNBLICK\n",
      "True                                     \n",
      "BASEL            237         0       3445\n",
      "BELGRADE           3         0       1089\n",
      "BUDAPEST           0         1        213\n",
      "DEBILT             0         0         82\n",
      "DUSSELDORF         0         0         29\n",
      "HEATHROW           0         0         82\n",
      "KASSEL             0         0         11\n",
      "LJUBLJANA          0         0         61\n",
      "MAASTRICHT         0         0          9\n",
      "MADRID             0         0        458\n",
      "MUNCHENB           0         0          8\n",
      "OSLO               0         0          5\n",
      "STOCKHOLM          0         0          4\n",
      "VALENTIA           0         0          1\n"
     ]
    }
   ],
   "source": [
    "# Evaluate the model's performance on the test set\n",
    "# - model.predict(X_test) generates predictions for the test data\n",
    "# - confusion_matrix() compares predicted vs. true labels and prints a table\n",
    "#   showing how often each true station was classified as each predicted station\n",
    "print(confusion_matrix(y_test, model.predict(X_test)))"
   ]
  },
  {
   "cell_type": "markdown",
   "id": "7a7f7933-dc05-40f1-990b-b3670eb99666",
   "metadata": {},
   "source": [
    "# 10. Tuning hyperparameters, incorporating convolution & pooling layers, and modifying the optimizer"
   ]
  },
  {
   "cell_type": "code",
   "execution_count": 275,
   "id": "e0a59b70-0aac-47f7-80b9-04878db74201",
   "metadata": {},
   "outputs": [],
   "source": [
    "# Set training parameters\n",
    "epochs = 25\n",
    "batch_size = 16\n",
    "n_hidden = 8\n",
    "\n",
    "timesteps = len(X_train[0])\n",
    "input_dim = len(X_train[0][0])\n",
    "n_classes = len(y_train[0])\n",
    "\n",
    "# Build the CNN-LSTM model using an explicit Input layer\n",
    "model = Sequential()\n",
    "model.add(Input(shape=(timesteps, input_dim)))         # Explicit Input layer\n",
    "model.add(Conv1D(n_hidden, kernel_size=2, activation='relu'))  # Conv1D layer\n",
    "model.add(MaxPooling1D())                              # MaxPooling layer\n",
    "model.add(LSTM(n_hidden))                              # LSTM layer\n",
    "model.add(Dropout(0.5))                                # Dropout to reduce overfitting\n",
    "model.add(Dense(n_classes, activation='tanh'))        # Output layer"
   ]
  },
  {
   "cell_type": "code",
   "execution_count": 276,
   "id": "3d0baf67-7548-4cba-98a7-340f7b41f352",
   "metadata": {},
   "outputs": [
    {
     "data": {
      "text/html": [
       "<pre style=\"white-space:pre;overflow-x:auto;line-height:normal;font-family:Menlo,'DejaVu Sans Mono',consolas,'Courier New',monospace\"><span style=\"font-weight: bold\">Model: \"sequential_19\"</span>\n",
       "</pre>\n"
      ],
      "text/plain": [
       "\u001b[1mModel: \"sequential_19\"\u001b[0m\n"
      ]
     },
     "metadata": {},
     "output_type": "display_data"
    },
    {
     "data": {
      "text/html": [
       "<pre style=\"white-space:pre;overflow-x:auto;line-height:normal;font-family:Menlo,'DejaVu Sans Mono',consolas,'Courier New',monospace\">┏━━━━━━━━━━━━━━━━━━━━━━━━━━━━━━━━━━━━━━┳━━━━━━━━━━━━━━━━━━━━━━━━━━━━━┳━━━━━━━━━━━━━━━━━┓\n",
       "┃<span style=\"font-weight: bold\"> Layer (type)                         </span>┃<span style=\"font-weight: bold\"> Output Shape                </span>┃<span style=\"font-weight: bold\">         Param # </span>┃\n",
       "┡━━━━━━━━━━━━━━━━━━━━━━━━━━━━━━━━━━━━━━╇━━━━━━━━━━━━━━━━━━━━━━━━━━━━━╇━━━━━━━━━━━━━━━━━┩\n",
       "│ conv1d_7 (<span style=\"color: #0087ff; text-decoration-color: #0087ff\">Conv1D</span>)                    │ (<span style=\"color: #00d7ff; text-decoration-color: #00d7ff\">None</span>, <span style=\"color: #00af00; text-decoration-color: #00af00\">14</span>, <span style=\"color: #00af00; text-decoration-color: #00af00\">8</span>)               │             <span style=\"color: #00af00; text-decoration-color: #00af00\">152</span> │\n",
       "├──────────────────────────────────────┼─────────────────────────────┼─────────────────┤\n",
       "│ max_pooling1d_7 (<span style=\"color: #0087ff; text-decoration-color: #0087ff\">MaxPooling1D</span>)       │ (<span style=\"color: #00d7ff; text-decoration-color: #00d7ff\">None</span>, <span style=\"color: #00af00; text-decoration-color: #00af00\">7</span>, <span style=\"color: #00af00; text-decoration-color: #00af00\">8</span>)                │               <span style=\"color: #00af00; text-decoration-color: #00af00\">0</span> │\n",
       "├──────────────────────────────────────┼─────────────────────────────┼─────────────────┤\n",
       "│ lstm_13 (<span style=\"color: #0087ff; text-decoration-color: #0087ff\">LSTM</span>)                       │ (<span style=\"color: #00d7ff; text-decoration-color: #00d7ff\">None</span>, <span style=\"color: #00af00; text-decoration-color: #00af00\">8</span>)                   │             <span style=\"color: #00af00; text-decoration-color: #00af00\">544</span> │\n",
       "├──────────────────────────────────────┼─────────────────────────────┼─────────────────┤\n",
       "│ dropout_13 (<span style=\"color: #0087ff; text-decoration-color: #0087ff\">Dropout</span>)                 │ (<span style=\"color: #00d7ff; text-decoration-color: #00d7ff\">None</span>, <span style=\"color: #00af00; text-decoration-color: #00af00\">8</span>)                   │               <span style=\"color: #00af00; text-decoration-color: #00af00\">0</span> │\n",
       "├──────────────────────────────────────┼─────────────────────────────┼─────────────────┤\n",
       "│ dense_23 (<span style=\"color: #0087ff; text-decoration-color: #0087ff\">Dense</span>)                     │ (<span style=\"color: #00d7ff; text-decoration-color: #00d7ff\">None</span>, <span style=\"color: #00af00; text-decoration-color: #00af00\">15</span>)                  │             <span style=\"color: #00af00; text-decoration-color: #00af00\">135</span> │\n",
       "└──────────────────────────────────────┴─────────────────────────────┴─────────────────┘\n",
       "</pre>\n"
      ],
      "text/plain": [
       "┏━━━━━━━━━━━━━━━━━━━━━━━━━━━━━━━━━━━━━━┳━━━━━━━━━━━━━━━━━━━━━━━━━━━━━┳━━━━━━━━━━━━━━━━━┓\n",
       "┃\u001b[1m \u001b[0m\u001b[1mLayer (type)                        \u001b[0m\u001b[1m \u001b[0m┃\u001b[1m \u001b[0m\u001b[1mOutput Shape               \u001b[0m\u001b[1m \u001b[0m┃\u001b[1m \u001b[0m\u001b[1m        Param #\u001b[0m\u001b[1m \u001b[0m┃\n",
       "┡━━━━━━━━━━━━━━━━━━━━━━━━━━━━━━━━━━━━━━╇━━━━━━━━━━━━━━━━━━━━━━━━━━━━━╇━━━━━━━━━━━━━━━━━┩\n",
       "│ conv1d_7 (\u001b[38;5;33mConv1D\u001b[0m)                    │ (\u001b[38;5;45mNone\u001b[0m, \u001b[38;5;34m14\u001b[0m, \u001b[38;5;34m8\u001b[0m)               │             \u001b[38;5;34m152\u001b[0m │\n",
       "├──────────────────────────────────────┼─────────────────────────────┼─────────────────┤\n",
       "│ max_pooling1d_7 (\u001b[38;5;33mMaxPooling1D\u001b[0m)       │ (\u001b[38;5;45mNone\u001b[0m, \u001b[38;5;34m7\u001b[0m, \u001b[38;5;34m8\u001b[0m)                │               \u001b[38;5;34m0\u001b[0m │\n",
       "├──────────────────────────────────────┼─────────────────────────────┼─────────────────┤\n",
       "│ lstm_13 (\u001b[38;5;33mLSTM\u001b[0m)                       │ (\u001b[38;5;45mNone\u001b[0m, \u001b[38;5;34m8\u001b[0m)                   │             \u001b[38;5;34m544\u001b[0m │\n",
       "├──────────────────────────────────────┼─────────────────────────────┼─────────────────┤\n",
       "│ dropout_13 (\u001b[38;5;33mDropout\u001b[0m)                 │ (\u001b[38;5;45mNone\u001b[0m, \u001b[38;5;34m8\u001b[0m)                   │               \u001b[38;5;34m0\u001b[0m │\n",
       "├──────────────────────────────────────┼─────────────────────────────┼─────────────────┤\n",
       "│ dense_23 (\u001b[38;5;33mDense\u001b[0m)                     │ (\u001b[38;5;45mNone\u001b[0m, \u001b[38;5;34m15\u001b[0m)                  │             \u001b[38;5;34m135\u001b[0m │\n",
       "└──────────────────────────────────────┴─────────────────────────────┴─────────────────┘\n"
      ]
     },
     "metadata": {},
     "output_type": "display_data"
    },
    {
     "data": {
      "text/html": [
       "<pre style=\"white-space:pre;overflow-x:auto;line-height:normal;font-family:Menlo,'DejaVu Sans Mono',consolas,'Courier New',monospace\"><span style=\"font-weight: bold\"> Total params: </span><span style=\"color: #00af00; text-decoration-color: #00af00\">831</span> (3.25 KB)\n",
       "</pre>\n"
      ],
      "text/plain": [
       "\u001b[1m Total params: \u001b[0m\u001b[38;5;34m831\u001b[0m (3.25 KB)\n"
      ]
     },
     "metadata": {},
     "output_type": "display_data"
    },
    {
     "data": {
      "text/html": [
       "<pre style=\"white-space:pre;overflow-x:auto;line-height:normal;font-family:Menlo,'DejaVu Sans Mono',consolas,'Courier New',monospace\"><span style=\"font-weight: bold\"> Trainable params: </span><span style=\"color: #00af00; text-decoration-color: #00af00\">831</span> (3.25 KB)\n",
       "</pre>\n"
      ],
      "text/plain": [
       "\u001b[1m Trainable params: \u001b[0m\u001b[38;5;34m831\u001b[0m (3.25 KB)\n"
      ]
     },
     "metadata": {},
     "output_type": "display_data"
    },
    {
     "data": {
      "text/html": [
       "<pre style=\"white-space:pre;overflow-x:auto;line-height:normal;font-family:Menlo,'DejaVu Sans Mono',consolas,'Courier New',monospace\"><span style=\"font-weight: bold\"> Non-trainable params: </span><span style=\"color: #00af00; text-decoration-color: #00af00\">0</span> (0.00 B)\n",
       "</pre>\n"
      ],
      "text/plain": [
       "\u001b[1m Non-trainable params: \u001b[0m\u001b[38;5;34m0\u001b[0m (0.00 B)\n"
      ]
     },
     "metadata": {},
     "output_type": "display_data"
    }
   ],
   "source": [
    "# Display the model summary\n",
    "model.summary()"
   ]
  },
  {
   "cell_type": "code",
   "execution_count": 277,
   "id": "46a1b4e6-86c8-4979-82e8-1eedc2d10fa9",
   "metadata": {},
   "outputs": [],
   "source": [
    "# Compile the CNN-LSTM model\n",
    "# - loss='categorical_crossentropy': appropriate for multi-class classification\n",
    "# - optimizer='adam': adaptive optimizer that adjusts learning rates during training\n",
    "# - metrics=['accuracy']: evaluate model performance using accuracy during training\n",
    "model.compile(loss='categorical_crossentropy',\n",
    "              optimizer='adam',\n",
    "              metrics=['accuracy'])"
   ]
  },
  {
   "cell_type": "code",
   "execution_count": 278,
   "id": "0ca94ffd-1f84-44f2-8d45-d5e55842d30b",
   "metadata": {},
   "outputs": [
    {
     "name": "stdout",
     "output_type": "stream",
     "text": [
      "Epoch 1/25\n",
      "\u001b[1m1076/1076\u001b[0m \u001b[32m━━━━━━━━━━━━━━━━━━━━\u001b[0m\u001b[37m\u001b[0m \u001b[1m9s\u001b[0m 4ms/step - accuracy: 0.0334 - loss: 23.5550 - val_accuracy: 0.1417 - val_loss: 16.2461\n",
      "Epoch 2/25\n",
      "\u001b[1m1076/1076\u001b[0m \u001b[32m━━━━━━━━━━━━━━━━━━━━\u001b[0m\u001b[37m\u001b[0m \u001b[1m5s\u001b[0m 4ms/step - accuracy: 0.0752 - loss: 23.4301 - val_accuracy: 0.0106 - val_loss: 24.1315\n",
      "Epoch 3/25\n",
      "\u001b[1m1076/1076\u001b[0m \u001b[32m━━━━━━━━━━━━━━━━━━━━\u001b[0m\u001b[37m\u001b[0m \u001b[1m5s\u001b[0m 5ms/step - accuracy: 0.0654 - loss: 24.1617 - val_accuracy: 0.0105 - val_loss: 28.6567\n",
      "Epoch 4/25\n",
      "\u001b[1m1076/1076\u001b[0m \u001b[32m━━━━━━━━━━━━━━━━━━━━\u001b[0m\u001b[37m\u001b[0m \u001b[1m5s\u001b[0m 4ms/step - accuracy: 0.0280 - loss: 25.0710 - val_accuracy: 0.0105 - val_loss: 27.3515\n",
      "Epoch 5/25\n",
      "\u001b[1m1076/1076\u001b[0m \u001b[32m━━━━━━━━━━━━━━━━━━━━\u001b[0m\u001b[37m\u001b[0m \u001b[1m4s\u001b[0m 4ms/step - accuracy: 0.0283 - loss: 23.9793 - val_accuracy: 0.0105 - val_loss: 24.0425\n",
      "Epoch 6/25\n",
      "\u001b[1m1076/1076\u001b[0m \u001b[32m━━━━━━━━━━━━━━━━━━━━\u001b[0m\u001b[37m\u001b[0m \u001b[1m5s\u001b[0m 4ms/step - accuracy: 0.0294 - loss: 24.4323 - val_accuracy: 0.0106 - val_loss: 23.4993\n",
      "Epoch 7/25\n",
      "\u001b[1m1076/1076\u001b[0m \u001b[32m━━━━━━━━━━━━━━━━━━━━\u001b[0m\u001b[37m\u001b[0m \u001b[1m5s\u001b[0m 5ms/step - accuracy: 0.0314 - loss: 23.9699 - val_accuracy: 0.0105 - val_loss: 27.7766\n",
      "Epoch 8/25\n",
      "\u001b[1m1076/1076\u001b[0m \u001b[32m━━━━━━━━━━━━━━━━━━━━\u001b[0m\u001b[37m\u001b[0m \u001b[1m4s\u001b[0m 4ms/step - accuracy: 0.0321 - loss: 26.1344 - val_accuracy: 0.0098 - val_loss: 26.4116\n",
      "Epoch 9/25\n",
      "\u001b[1m1076/1076\u001b[0m \u001b[32m━━━━━━━━━━━━━━━━━━━━\u001b[0m\u001b[37m\u001b[0m \u001b[1m4s\u001b[0m 4ms/step - accuracy: 0.0354 - loss: 24.1044 - val_accuracy: 6.9711e-04 - val_loss: 20.0516\n",
      "Epoch 10/25\n",
      "\u001b[1m1076/1076\u001b[0m \u001b[32m━━━━━━━━━━━━━━━━━━━━\u001b[0m\u001b[37m\u001b[0m \u001b[1m5s\u001b[0m 4ms/step - accuracy: 0.0104 - loss: 22.2025 - val_accuracy: 0.0129 - val_loss: 20.5705\n",
      "Epoch 11/25\n",
      "\u001b[1m1076/1076\u001b[0m \u001b[32m━━━━━━━━━━━━━━━━━━━━\u001b[0m\u001b[37m\u001b[0m \u001b[1m5s\u001b[0m 5ms/step - accuracy: 0.0233 - loss: 26.5066 - val_accuracy: 0.0143 - val_loss: 19.1188\n",
      "Epoch 12/25\n",
      "\u001b[1m1076/1076\u001b[0m \u001b[32m━━━━━━━━━━━━━━━━━━━━\u001b[0m\u001b[37m\u001b[0m \u001b[1m5s\u001b[0m 5ms/step - accuracy: 0.0634 - loss: 25.6387 - val_accuracy: 0.0143 - val_loss: 19.1808\n",
      "Epoch 13/25\n",
      "\u001b[1m1076/1076\u001b[0m \u001b[32m━━━━━━━━━━━━━━━━━━━━\u001b[0m\u001b[37m\u001b[0m \u001b[1m5s\u001b[0m 4ms/step - accuracy: 0.0558 - loss: 25.1878 - val_accuracy: 0.0143 - val_loss: 19.0681\n",
      "Epoch 14/25\n",
      "\u001b[1m1076/1076\u001b[0m \u001b[32m━━━━━━━━━━━━━━━━━━━━\u001b[0m\u001b[37m\u001b[0m \u001b[1m5s\u001b[0m 5ms/step - accuracy: 0.0614 - loss: 25.4714 - val_accuracy: 0.0143 - val_loss: 19.0225\n",
      "Epoch 15/25\n",
      "\u001b[1m1076/1076\u001b[0m \u001b[32m━━━━━━━━━━━━━━━━━━━━\u001b[0m\u001b[37m\u001b[0m \u001b[1m6s\u001b[0m 6ms/step - accuracy: 0.0779 - loss: 25.1421 - val_accuracy: 0.0143 - val_loss: 19.0118\n",
      "Epoch 16/25\n",
      "\u001b[1m1076/1076\u001b[0m \u001b[32m━━━━━━━━━━━━━━━━━━━━\u001b[0m\u001b[37m\u001b[0m \u001b[1m6s\u001b[0m 5ms/step - accuracy: 0.0773 - loss: 25.4731 - val_accuracy: 0.0143 - val_loss: 19.1307\n",
      "Epoch 17/25\n",
      "\u001b[1m1076/1076\u001b[0m \u001b[32m━━━━━━━━━━━━━━━━━━━━\u001b[0m\u001b[37m\u001b[0m \u001b[1m5s\u001b[0m 4ms/step - accuracy: 0.0813 - loss: 25.6851 - val_accuracy: 0.0143 - val_loss: 19.0494\n",
      "Epoch 18/25\n",
      "\u001b[1m1076/1076\u001b[0m \u001b[32m━━━━━━━━━━━━━━━━━━━━\u001b[0m\u001b[37m\u001b[0m \u001b[1m5s\u001b[0m 5ms/step - accuracy: 0.0792 - loss: 25.4596 - val_accuracy: 0.0143 - val_loss: 19.0605\n",
      "Epoch 19/25\n",
      "\u001b[1m1076/1076\u001b[0m \u001b[32m━━━━━━━━━━━━━━━━━━━━\u001b[0m\u001b[37m\u001b[0m \u001b[1m5s\u001b[0m 4ms/step - accuracy: 0.0844 - loss: 25.8482 - val_accuracy: 0.0143 - val_loss: 19.2535\n",
      "Epoch 20/25\n",
      "\u001b[1m1076/1076\u001b[0m \u001b[32m━━━━━━━━━━━━━━━━━━━━\u001b[0m\u001b[37m\u001b[0m \u001b[1m6s\u001b[0m 5ms/step - accuracy: 0.0995 - loss: 26.7051 - val_accuracy: 0.0143 - val_loss: 19.1680\n",
      "Epoch 21/25\n",
      "\u001b[1m1076/1076\u001b[0m \u001b[32m━━━━━━━━━━━━━━━━━━━━\u001b[0m\u001b[37m\u001b[0m \u001b[1m5s\u001b[0m 4ms/step - accuracy: 0.0987 - loss: 26.0368 - val_accuracy: 0.1870 - val_loss: 19.0136\n",
      "Epoch 22/25\n",
      "\u001b[1m1076/1076\u001b[0m \u001b[32m━━━━━━━━━━━━━━━━━━━━\u001b[0m\u001b[37m\u001b[0m \u001b[1m6s\u001b[0m 5ms/step - accuracy: 0.1015 - loss: 28.2686 - val_accuracy: 0.1903 - val_loss: 18.9307\n",
      "Epoch 23/25\n",
      "\u001b[1m1076/1076\u001b[0m \u001b[32m━━━━━━━━━━━━━━━━━━━━\u001b[0m\u001b[37m\u001b[0m \u001b[1m6s\u001b[0m 6ms/step - accuracy: 0.1001 - loss: 27.4654 - val_accuracy: 0.1903 - val_loss: 19.1175\n",
      "Epoch 24/25\n",
      "\u001b[1m1076/1076\u001b[0m \u001b[32m━━━━━━━━━━━━━━━━━━━━\u001b[0m\u001b[37m\u001b[0m \u001b[1m4s\u001b[0m 4ms/step - accuracy: 0.1012 - loss: 27.8298 - val_accuracy: 0.1903 - val_loss: 19.1175\n",
      "Epoch 25/25\n",
      "\u001b[1m1076/1076\u001b[0m \u001b[32m━━━━━━━━━━━━━━━━━━━━\u001b[0m\u001b[37m\u001b[0m \u001b[1m5s\u001b[0m 4ms/step - accuracy: 0.1029 - loss: 27.7270 - val_accuracy: 0.1903 - val_loss: 19.1175\n"
     ]
    },
    {
     "data": {
      "text/plain": [
       "<keras.src.callbacks.history.History at 0x207898d6a20>"
      ]
     },
     "execution_count": 278,
     "metadata": {},
     "output_type": "execute_result"
    }
   ],
   "source": [
    "# Train the CNN-LSTM model on the training data\n",
    "# - X_train, y_train: training features and labels\n",
    "# - batch_size: number of samples per gradient update\n",
    "# - validation_data: evaluate model performance on test set after each epoch\n",
    "# - epochs: number of complete passes through the training dataset\n",
    "model.fit(X_train,\n",
    "          y_train,\n",
    "          batch_size=batch_size,\n",
    "          validation_data=(X_test, y_test),\n",
    "          epochs=epochs)"
   ]
  },
  {
   "cell_type": "code",
   "execution_count": 279,
   "id": "d0cab575-dbd5-4885-9e07-8d7619d725be",
   "metadata": {},
   "outputs": [],
   "source": [
    "# Define a function to create a confusion matrix for model predictions\n",
    "# - y_true: true labels in one-hot encoded format\n",
    "# - y_pred: predicted labels from the model (probabilities)\n",
    "# Steps:\n",
    "# 1) Convert one-hot encoded true and predicted labels to their corresponding station names.\n",
    "# 2) Use np.argmax to get the index of the maximum value (predicted class).\n",
    "# 3) Convert indices to station names using the 'stations' dictionary.\n",
    "# 4) Generate a confusion matrix as a pandas crosstab with rows as True labels and columns as Predicted labels.\n",
    "def confusion_matrix(y_true, y_pred):\n",
    "    y_true = pd.Series([stations[y] for y in np.argmax(y_true, axis=1)])\n",
    "    y_pred = pd.Series([stations[y] for y in np.argmax(y_pred, axis=1)])\n",
    "    \n",
    "    return pd.crosstab(y_true, y_pred, rownames=['True'], colnames=['Pred'])"
   ]
  },
  {
   "cell_type": "code",
   "execution_count": 280,
   "id": "938cbd23-ea5d-4312-b996-27b47cd2aa6c",
   "metadata": {},
   "outputs": [
    {
     "name": "stdout",
     "output_type": "stream",
     "text": [
      "\u001b[1m180/180\u001b[0m \u001b[32m━━━━━━━━━━━━━━━━━━━━\u001b[0m\u001b[37m\u001b[0m \u001b[1m1s\u001b[0m 3ms/step\n",
      "Pred        BELGRADE  HEATHROW  LJUBLJANA  STOCKHOLM\n",
      "True                                                \n",
      "BASEL           3657        16          1          8\n",
      "BELGRADE        1092         0          0          0\n",
      "BUDAPEST         214         0          0          0\n",
      "DEBILT            82         0          0          0\n",
      "DUSSELDORF        29         0          0          0\n",
      "HEATHROW          82         0          0          0\n",
      "KASSEL            11         0          0          0\n",
      "LJUBLJANA         61         0          0          0\n",
      "MAASTRICHT         9         0          0          0\n",
      "MADRID           458         0          0          0\n",
      "MUNCHENB           8         0          0          0\n",
      "OSLO               5         0          0          0\n",
      "STOCKHOLM          4         0          0          0\n",
      "VALENTIA           1         0          0          0\n"
     ]
    }
   ],
   "source": [
    "# Evaluate the model's performance on the test set\n",
    "# - Use the confusion_matrix function to compare true labels (y_test) with model predictions\n",
    "# - model.predict(X_test) generates predicted probabilities for each class\n",
    "# - The printed crosstab shows how well the model predicted each station, highlighting misclassifications\n",
    "print(confusion_matrix(y_test, model.predict(X_test)))"
   ]
  },
  {
   "cell_type": "markdown",
   "id": "70e4f52e-d695-40df-970e-c10108e9d330",
   "metadata": {},
   "source": [
    "# 11. Reverting to the standard keras model with updated hyperparameters"
   ]
  },
  {
   "cell_type": "code",
   "execution_count": 282,
   "id": "678487d8-072d-45ae-8cfd-60fcee9177cb",
   "metadata": {},
   "outputs": [],
   "source": [
    "# Set updated training parameters\n",
    "epochs = 10\n",
    "batch_size = 4\n",
    "n_hidden = 4\n",
    "\n",
    "timesteps = len(X_train[0])\n",
    "input_dim = len(X_train[0][0])\n",
    "n_classes = len(y_train[0])\n",
    "\n",
    "# Build a Sequential LSTM model using an explicit Input layer\n",
    "model = Sequential()\n",
    "model.add(Input(shape=(timesteps, input_dim)))  # Explicitly define input shape\n",
    "model.add(LSTM(n_hidden))                        # LSTM layer with n_hidden units\n",
    "model.add(Dropout(0.5))                          # Dropout layer to reduce overfitting\n",
    "model.add(Dense(n_classes, activation='sigmoid'))# Dense output layer for multi-class prediction"
   ]
  },
  {
   "cell_type": "code",
   "execution_count": 283,
   "id": "5fce7a32-07db-4047-becb-3673795ac160",
   "metadata": {},
   "outputs": [
    {
     "data": {
      "text/html": [
       "<pre style=\"white-space:pre;overflow-x:auto;line-height:normal;font-family:Menlo,'DejaVu Sans Mono',consolas,'Courier New',monospace\"><span style=\"font-weight: bold\">Model: \"sequential_20\"</span>\n",
       "</pre>\n"
      ],
      "text/plain": [
       "\u001b[1mModel: \"sequential_20\"\u001b[0m\n"
      ]
     },
     "metadata": {},
     "output_type": "display_data"
    },
    {
     "data": {
      "text/html": [
       "<pre style=\"white-space:pre;overflow-x:auto;line-height:normal;font-family:Menlo,'DejaVu Sans Mono',consolas,'Courier New',monospace\">┏━━━━━━━━━━━━━━━━━━━━━━━━━━━━━━━━━━━━━━┳━━━━━━━━━━━━━━━━━━━━━━━━━━━━━┳━━━━━━━━━━━━━━━━━┓\n",
       "┃<span style=\"font-weight: bold\"> Layer (type)                         </span>┃<span style=\"font-weight: bold\"> Output Shape                </span>┃<span style=\"font-weight: bold\">         Param # </span>┃\n",
       "┡━━━━━━━━━━━━━━━━━━━━━━━━━━━━━━━━━━━━━━╇━━━━━━━━━━━━━━━━━━━━━━━━━━━━━╇━━━━━━━━━━━━━━━━━┩\n",
       "│ lstm_14 (<span style=\"color: #0087ff; text-decoration-color: #0087ff\">LSTM</span>)                       │ (<span style=\"color: #00d7ff; text-decoration-color: #00d7ff\">None</span>, <span style=\"color: #00af00; text-decoration-color: #00af00\">4</span>)                   │             <span style=\"color: #00af00; text-decoration-color: #00af00\">224</span> │\n",
       "├──────────────────────────────────────┼─────────────────────────────┼─────────────────┤\n",
       "│ dropout_14 (<span style=\"color: #0087ff; text-decoration-color: #0087ff\">Dropout</span>)                 │ (<span style=\"color: #00d7ff; text-decoration-color: #00d7ff\">None</span>, <span style=\"color: #00af00; text-decoration-color: #00af00\">4</span>)                   │               <span style=\"color: #00af00; text-decoration-color: #00af00\">0</span> │\n",
       "├──────────────────────────────────────┼─────────────────────────────┼─────────────────┤\n",
       "│ dense_24 (<span style=\"color: #0087ff; text-decoration-color: #0087ff\">Dense</span>)                     │ (<span style=\"color: #00d7ff; text-decoration-color: #00d7ff\">None</span>, <span style=\"color: #00af00; text-decoration-color: #00af00\">15</span>)                  │              <span style=\"color: #00af00; text-decoration-color: #00af00\">75</span> │\n",
       "└──────────────────────────────────────┴─────────────────────────────┴─────────────────┘\n",
       "</pre>\n"
      ],
      "text/plain": [
       "┏━━━━━━━━━━━━━━━━━━━━━━━━━━━━━━━━━━━━━━┳━━━━━━━━━━━━━━━━━━━━━━━━━━━━━┳━━━━━━━━━━━━━━━━━┓\n",
       "┃\u001b[1m \u001b[0m\u001b[1mLayer (type)                        \u001b[0m\u001b[1m \u001b[0m┃\u001b[1m \u001b[0m\u001b[1mOutput Shape               \u001b[0m\u001b[1m \u001b[0m┃\u001b[1m \u001b[0m\u001b[1m        Param #\u001b[0m\u001b[1m \u001b[0m┃\n",
       "┡━━━━━━━━━━━━━━━━━━━━━━━━━━━━━━━━━━━━━━╇━━━━━━━━━━━━━━━━━━━━━━━━━━━━━╇━━━━━━━━━━━━━━━━━┩\n",
       "│ lstm_14 (\u001b[38;5;33mLSTM\u001b[0m)                       │ (\u001b[38;5;45mNone\u001b[0m, \u001b[38;5;34m4\u001b[0m)                   │             \u001b[38;5;34m224\u001b[0m │\n",
       "├──────────────────────────────────────┼─────────────────────────────┼─────────────────┤\n",
       "│ dropout_14 (\u001b[38;5;33mDropout\u001b[0m)                 │ (\u001b[38;5;45mNone\u001b[0m, \u001b[38;5;34m4\u001b[0m)                   │               \u001b[38;5;34m0\u001b[0m │\n",
       "├──────────────────────────────────────┼─────────────────────────────┼─────────────────┤\n",
       "│ dense_24 (\u001b[38;5;33mDense\u001b[0m)                     │ (\u001b[38;5;45mNone\u001b[0m, \u001b[38;5;34m15\u001b[0m)                  │              \u001b[38;5;34m75\u001b[0m │\n",
       "└──────────────────────────────────────┴─────────────────────────────┴─────────────────┘\n"
      ]
     },
     "metadata": {},
     "output_type": "display_data"
    },
    {
     "data": {
      "text/html": [
       "<pre style=\"white-space:pre;overflow-x:auto;line-height:normal;font-family:Menlo,'DejaVu Sans Mono',consolas,'Courier New',monospace\"><span style=\"font-weight: bold\"> Total params: </span><span style=\"color: #00af00; text-decoration-color: #00af00\">299</span> (1.17 KB)\n",
       "</pre>\n"
      ],
      "text/plain": [
       "\u001b[1m Total params: \u001b[0m\u001b[38;5;34m299\u001b[0m (1.17 KB)\n"
      ]
     },
     "metadata": {},
     "output_type": "display_data"
    },
    {
     "data": {
      "text/html": [
       "<pre style=\"white-space:pre;overflow-x:auto;line-height:normal;font-family:Menlo,'DejaVu Sans Mono',consolas,'Courier New',monospace\"><span style=\"font-weight: bold\"> Trainable params: </span><span style=\"color: #00af00; text-decoration-color: #00af00\">299</span> (1.17 KB)\n",
       "</pre>\n"
      ],
      "text/plain": [
       "\u001b[1m Trainable params: \u001b[0m\u001b[38;5;34m299\u001b[0m (1.17 KB)\n"
      ]
     },
     "metadata": {},
     "output_type": "display_data"
    },
    {
     "data": {
      "text/html": [
       "<pre style=\"white-space:pre;overflow-x:auto;line-height:normal;font-family:Menlo,'DejaVu Sans Mono',consolas,'Courier New',monospace\"><span style=\"font-weight: bold\"> Non-trainable params: </span><span style=\"color: #00af00; text-decoration-color: #00af00\">0</span> (0.00 B)\n",
       "</pre>\n"
      ],
      "text/plain": [
       "\u001b[1m Non-trainable params: \u001b[0m\u001b[38;5;34m0\u001b[0m (0.00 B)\n"
      ]
     },
     "metadata": {},
     "output_type": "display_data"
    }
   ],
   "source": [
    "# Display the model summary\n",
    "model.summary()"
   ]
  },
  {
   "cell_type": "code",
   "execution_count": 284,
   "id": "b03cd7bd-31d0-4c51-b1b6-abdd4adfc3a0",
   "metadata": {},
   "outputs": [],
   "source": [
    "# Compile the LSTM model:\n",
    "# - loss='categorical_crossentropy': appropriate for multi-class classification tasks\n",
    "# - optimizer='rmsprop': efficient optimizer for RNNs/LSTMs\n",
    "# - metrics=['accuracy']: track the model's accuracy during training and validation\n",
    "model.compile(loss='categorical_crossentropy',\n",
    "              optimizer='rmsprop',\n",
    "              metrics=['accuracy'])"
   ]
  },
  {
   "cell_type": "code",
   "execution_count": 285,
   "id": "c305bdf6-d6e6-450a-a345-855bbf220d18",
   "metadata": {},
   "outputs": [
    {
     "name": "stdout",
     "output_type": "stream",
     "text": [
      "Epoch 1/10\n",
      "\u001b[1m4303/4303\u001b[0m \u001b[32m━━━━━━━━━━━━━━━━━━━━\u001b[0m\u001b[37m\u001b[0m \u001b[1m25s\u001b[0m 5ms/step - accuracy: 0.1282 - loss: 9.0498 - val_accuracy: 0.0378 - val_loss: 8.8656\n",
      "Epoch 2/10\n",
      "\u001b[1m4303/4303\u001b[0m \u001b[32m━━━━━━━━━━━━━━━━━━━━\u001b[0m\u001b[37m\u001b[0m \u001b[1m22s\u001b[0m 5ms/step - accuracy: 0.1076 - loss: 9.3239 - val_accuracy: 0.0798 - val_loss: 9.5099\n",
      "Epoch 3/10\n",
      "\u001b[1m4303/4303\u001b[0m \u001b[32m━━━━━━━━━━━━━━━━━━━━\u001b[0m\u001b[37m\u001b[0m \u001b[1m21s\u001b[0m 5ms/step - accuracy: 0.0632 - loss: 9.9609 - val_accuracy: 0.0798 - val_loss: 10.1758\n",
      "Epoch 4/10\n",
      "\u001b[1m4303/4303\u001b[0m \u001b[32m━━━━━━━━━━━━━━━━━━━━\u001b[0m\u001b[37m\u001b[0m \u001b[1m22s\u001b[0m 5ms/step - accuracy: 0.0610 - loss: 10.6423 - val_accuracy: 0.0798 - val_loss: 10.7949\n",
      "Epoch 5/10\n",
      "\u001b[1m4303/4303\u001b[0m \u001b[32m━━━━━━━━━━━━━━━━━━━━\u001b[0m\u001b[37m\u001b[0m \u001b[1m21s\u001b[0m 5ms/step - accuracy: 0.0584 - loss: 11.2828 - val_accuracy: 0.0798 - val_loss: 11.2829\n",
      "Epoch 6/10\n",
      "\u001b[1m4303/4303\u001b[0m \u001b[32m━━━━━━━━━━━━━━━━━━━━\u001b[0m\u001b[37m\u001b[0m \u001b[1m20s\u001b[0m 5ms/step - accuracy: 0.0613 - loss: 11.9882 - val_accuracy: 0.0798 - val_loss: 11.8291\n",
      "Epoch 7/10\n",
      "\u001b[1m4303/4303\u001b[0m \u001b[32m━━━━━━━━━━━━━━━━━━━━\u001b[0m\u001b[37m\u001b[0m \u001b[1m23s\u001b[0m 5ms/step - accuracy: 0.0614 - loss: 12.5865 - val_accuracy: 0.0798 - val_loss: 12.4142\n",
      "Epoch 8/10\n",
      "\u001b[1m4303/4303\u001b[0m \u001b[32m━━━━━━━━━━━━━━━━━━━━\u001b[0m\u001b[37m\u001b[0m \u001b[1m21s\u001b[0m 5ms/step - accuracy: 0.0611 - loss: 12.8908 - val_accuracy: 0.0798 - val_loss: 12.8692\n",
      "Epoch 9/10\n",
      "\u001b[1m4303/4303\u001b[0m \u001b[32m━━━━━━━━━━━━━━━━━━━━\u001b[0m\u001b[37m\u001b[0m \u001b[1m23s\u001b[0m 5ms/step - accuracy: 0.0601 - loss: 13.6352 - val_accuracy: 0.0798 - val_loss: 13.3941\n",
      "Epoch 10/10\n",
      "\u001b[1m4303/4303\u001b[0m \u001b[32m━━━━━━━━━━━━━━━━━━━━\u001b[0m\u001b[37m\u001b[0m \u001b[1m22s\u001b[0m 5ms/step - accuracy: 0.0593 - loss: 13.9620 - val_accuracy: 0.0798 - val_loss: 13.7589\n"
     ]
    },
    {
     "data": {
      "text/plain": [
       "<keras.src.callbacks.history.History at 0x207a5941730>"
      ]
     },
     "execution_count": 285,
     "metadata": {},
     "output_type": "execute_result"
    }
   ],
   "source": [
    "# Train the LSTM model on the training data:\n",
    "# - X_train, y_train: input features and target labels for training\n",
    "# - batch_size: number of samples per gradient update\n",
    "# - validation_data=(X_test, y_test): evaluate performance on test data after each epoch\n",
    "# - epochs: number of full passes through the training dataset\n",
    "model.fit(X_train,\n",
    "          y_train,\n",
    "          batch_size=batch_size,\n",
    "          validation_data=(X_test, y_test),\n",
    "          epochs=epochs)"
   ]
  },
  {
   "cell_type": "code",
   "execution_count": 286,
   "id": "d47d37d3-9713-478b-9810-9f38ae904057",
   "metadata": {},
   "outputs": [],
   "source": [
    "# Define a function to create a confusion matrix for model predictions:\n",
    "# - y_true: true labels in one-hot encoded format\n",
    "# - y_pred: predicted labels in one-hot encoded format\n",
    "# Steps:\n",
    "# 1) Convert one-hot encoded vectors to station names using the `stations` dictionary.\n",
    "# 2) Use pandas `crosstab` to generate a confusion matrix comparing true vs predicted labels.\n",
    "# 3) Rows represent true labels, columns represent predicted labels.\n",
    "def confusion_matrix(y_true, y_pred):\n",
    "    y_true = pd.Series([stations[y] for y in np.argmax(y_true, axis=1)])\n",
    "    y_pred = pd.Series([stations[y] for y in np.argmax(y_pred, axis=1)])\n",
    "\n",
    "    return pd.crosstab(y_true, y_pred, rownames=['True'], colnames=['Pred'])"
   ]
  },
  {
   "cell_type": "code",
   "execution_count": 287,
   "id": "52fd5b1e-56a4-4dfe-bdcd-e7db1d394be1",
   "metadata": {},
   "outputs": [
    {
     "name": "stdout",
     "output_type": "stream",
     "text": [
      "\u001b[1m180/180\u001b[0m \u001b[32m━━━━━━━━━━━━━━━━━━━━\u001b[0m\u001b[37m\u001b[0m \u001b[1m1s\u001b[0m 4ms/step\n",
      "Pred        BASEL  MADRID\n",
      "True                     \n",
      "BASEL        1618    2064\n",
      "BELGRADE     1041      51\n",
      "BUDAPEST      212       2\n",
      "DEBILT         82       0\n",
      "DUSSELDORF     27       2\n",
      "HEATHROW       74       8\n",
      "KASSEL         11       0\n",
      "LJUBLJANA      57       4\n",
      "MAASTRICHT      6       3\n",
      "MADRID        233     225\n",
      "MUNCHENB        7       1\n",
      "OSLO            4       1\n",
      "STOCKHOLM       4       0\n",
      "VALENTIA        0       1\n"
     ]
    }
   ],
   "source": [
    "# Evaluate the model's predictions by generating a confusion matrix:\n",
    "# - `model.predict(X_test)` produces predicted outputs for the test set.\n",
    "# - `confusion_matrix()` converts predictions and true labels to station names and compares them.\n",
    "# - The resulting table shows how often each true station was predicted correctly or misclassified.\n",
    "print(confusion_matrix(y_test, model.predict(X_test)))"
   ]
  },
  {
   "cell_type": "markdown",
   "id": "58f10475-74b7-4b3b-b8b8-cb1cabd5cd84",
   "metadata": {},
   "source": [
    "# 12. CNN model"
   ]
  },
  {
   "cell_type": "code",
   "execution_count": 331,
   "id": "89cd3499-66f2-401e-bf85-71bcf7e557d9",
   "metadata": {},
   "outputs": [],
   "source": [
    "# Set training hyperparameters\n",
    "epochs = 10         # Number of full passes through the training dataset\n",
    "batch_size = 4      # Number of samples per gradient update\n",
    "n_hidden = 4        # Number of filters/units in Conv1D and Dense layers\n",
    "\n",
    "# Determine input dimensions from training data\n",
    "timesteps = len(X_train[0])       # Number of time steps per input sequence\n",
    "input_dim = len(X_train[0][0])    # Number of features per time step\n",
    "n_classes = len(y_train[0])       # Number of output classes\n",
    "\n",
    "# Build the CNN model using Sequential API\n",
    "model = Sequential()\n",
    "model.add(Input(shape=(timesteps, input_dim)))  # Explicit Input layer to avoid warnings\n",
    "model.add(Conv1D(n_hidden, kernel_size=2, activation='relu'))  # Conv1D layer for feature extraction\n",
    "model.add(Dense(16, activation='relu'))        # Dense layer for non-linear feature transformation\n",
    "model.add(MaxPooling1D())                       # MaxPooling to downsample sequence and reduce overfitting\n",
    "model.add(Flatten())                            # Flatten 3D output to 1D vector for Dense output\n",
    "model.add(Dense(n_classes, activation='softmax')) # Output layer for multi-class classification"
   ]
  },
  {
   "cell_type": "code",
   "execution_count": 332,
   "id": "9dbccfbc-f7cb-4502-92d3-49f47ec791ae",
   "metadata": {},
   "outputs": [
    {
     "data": {
      "text/html": [
       "<pre style=\"white-space:pre;overflow-x:auto;line-height:normal;font-family:Menlo,'DejaVu Sans Mono',consolas,'Courier New',monospace\"><span style=\"font-weight: bold\">Model: \"sequential_25\"</span>\n",
       "</pre>\n"
      ],
      "text/plain": [
       "\u001b[1mModel: \"sequential_25\"\u001b[0m\n"
      ]
     },
     "metadata": {},
     "output_type": "display_data"
    },
    {
     "data": {
      "text/html": [
       "<pre style=\"white-space:pre;overflow-x:auto;line-height:normal;font-family:Menlo,'DejaVu Sans Mono',consolas,'Courier New',monospace\">┏━━━━━━━━━━━━━━━━━━━━━━━━━━━━━━━━━━━━━━┳━━━━━━━━━━━━━━━━━━━━━━━━━━━━━┳━━━━━━━━━━━━━━━━━┓\n",
       "┃<span style=\"font-weight: bold\"> Layer (type)                         </span>┃<span style=\"font-weight: bold\"> Output Shape                </span>┃<span style=\"font-weight: bold\">         Param # </span>┃\n",
       "┡━━━━━━━━━━━━━━━━━━━━━━━━━━━━━━━━━━━━━━╇━━━━━━━━━━━━━━━━━━━━━━━━━━━━━╇━━━━━━━━━━━━━━━━━┩\n",
       "│ conv1d_12 (<span style=\"color: #0087ff; text-decoration-color: #0087ff\">Conv1D</span>)                   │ (<span style=\"color: #00d7ff; text-decoration-color: #00d7ff\">None</span>, <span style=\"color: #00af00; text-decoration-color: #00af00\">14</span>, <span style=\"color: #00af00; text-decoration-color: #00af00\">4</span>)               │              <span style=\"color: #00af00; text-decoration-color: #00af00\">76</span> │\n",
       "├──────────────────────────────────────┼─────────────────────────────┼─────────────────┤\n",
       "│ dense_33 (<span style=\"color: #0087ff; text-decoration-color: #0087ff\">Dense</span>)                     │ (<span style=\"color: #00d7ff; text-decoration-color: #00d7ff\">None</span>, <span style=\"color: #00af00; text-decoration-color: #00af00\">14</span>, <span style=\"color: #00af00; text-decoration-color: #00af00\">16</span>)              │              <span style=\"color: #00af00; text-decoration-color: #00af00\">80</span> │\n",
       "├──────────────────────────────────────┼─────────────────────────────┼─────────────────┤\n",
       "│ max_pooling1d_12 (<span style=\"color: #0087ff; text-decoration-color: #0087ff\">MaxPooling1D</span>)      │ (<span style=\"color: #00d7ff; text-decoration-color: #00d7ff\">None</span>, <span style=\"color: #00af00; text-decoration-color: #00af00\">7</span>, <span style=\"color: #00af00; text-decoration-color: #00af00\">16</span>)               │               <span style=\"color: #00af00; text-decoration-color: #00af00\">0</span> │\n",
       "├──────────────────────────────────────┼─────────────────────────────┼─────────────────┤\n",
       "│ flatten_9 (<span style=\"color: #0087ff; text-decoration-color: #0087ff\">Flatten</span>)                  │ (<span style=\"color: #00d7ff; text-decoration-color: #00d7ff\">None</span>, <span style=\"color: #00af00; text-decoration-color: #00af00\">112</span>)                 │               <span style=\"color: #00af00; text-decoration-color: #00af00\">0</span> │\n",
       "├──────────────────────────────────────┼─────────────────────────────┼─────────────────┤\n",
       "│ dense_34 (<span style=\"color: #0087ff; text-decoration-color: #0087ff\">Dense</span>)                     │ (<span style=\"color: #00d7ff; text-decoration-color: #00d7ff\">None</span>, <span style=\"color: #00af00; text-decoration-color: #00af00\">15</span>)                  │           <span style=\"color: #00af00; text-decoration-color: #00af00\">1,695</span> │\n",
       "└──────────────────────────────────────┴─────────────────────────────┴─────────────────┘\n",
       "</pre>\n"
      ],
      "text/plain": [
       "┏━━━━━━━━━━━━━━━━━━━━━━━━━━━━━━━━━━━━━━┳━━━━━━━━━━━━━━━━━━━━━━━━━━━━━┳━━━━━━━━━━━━━━━━━┓\n",
       "┃\u001b[1m \u001b[0m\u001b[1mLayer (type)                        \u001b[0m\u001b[1m \u001b[0m┃\u001b[1m \u001b[0m\u001b[1mOutput Shape               \u001b[0m\u001b[1m \u001b[0m┃\u001b[1m \u001b[0m\u001b[1m        Param #\u001b[0m\u001b[1m \u001b[0m┃\n",
       "┡━━━━━━━━━━━━━━━━━━━━━━━━━━━━━━━━━━━━━━╇━━━━━━━━━━━━━━━━━━━━━━━━━━━━━╇━━━━━━━━━━━━━━━━━┩\n",
       "│ conv1d_12 (\u001b[38;5;33mConv1D\u001b[0m)                   │ (\u001b[38;5;45mNone\u001b[0m, \u001b[38;5;34m14\u001b[0m, \u001b[38;5;34m4\u001b[0m)               │              \u001b[38;5;34m76\u001b[0m │\n",
       "├──────────────────────────────────────┼─────────────────────────────┼─────────────────┤\n",
       "│ dense_33 (\u001b[38;5;33mDense\u001b[0m)                     │ (\u001b[38;5;45mNone\u001b[0m, \u001b[38;5;34m14\u001b[0m, \u001b[38;5;34m16\u001b[0m)              │              \u001b[38;5;34m80\u001b[0m │\n",
       "├──────────────────────────────────────┼─────────────────────────────┼─────────────────┤\n",
       "│ max_pooling1d_12 (\u001b[38;5;33mMaxPooling1D\u001b[0m)      │ (\u001b[38;5;45mNone\u001b[0m, \u001b[38;5;34m7\u001b[0m, \u001b[38;5;34m16\u001b[0m)               │               \u001b[38;5;34m0\u001b[0m │\n",
       "├──────────────────────────────────────┼─────────────────────────────┼─────────────────┤\n",
       "│ flatten_9 (\u001b[38;5;33mFlatten\u001b[0m)                  │ (\u001b[38;5;45mNone\u001b[0m, \u001b[38;5;34m112\u001b[0m)                 │               \u001b[38;5;34m0\u001b[0m │\n",
       "├──────────────────────────────────────┼─────────────────────────────┼─────────────────┤\n",
       "│ dense_34 (\u001b[38;5;33mDense\u001b[0m)                     │ (\u001b[38;5;45mNone\u001b[0m, \u001b[38;5;34m15\u001b[0m)                  │           \u001b[38;5;34m1,695\u001b[0m │\n",
       "└──────────────────────────────────────┴─────────────────────────────┴─────────────────┘\n"
      ]
     },
     "metadata": {},
     "output_type": "display_data"
    },
    {
     "data": {
      "text/html": [
       "<pre style=\"white-space:pre;overflow-x:auto;line-height:normal;font-family:Menlo,'DejaVu Sans Mono',consolas,'Courier New',monospace\"><span style=\"font-weight: bold\"> Total params: </span><span style=\"color: #00af00; text-decoration-color: #00af00\">1,851</span> (7.23 KB)\n",
       "</pre>\n"
      ],
      "text/plain": [
       "\u001b[1m Total params: \u001b[0m\u001b[38;5;34m1,851\u001b[0m (7.23 KB)\n"
      ]
     },
     "metadata": {},
     "output_type": "display_data"
    },
    {
     "data": {
      "text/html": [
       "<pre style=\"white-space:pre;overflow-x:auto;line-height:normal;font-family:Menlo,'DejaVu Sans Mono',consolas,'Courier New',monospace\"><span style=\"font-weight: bold\"> Trainable params: </span><span style=\"color: #00af00; text-decoration-color: #00af00\">1,851</span> (7.23 KB)\n",
       "</pre>\n"
      ],
      "text/plain": [
       "\u001b[1m Trainable params: \u001b[0m\u001b[38;5;34m1,851\u001b[0m (7.23 KB)\n"
      ]
     },
     "metadata": {},
     "output_type": "display_data"
    },
    {
     "data": {
      "text/html": [
       "<pre style=\"white-space:pre;overflow-x:auto;line-height:normal;font-family:Menlo,'DejaVu Sans Mono',consolas,'Courier New',monospace\"><span style=\"font-weight: bold\"> Non-trainable params: </span><span style=\"color: #00af00; text-decoration-color: #00af00\">0</span> (0.00 B)\n",
       "</pre>\n"
      ],
      "text/plain": [
       "\u001b[1m Non-trainable params: \u001b[0m\u001b[38;5;34m0\u001b[0m (0.00 B)\n"
      ]
     },
     "metadata": {},
     "output_type": "display_data"
    }
   ],
   "source": [
    "# Display a summary of the CNN model architecture\n",
    "# - Shows each layer's type, output shape, and number of parameters\n",
    "# - Provides total, trainable, and non-trainable parameters for the model\n",
    "# - Useful for quickly inspecting the network structure and verifying the model setup\n",
    "model.summary()"
   ]
  },
  {
   "cell_type": "code",
   "execution_count": 333,
   "id": "04765417-ae1a-4454-9950-8b58b5c8a0a3",
   "metadata": {},
   "outputs": [],
   "source": [
    "# Compile the CNN model for training\n",
    "# - loss='categorical_crossentropy': appropriate for multi-class classification tasks\n",
    "# - optimizer='adam': adaptive optimizer for efficient gradient descent\n",
    "# - metrics=['accuracy']: track accuracy during training and validation\n",
    "model.compile(loss='categorical_crossentropy', optimizer='adam', metrics=['accuracy'])"
   ]
  },
  {
   "cell_type": "code",
   "execution_count": 340,
   "id": "acc85e09-0d27-4927-b82e-3ab8e4052aae",
   "metadata": {},
   "outputs": [
    {
     "name": "stdout",
     "output_type": "stream",
     "text": [
      "Epoch 1/10\n",
      "4303/4303 - 8s - 2ms/step - accuracy: 0.1210 - loss: 12694.1055\n",
      "Epoch 2/10\n",
      "4303/4303 - 7s - 2ms/step - accuracy: 0.1388 - loss: 118999.8594\n",
      "Epoch 3/10\n",
      "4303/4303 - 6s - 1ms/step - accuracy: 0.1393 - loss: 388314.1562\n",
      "Epoch 4/10\n",
      "4303/4303 - 6s - 1ms/step - accuracy: 0.1398 - loss: 888389.5625\n",
      "Epoch 5/10\n",
      "4303/4303 - 6s - 1ms/step - accuracy: 0.1344 - loss: 1666531.1250\n",
      "Epoch 6/10\n",
      "4303/4303 - 6s - 1ms/step - accuracy: 0.1323 - loss: 2757510.5000\n",
      "Epoch 7/10\n",
      "4303/4303 - 7s - 2ms/step - accuracy: 0.1331 - loss: 4243373.5000\n",
      "Epoch 8/10\n",
      "4303/4303 - 6s - 1ms/step - accuracy: 0.1299 - loss: 6188330.0000\n",
      "Epoch 9/10\n",
      "4303/4303 - 6s - 1ms/step - accuracy: 0.1296 - loss: 8656065.0000\n",
      "Epoch 10/10\n",
      "4303/4303 - 6s - 1ms/step - accuracy: 0.1284 - loss: 11634360.0000\n"
     ]
    },
    {
     "data": {
      "text/plain": [
       "<keras.src.callbacks.history.History at 0x207afde3110>"
      ]
     },
     "execution_count": 340,
     "metadata": {},
     "output_type": "execute_result"
    }
   ],
   "source": [
    "# Train the CNN model on the training data\n",
    "# - X_train, y_train: input features and corresponding labels for training\n",
    "# - batch_size=batch_size: number of samples per gradient update\n",
    "# - epochs=epochs: number of complete passes through the training dataset\n",
    "# - verbose=2: display training progress with one line per epoch\n",
    "model.fit(X_train, y_train, batch_size=batch_size, epochs=epochs, verbose=2)"
   ]
  },
  {
   "cell_type": "code",
   "execution_count": 350,
   "id": "e94a3668-0279-43fd-95fc-b2f3c3d660a6",
   "metadata": {},
   "outputs": [],
   "source": [
    "# Define a function to generate a confusion matrix for model predictions\n",
    "# - y_true: true labels in one-hot encoded format\n",
    "# - y_pred: predicted labels in one-hot encoded format\n",
    "# Steps:\n",
    "# 1) Convert one-hot encoded arrays to station names using the 'stations' dictionary.\n",
    "# 2) Use np.argmax to get the predicted class index for each sample.\n",
    "# 3) Convert the indices to Pandas Series of station names for true and predicted labels.\n",
    "# 4) Return a crosstab (confusion matrix) comparing true vs predicted station names.\n",
    "def confusion_matrix(y_true, y_pred):\n",
    "    y_true = pd.Series([stations[y] for y in np.argmax(y_true, axis=1)])\n",
    "    y_pred = pd.Series([stations[y] for y in np.argmax(y_pred, axis=1)])\n",
    "\n",
    "    return pd.crosstab(y_true, y_pred, rownames=['True'], colnames=['Pred'])"
   ]
  },
  {
   "cell_type": "code",
   "execution_count": 352,
   "id": "0c060786-2d6a-4403-942b-2c6a0917488f",
   "metadata": {},
   "outputs": [
    {
     "name": "stdout",
     "output_type": "stream",
     "text": [
      "\u001b[1m180/180\u001b[0m \u001b[32m━━━━━━━━━━━━━━━━━━━━\u001b[0m\u001b[37m\u001b[0m \u001b[1m1s\u001b[0m 3ms/step\n",
      "Pred        BASEL  BELGRADE  BUDAPEST  DEBILT  HEATHROW  KASSEL  LJUBLJANA  \\\n",
      "True                                                                         \n",
      "BASEL        1315       164        24      23        84      40       1290   \n",
      "BELGRADE      319       160         0       0         0       6        575   \n",
      "BUDAPEST       79        19         0       0         0       0        110   \n",
      "DEBILT         30        13         0       0         0       0         36   \n",
      "DUSSELDORF     18         1         0       0         0       0          9   \n",
      "HEATHROW       55         1         0       0         0       1         20   \n",
      "KASSEL          4         2         0       0         0       1          3   \n",
      "LJUBLJANA      25         2         0       0         0       0         34   \n",
      "MAASTRICHT      5         0         0       0         0       0          4   \n",
      "MADRID        255         9         0       0         0       9        113   \n",
      "MUNCHENB        1         0         0       0         0       0          6   \n",
      "OSLO            2         1         0       0         0       0          2   \n",
      "STOCKHOLM       0         2         0       0         0       0          1   \n",
      "VALENTIA        0         0         0       0         0       1          0   \n",
      "\n",
      "Pred        MAASTRICHT  MADRID  MUNCHENB  OSLO  SONNBLICK  STOCKHOLM  VALENTIA  \n",
      "True                                                                            \n",
      "BASEL              180     125       171    29         10        193        34  \n",
      "BELGRADE             0       5         0     0          0         27         0  \n",
      "BUDAPEST             0       1         0     0          0          5         0  \n",
      "DEBILT               0       0         0     0          0          3         0  \n",
      "DUSSELDORF           0       0         0     0          0          1         0  \n",
      "HEATHROW             2       0         0     0          0          3         0  \n",
      "KASSEL               0       0         0     0          0          1         0  \n",
      "LJUBLJANA            0       0         0     0          0          0         0  \n",
      "MAASTRICHT           0       0         0     0          0          0         0  \n",
      "MADRID              12      16         2     2          0         40         0  \n",
      "MUNCHENB             0       0         0     0          0          1         0  \n",
      "OSLO                 0       0         0     0          0          0         0  \n",
      "STOCKHOLM            0       0         0     0          0          1         0  \n",
      "VALENTIA             0       0         0     0          0          0         0  \n"
     ]
    }
   ],
   "source": [
    "# Evaluate the trained model's performance on the test set\n",
    "# - Generate predictions for X_test using model.predict()\n",
    "# - Compare predicted labels to true labels y_test using the confusion_matrix function\n",
    "# - Print the confusion matrix to see how accurately the model classified each station\n",
    "print(confusion_matrix(y_test, model.predict(X_test)))"
   ]
  },
  {
   "cell_type": "markdown",
   "id": "450baec6-2051-41e0-bd0f-45b3297c3662",
   "metadata": {},
   "source": [
    "# 13. CNN model reset"
   ]
  },
  {
   "cell_type": "code",
   "execution_count": 355,
   "id": "76911c30-bb79-434d-ac96-1cf5d5d60e4e",
   "metadata": {},
   "outputs": [],
   "source": [
    "# Set training hyperparameters\n",
    "epochs = 15         # Number of full passes through the training dataset\n",
    "batch_size = 8      # Number of samples per gradient update\n",
    "n_hidden = 8        # Number of filters/units in Conv1D and Dense layers\n",
    "\n",
    "# Determine input dimensions from training data\n",
    "timesteps = len(X_train[0])       # Number of time steps per input sequence\n",
    "input_dim = len(X_train[0][0])    # Number of features per time step\n",
    "n_classes = len(y_train[0])       # Number of output classes\n",
    "\n",
    "# Build the CNN model using Sequential API\n",
    "model = Sequential()\n",
    "model.add(Input(shape=(timesteps, input_dim)))  # Explicit Input layer to avoid warnings\n",
    "model.add(Conv1D(n_hidden, kernel_size=2, activation='relu'))  # Conv1D layer for feature extraction\n",
    "model.add(Dense(16, activation='relu'))        # Dense layer for non-linear feature transformation\n",
    "model.add(MaxPooling1D())                       # MaxPooling to downsample sequence and reduce overfitting\n",
    "model.add(Flatten())                            # Flatten 3D output to 1D vector for Dense output\n",
    "model.add(Dense(n_classes, activation='softmax')) # Output layer for multi-class classification"
   ]
  },
  {
   "cell_type": "code",
   "execution_count": 357,
   "id": "6c425973-9707-4cc1-8e3f-49007d20e3fe",
   "metadata": {},
   "outputs": [
    {
     "data": {
      "text/html": [
       "<pre style=\"white-space:pre;overflow-x:auto;line-height:normal;font-family:Menlo,'DejaVu Sans Mono',consolas,'Courier New',monospace\"><span style=\"font-weight: bold\">Model: \"sequential_26\"</span>\n",
       "</pre>\n"
      ],
      "text/plain": [
       "\u001b[1mModel: \"sequential_26\"\u001b[0m\n"
      ]
     },
     "metadata": {},
     "output_type": "display_data"
    },
    {
     "data": {
      "text/html": [
       "<pre style=\"white-space:pre;overflow-x:auto;line-height:normal;font-family:Menlo,'DejaVu Sans Mono',consolas,'Courier New',monospace\">┏━━━━━━━━━━━━━━━━━━━━━━━━━━━━━━━━━━━━━━┳━━━━━━━━━━━━━━━━━━━━━━━━━━━━━┳━━━━━━━━━━━━━━━━━┓\n",
       "┃<span style=\"font-weight: bold\"> Layer (type)                         </span>┃<span style=\"font-weight: bold\"> Output Shape                </span>┃<span style=\"font-weight: bold\">         Param # </span>┃\n",
       "┡━━━━━━━━━━━━━━━━━━━━━━━━━━━━━━━━━━━━━━╇━━━━━━━━━━━━━━━━━━━━━━━━━━━━━╇━━━━━━━━━━━━━━━━━┩\n",
       "│ conv1d_13 (<span style=\"color: #0087ff; text-decoration-color: #0087ff\">Conv1D</span>)                   │ (<span style=\"color: #00d7ff; text-decoration-color: #00d7ff\">None</span>, <span style=\"color: #00af00; text-decoration-color: #00af00\">14</span>, <span style=\"color: #00af00; text-decoration-color: #00af00\">8</span>)               │             <span style=\"color: #00af00; text-decoration-color: #00af00\">152</span> │\n",
       "├──────────────────────────────────────┼─────────────────────────────┼─────────────────┤\n",
       "│ dense_35 (<span style=\"color: #0087ff; text-decoration-color: #0087ff\">Dense</span>)                     │ (<span style=\"color: #00d7ff; text-decoration-color: #00d7ff\">None</span>, <span style=\"color: #00af00; text-decoration-color: #00af00\">14</span>, <span style=\"color: #00af00; text-decoration-color: #00af00\">16</span>)              │             <span style=\"color: #00af00; text-decoration-color: #00af00\">144</span> │\n",
       "├──────────────────────────────────────┼─────────────────────────────┼─────────────────┤\n",
       "│ max_pooling1d_13 (<span style=\"color: #0087ff; text-decoration-color: #0087ff\">MaxPooling1D</span>)      │ (<span style=\"color: #00d7ff; text-decoration-color: #00d7ff\">None</span>, <span style=\"color: #00af00; text-decoration-color: #00af00\">7</span>, <span style=\"color: #00af00; text-decoration-color: #00af00\">16</span>)               │               <span style=\"color: #00af00; text-decoration-color: #00af00\">0</span> │\n",
       "├──────────────────────────────────────┼─────────────────────────────┼─────────────────┤\n",
       "│ flatten_10 (<span style=\"color: #0087ff; text-decoration-color: #0087ff\">Flatten</span>)                 │ (<span style=\"color: #00d7ff; text-decoration-color: #00d7ff\">None</span>, <span style=\"color: #00af00; text-decoration-color: #00af00\">112</span>)                 │               <span style=\"color: #00af00; text-decoration-color: #00af00\">0</span> │\n",
       "├──────────────────────────────────────┼─────────────────────────────┼─────────────────┤\n",
       "│ dense_36 (<span style=\"color: #0087ff; text-decoration-color: #0087ff\">Dense</span>)                     │ (<span style=\"color: #00d7ff; text-decoration-color: #00d7ff\">None</span>, <span style=\"color: #00af00; text-decoration-color: #00af00\">15</span>)                  │           <span style=\"color: #00af00; text-decoration-color: #00af00\">1,695</span> │\n",
       "└──────────────────────────────────────┴─────────────────────────────┴─────────────────┘\n",
       "</pre>\n"
      ],
      "text/plain": [
       "┏━━━━━━━━━━━━━━━━━━━━━━━━━━━━━━━━━━━━━━┳━━━━━━━━━━━━━━━━━━━━━━━━━━━━━┳━━━━━━━━━━━━━━━━━┓\n",
       "┃\u001b[1m \u001b[0m\u001b[1mLayer (type)                        \u001b[0m\u001b[1m \u001b[0m┃\u001b[1m \u001b[0m\u001b[1mOutput Shape               \u001b[0m\u001b[1m \u001b[0m┃\u001b[1m \u001b[0m\u001b[1m        Param #\u001b[0m\u001b[1m \u001b[0m┃\n",
       "┡━━━━━━━━━━━━━━━━━━━━━━━━━━━━━━━━━━━━━━╇━━━━━━━━━━━━━━━━━━━━━━━━━━━━━╇━━━━━━━━━━━━━━━━━┩\n",
       "│ conv1d_13 (\u001b[38;5;33mConv1D\u001b[0m)                   │ (\u001b[38;5;45mNone\u001b[0m, \u001b[38;5;34m14\u001b[0m, \u001b[38;5;34m8\u001b[0m)               │             \u001b[38;5;34m152\u001b[0m │\n",
       "├──────────────────────────────────────┼─────────────────────────────┼─────────────────┤\n",
       "│ dense_35 (\u001b[38;5;33mDense\u001b[0m)                     │ (\u001b[38;5;45mNone\u001b[0m, \u001b[38;5;34m14\u001b[0m, \u001b[38;5;34m16\u001b[0m)              │             \u001b[38;5;34m144\u001b[0m │\n",
       "├──────────────────────────────────────┼─────────────────────────────┼─────────────────┤\n",
       "│ max_pooling1d_13 (\u001b[38;5;33mMaxPooling1D\u001b[0m)      │ (\u001b[38;5;45mNone\u001b[0m, \u001b[38;5;34m7\u001b[0m, \u001b[38;5;34m16\u001b[0m)               │               \u001b[38;5;34m0\u001b[0m │\n",
       "├──────────────────────────────────────┼─────────────────────────────┼─────────────────┤\n",
       "│ flatten_10 (\u001b[38;5;33mFlatten\u001b[0m)                 │ (\u001b[38;5;45mNone\u001b[0m, \u001b[38;5;34m112\u001b[0m)                 │               \u001b[38;5;34m0\u001b[0m │\n",
       "├──────────────────────────────────────┼─────────────────────────────┼─────────────────┤\n",
       "│ dense_36 (\u001b[38;5;33mDense\u001b[0m)                     │ (\u001b[38;5;45mNone\u001b[0m, \u001b[38;5;34m15\u001b[0m)                  │           \u001b[38;5;34m1,695\u001b[0m │\n",
       "└──────────────────────────────────────┴─────────────────────────────┴─────────────────┘\n"
      ]
     },
     "metadata": {},
     "output_type": "display_data"
    },
    {
     "data": {
      "text/html": [
       "<pre style=\"white-space:pre;overflow-x:auto;line-height:normal;font-family:Menlo,'DejaVu Sans Mono',consolas,'Courier New',monospace\"><span style=\"font-weight: bold\"> Total params: </span><span style=\"color: #00af00; text-decoration-color: #00af00\">1,991</span> (7.78 KB)\n",
       "</pre>\n"
      ],
      "text/plain": [
       "\u001b[1m Total params: \u001b[0m\u001b[38;5;34m1,991\u001b[0m (7.78 KB)\n"
      ]
     },
     "metadata": {},
     "output_type": "display_data"
    },
    {
     "data": {
      "text/html": [
       "<pre style=\"white-space:pre;overflow-x:auto;line-height:normal;font-family:Menlo,'DejaVu Sans Mono',consolas,'Courier New',monospace\"><span style=\"font-weight: bold\"> Trainable params: </span><span style=\"color: #00af00; text-decoration-color: #00af00\">1,991</span> (7.78 KB)\n",
       "</pre>\n"
      ],
      "text/plain": [
       "\u001b[1m Trainable params: \u001b[0m\u001b[38;5;34m1,991\u001b[0m (7.78 KB)\n"
      ]
     },
     "metadata": {},
     "output_type": "display_data"
    },
    {
     "data": {
      "text/html": [
       "<pre style=\"white-space:pre;overflow-x:auto;line-height:normal;font-family:Menlo,'DejaVu Sans Mono',consolas,'Courier New',monospace\"><span style=\"font-weight: bold\"> Non-trainable params: </span><span style=\"color: #00af00; text-decoration-color: #00af00\">0</span> (0.00 B)\n",
       "</pre>\n"
      ],
      "text/plain": [
       "\u001b[1m Non-trainable params: \u001b[0m\u001b[38;5;34m0\u001b[0m (0.00 B)\n"
      ]
     },
     "metadata": {},
     "output_type": "display_data"
    }
   ],
   "source": [
    "# Display a summary of the CNN model architecture\n",
    "# - Shows each layer's type, output shape, and number of parameters\n",
    "# - Provides total, trainable, and non-trainable parameters for the model\n",
    "# - Useful for quickly inspecting the network structure and verifying the model setup\n",
    "model.summary()"
   ]
  },
  {
   "cell_type": "code",
   "execution_count": 359,
   "id": "e6e8f0ca-7c36-43f2-b335-a07ceb970382",
   "metadata": {},
   "outputs": [],
   "source": [
    "# Compile the CNN model for training\n",
    "# - loss='categorical_crossentropy': appropriate for multi-class classification tasks\n",
    "# - optimizer='adam': adaptive optimizer for efficient gradient descent\n",
    "# - metrics=['accuracy']: track accuracy during training and validation\n",
    "model.compile(loss='categorical_crossentropy', optimizer='adam', metrics=['accuracy'])"
   ]
  },
  {
   "cell_type": "code",
   "execution_count": 361,
   "id": "7a801900-8518-4580-a884-c9e0a2998714",
   "metadata": {},
   "outputs": [
    {
     "name": "stdout",
     "output_type": "stream",
     "text": [
      "Epoch 1/15\n",
      "2152/2152 - 8s - 4ms/step - accuracy: 0.1145 - loss: 8836.0020\n",
      "Epoch 2/15\n",
      "2152/2152 - 5s - 3ms/step - accuracy: 0.1233 - loss: 86944.3516\n",
      "Epoch 3/15\n",
      "2152/2152 - 3s - 2ms/step - accuracy: 0.1265 - loss: 279511.5312\n",
      "Epoch 4/15\n",
      "2152/2152 - 5s - 2ms/step - accuracy: 0.1292 - loss: 587722.8750\n",
      "Epoch 5/15\n",
      "2152/2152 - 4s - 2ms/step - accuracy: 0.1321 - loss: 1053675.1250\n",
      "Epoch 6/15\n",
      "2152/2152 - 3s - 1ms/step - accuracy: 0.1292 - loss: 1687300.0000\n",
      "Epoch 7/15\n",
      "2152/2152 - 3s - 1ms/step - accuracy: 0.1253 - loss: 2564875.5000\n",
      "Epoch 8/15\n",
      "2152/2152 - 3s - 1ms/step - accuracy: 0.1269 - loss: 3627280.2500\n",
      "Epoch 9/15\n",
      "2152/2152 - 3s - 1ms/step - accuracy: 0.1297 - loss: 4941169.5000\n",
      "Epoch 10/15\n",
      "2152/2152 - 3s - 1ms/step - accuracy: 0.1270 - loss: 6549894.5000\n",
      "Epoch 11/15\n",
      "2152/2152 - 4s - 2ms/step - accuracy: 0.1281 - loss: 8438362.0000\n",
      "Epoch 12/15\n",
      "2152/2152 - 3s - 1ms/step - accuracy: 0.1287 - loss: 10617704.0000\n",
      "Epoch 13/15\n",
      "2152/2152 - 3s - 1ms/step - accuracy: 0.1297 - loss: 13278048.0000\n",
      "Epoch 14/15\n",
      "2152/2152 - 3s - 1ms/step - accuracy: 0.1292 - loss: 16293441.0000\n",
      "Epoch 15/15\n",
      "2152/2152 - 3s - 1ms/step - accuracy: 0.1284 - loss: 19509232.0000\n"
     ]
    },
    {
     "data": {
      "text/plain": [
       "<keras.src.callbacks.history.History at 0x207b8ee3da0>"
      ]
     },
     "execution_count": 361,
     "metadata": {},
     "output_type": "execute_result"
    }
   ],
   "source": [
    "# Train the CNN model on the training data\n",
    "# - X_train, y_train: input features and corresponding labels for training\n",
    "# - batch_size=batch_size: number of samples per gradient update\n",
    "# - epochs=epochs: number of complete passes through the training dataset\n",
    "# - verbose=2: display training progress with one line per epoch\n",
    "model.fit(X_train, y_train, batch_size=batch_size, epochs=epochs, verbose=2)"
   ]
  },
  {
   "cell_type": "code",
   "execution_count": 362,
   "id": "a1796052-d781-431f-87ed-4dd712988078",
   "metadata": {},
   "outputs": [],
   "source": [
    "# Define a function to generate a confusion matrix for model predictions\n",
    "# - y_true: true labels in one-hot encoded format\n",
    "# - y_pred: predicted labels in one-hot encoded format\n",
    "# Steps:\n",
    "# 1) Convert one-hot encoded arrays to station names using the 'stations' dictionary.\n",
    "# 2) Use np.argmax to get the predicted class index for each sample.\n",
    "# 3) Convert the indices to Pandas Series of station names for true and predicted labels.\n",
    "# 4) Return a crosstab (confusion matrix) comparing true vs predicted station names.\n",
    "def confusion_matrix(y_true, y_pred):\n",
    "    y_true = pd.Series([stations[y] for y in np.argmax(y_true, axis=1)])\n",
    "    y_pred = pd.Series([stations[y] for y in np.argmax(y_pred, axis=1)])\n",
    "\n",
    "    return pd.crosstab(y_true, y_pred, rownames=['True'], colnames=['Pred'])"
   ]
  },
  {
   "cell_type": "code",
   "execution_count": 363,
   "id": "c037ec01-a189-4101-8cb5-31bb4f69576e",
   "metadata": {},
   "outputs": [
    {
     "name": "stdout",
     "output_type": "stream",
     "text": [
      "\u001b[1m180/180\u001b[0m \u001b[32m━━━━━━━━━━━━━━━━━━━━\u001b[0m\u001b[37m\u001b[0m \u001b[1m1s\u001b[0m 2ms/step\n",
      "Pred        BASEL  BELGRADE  BUDAPEST  HEATHROW  KASSEL  LJUBLJANA  \\\n",
      "True                                                                 \n",
      "BASEL         102      1955        10        40      12          3   \n",
      "BELGRADE        0       986         0         1       0          0   \n",
      "BUDAPEST        0       197         0         0       0          0   \n",
      "DEBILT          0        57         0         0       0          0   \n",
      "DUSSELDORF      0        21         0         0       0          0   \n",
      "HEATHROW        0        58         0         0       0          0   \n",
      "KASSEL          0         7         0         0       0          0   \n",
      "LJUBLJANA       0        54         0         0       0          0   \n",
      "MAASTRICHT      0         5         0         0       0          0   \n",
      "MADRID          5       281         0         0       0          0   \n",
      "MUNCHENB        0         8         0         0       0          0   \n",
      "OSLO            0         3         0         0       0          0   \n",
      "STOCKHOLM       0         4         0         0       0          0   \n",
      "VALENTIA        0         0         0         0       0          0   \n",
      "\n",
      "Pred        MAASTRICHT  MADRID  MUNCHENB  OSLO  STOCKHOLM  VALENTIA  \n",
      "True                                                                 \n",
      "BASEL             1451      21         4    56         17        11  \n",
      "BELGRADE           105       0         0     0          0         0  \n",
      "BUDAPEST            17       0         0     0          0         0  \n",
      "DEBILT              25       0         0     0          0         0  \n",
      "DUSSELDORF           8       0         0     0          0         0  \n",
      "HEATHROW            24       0         0     0          0         0  \n",
      "KASSEL               4       0         0     0          0         0  \n",
      "LJUBLJANA            7       0         0     0          0         0  \n",
      "MAASTRICHT           4       0         0     0          0         0  \n",
      "MADRID             170       2         0     0          0         0  \n",
      "MUNCHENB             0       0         0     0          0         0  \n",
      "OSLO                 2       0         0     0          0         0  \n",
      "STOCKHOLM            0       0         0     0          0         0  \n",
      "VALENTIA             1       0         0     0          0         0  \n"
     ]
    }
   ],
   "source": [
    "# Evaluate the trained model's performance on the test set\n",
    "# - Generate predictions for X_test using model.predict()\n",
    "# - Compare predicted labels to true labels y_test using the confusion_matrix function\n",
    "# - Print the confusion matrix to see how accurately the model classified each station\n",
    "print(confusion_matrix(y_test, model.predict(X_test)))"
   ]
  },
  {
   "cell_type": "markdown",
   "id": "28749c1b-28af-4a01-9bec-ed5a5c2fde60",
   "metadata": {},
   "source": [
    "# 14. CNN final test"
   ]
  },
  {
   "cell_type": "code",
   "execution_count": 365,
   "id": "447a365d-cfea-4823-a78f-526a71737b1d",
   "metadata": {},
   "outputs": [],
   "source": [
    "# Set training hyperparameters\n",
    "epochs = 15         # Number of full passes through the training dataset\n",
    "batch_size = 8      # Number of samples per gradient update\n",
    "n_hidden = 8        # Number of filters/units in Conv1D and Dense layers\n",
    "\n",
    "# Determine input dimensions from training data\n",
    "timesteps = len(X_train[0])       # Number of time steps per input sequence\n",
    "input_dim = len(X_train[0][0])    # Number of features per time step\n",
    "n_classes = len(y_train[0])       # Number of output classes\n",
    "\n",
    "# Build the CNN model using Sequential API\n",
    "model = Sequential()\n",
    "model.add(Input(shape=(timesteps, input_dim)))  # Explicit Input layer to avoid warnings\n",
    "model.add(Conv1D(n_hidden, kernel_size=2, activation='relu'))  # Conv1D layer for feature extraction\n",
    "model.add(Dense(16, activation='relu'))        # Dense layer for non-linear feature transformation\n",
    "model.add(MaxPooling1D())                       # MaxPooling to downsample sequence and reduce overfitting\n",
    "model.add(Flatten())                            # Flatten 3D output to 1D vector for Dense output\n",
    "model.add(Dense(n_classes, activation='tanh')) # Output layer for multi-class classification"
   ]
  },
  {
   "cell_type": "code",
   "execution_count": 366,
   "id": "920fbe35-3bc0-4396-ae7f-d8db38c937ca",
   "metadata": {},
   "outputs": [
    {
     "data": {
      "text/html": [
       "<pre style=\"white-space:pre;overflow-x:auto;line-height:normal;font-family:Menlo,'DejaVu Sans Mono',consolas,'Courier New',monospace\"><span style=\"font-weight: bold\">Model: \"sequential_27\"</span>\n",
       "</pre>\n"
      ],
      "text/plain": [
       "\u001b[1mModel: \"sequential_27\"\u001b[0m\n"
      ]
     },
     "metadata": {},
     "output_type": "display_data"
    },
    {
     "data": {
      "text/html": [
       "<pre style=\"white-space:pre;overflow-x:auto;line-height:normal;font-family:Menlo,'DejaVu Sans Mono',consolas,'Courier New',monospace\">┏━━━━━━━━━━━━━━━━━━━━━━━━━━━━━━━━━━━━━━┳━━━━━━━━━━━━━━━━━━━━━━━━━━━━━┳━━━━━━━━━━━━━━━━━┓\n",
       "┃<span style=\"font-weight: bold\"> Layer (type)                         </span>┃<span style=\"font-weight: bold\"> Output Shape                </span>┃<span style=\"font-weight: bold\">         Param # </span>┃\n",
       "┡━━━━━━━━━━━━━━━━━━━━━━━━━━━━━━━━━━━━━━╇━━━━━━━━━━━━━━━━━━━━━━━━━━━━━╇━━━━━━━━━━━━━━━━━┩\n",
       "│ conv1d_14 (<span style=\"color: #0087ff; text-decoration-color: #0087ff\">Conv1D</span>)                   │ (<span style=\"color: #00d7ff; text-decoration-color: #00d7ff\">None</span>, <span style=\"color: #00af00; text-decoration-color: #00af00\">14</span>, <span style=\"color: #00af00; text-decoration-color: #00af00\">8</span>)               │             <span style=\"color: #00af00; text-decoration-color: #00af00\">152</span> │\n",
       "├──────────────────────────────────────┼─────────────────────────────┼─────────────────┤\n",
       "│ dense_37 (<span style=\"color: #0087ff; text-decoration-color: #0087ff\">Dense</span>)                     │ (<span style=\"color: #00d7ff; text-decoration-color: #00d7ff\">None</span>, <span style=\"color: #00af00; text-decoration-color: #00af00\">14</span>, <span style=\"color: #00af00; text-decoration-color: #00af00\">16</span>)              │             <span style=\"color: #00af00; text-decoration-color: #00af00\">144</span> │\n",
       "├──────────────────────────────────────┼─────────────────────────────┼─────────────────┤\n",
       "│ max_pooling1d_14 (<span style=\"color: #0087ff; text-decoration-color: #0087ff\">MaxPooling1D</span>)      │ (<span style=\"color: #00d7ff; text-decoration-color: #00d7ff\">None</span>, <span style=\"color: #00af00; text-decoration-color: #00af00\">7</span>, <span style=\"color: #00af00; text-decoration-color: #00af00\">16</span>)               │               <span style=\"color: #00af00; text-decoration-color: #00af00\">0</span> │\n",
       "├──────────────────────────────────────┼─────────────────────────────┼─────────────────┤\n",
       "│ flatten_11 (<span style=\"color: #0087ff; text-decoration-color: #0087ff\">Flatten</span>)                 │ (<span style=\"color: #00d7ff; text-decoration-color: #00d7ff\">None</span>, <span style=\"color: #00af00; text-decoration-color: #00af00\">112</span>)                 │               <span style=\"color: #00af00; text-decoration-color: #00af00\">0</span> │\n",
       "├──────────────────────────────────────┼─────────────────────────────┼─────────────────┤\n",
       "│ dense_38 (<span style=\"color: #0087ff; text-decoration-color: #0087ff\">Dense</span>)                     │ (<span style=\"color: #00d7ff; text-decoration-color: #00d7ff\">None</span>, <span style=\"color: #00af00; text-decoration-color: #00af00\">15</span>)                  │           <span style=\"color: #00af00; text-decoration-color: #00af00\">1,695</span> │\n",
       "└──────────────────────────────────────┴─────────────────────────────┴─────────────────┘\n",
       "</pre>\n"
      ],
      "text/plain": [
       "┏━━━━━━━━━━━━━━━━━━━━━━━━━━━━━━━━━━━━━━┳━━━━━━━━━━━━━━━━━━━━━━━━━━━━━┳━━━━━━━━━━━━━━━━━┓\n",
       "┃\u001b[1m \u001b[0m\u001b[1mLayer (type)                        \u001b[0m\u001b[1m \u001b[0m┃\u001b[1m \u001b[0m\u001b[1mOutput Shape               \u001b[0m\u001b[1m \u001b[0m┃\u001b[1m \u001b[0m\u001b[1m        Param #\u001b[0m\u001b[1m \u001b[0m┃\n",
       "┡━━━━━━━━━━━━━━━━━━━━━━━━━━━━━━━━━━━━━━╇━━━━━━━━━━━━━━━━━━━━━━━━━━━━━╇━━━━━━━━━━━━━━━━━┩\n",
       "│ conv1d_14 (\u001b[38;5;33mConv1D\u001b[0m)                   │ (\u001b[38;5;45mNone\u001b[0m, \u001b[38;5;34m14\u001b[0m, \u001b[38;5;34m8\u001b[0m)               │             \u001b[38;5;34m152\u001b[0m │\n",
       "├──────────────────────────────────────┼─────────────────────────────┼─────────────────┤\n",
       "│ dense_37 (\u001b[38;5;33mDense\u001b[0m)                     │ (\u001b[38;5;45mNone\u001b[0m, \u001b[38;5;34m14\u001b[0m, \u001b[38;5;34m16\u001b[0m)              │             \u001b[38;5;34m144\u001b[0m │\n",
       "├──────────────────────────────────────┼─────────────────────────────┼─────────────────┤\n",
       "│ max_pooling1d_14 (\u001b[38;5;33mMaxPooling1D\u001b[0m)      │ (\u001b[38;5;45mNone\u001b[0m, \u001b[38;5;34m7\u001b[0m, \u001b[38;5;34m16\u001b[0m)               │               \u001b[38;5;34m0\u001b[0m │\n",
       "├──────────────────────────────────────┼─────────────────────────────┼─────────────────┤\n",
       "│ flatten_11 (\u001b[38;5;33mFlatten\u001b[0m)                 │ (\u001b[38;5;45mNone\u001b[0m, \u001b[38;5;34m112\u001b[0m)                 │               \u001b[38;5;34m0\u001b[0m │\n",
       "├──────────────────────────────────────┼─────────────────────────────┼─────────────────┤\n",
       "│ dense_38 (\u001b[38;5;33mDense\u001b[0m)                     │ (\u001b[38;5;45mNone\u001b[0m, \u001b[38;5;34m15\u001b[0m)                  │           \u001b[38;5;34m1,695\u001b[0m │\n",
       "└──────────────────────────────────────┴─────────────────────────────┴─────────────────┘\n"
      ]
     },
     "metadata": {},
     "output_type": "display_data"
    },
    {
     "data": {
      "text/html": [
       "<pre style=\"white-space:pre;overflow-x:auto;line-height:normal;font-family:Menlo,'DejaVu Sans Mono',consolas,'Courier New',monospace\"><span style=\"font-weight: bold\"> Total params: </span><span style=\"color: #00af00; text-decoration-color: #00af00\">1,991</span> (7.78 KB)\n",
       "</pre>\n"
      ],
      "text/plain": [
       "\u001b[1m Total params: \u001b[0m\u001b[38;5;34m1,991\u001b[0m (7.78 KB)\n"
      ]
     },
     "metadata": {},
     "output_type": "display_data"
    },
    {
     "data": {
      "text/html": [
       "<pre style=\"white-space:pre;overflow-x:auto;line-height:normal;font-family:Menlo,'DejaVu Sans Mono',consolas,'Courier New',monospace\"><span style=\"font-weight: bold\"> Trainable params: </span><span style=\"color: #00af00; text-decoration-color: #00af00\">1,991</span> (7.78 KB)\n",
       "</pre>\n"
      ],
      "text/plain": [
       "\u001b[1m Trainable params: \u001b[0m\u001b[38;5;34m1,991\u001b[0m (7.78 KB)\n"
      ]
     },
     "metadata": {},
     "output_type": "display_data"
    },
    {
     "data": {
      "text/html": [
       "<pre style=\"white-space:pre;overflow-x:auto;line-height:normal;font-family:Menlo,'DejaVu Sans Mono',consolas,'Courier New',monospace\"><span style=\"font-weight: bold\"> Non-trainable params: </span><span style=\"color: #00af00; text-decoration-color: #00af00\">0</span> (0.00 B)\n",
       "</pre>\n"
      ],
      "text/plain": [
       "\u001b[1m Non-trainable params: \u001b[0m\u001b[38;5;34m0\u001b[0m (0.00 B)\n"
      ]
     },
     "metadata": {},
     "output_type": "display_data"
    }
   ],
   "source": [
    "# Display a summary of the CNN model architecture\n",
    "# - Shows each layer's type, output shape, and number of parameters\n",
    "# - Provides total, trainable, and non-trainable parameters for the model\n",
    "# - Useful for quickly inspecting the network structure and verifying the model setup\n",
    "model.summary()"
   ]
  },
  {
   "cell_type": "code",
   "execution_count": 367,
   "id": "f17cf535-5ab5-48a7-95c2-c4abe43feabe",
   "metadata": {},
   "outputs": [],
   "source": [
    "# Compile the CNN model for training\n",
    "# - loss='categorical_crossentropy': appropriate for multi-class classification tasks\n",
    "# - optimizer='adam': adaptive optimizer for efficient gradient descent\n",
    "# - metrics=['accuracy']: track accuracy during training and validation\n",
    "model.compile(loss='categorical_crossentropy', optimizer='adam', metrics=['accuracy'])"
   ]
  },
  {
   "cell_type": "code",
   "execution_count": 368,
   "id": "e5dbc18b-1663-4ea2-b9d4-8a4c85090f44",
   "metadata": {},
   "outputs": [
    {
     "name": "stdout",
     "output_type": "stream",
     "text": [
      "Epoch 1/15\n",
      "2152/2152 - 5s - 2ms/step - accuracy: 0.0759 - loss: 30.4218\n",
      "Epoch 2/15\n",
      "2152/2152 - 3s - 1ms/step - accuracy: 0.1073 - loss: 27.3191\n",
      "Epoch 3/15\n",
      "2152/2152 - 3s - 1ms/step - accuracy: 0.1239 - loss: 30.2883\n",
      "Epoch 4/15\n",
      "2152/2152 - 3s - 1ms/step - accuracy: 0.1321 - loss: 30.2846\n",
      "Epoch 5/15\n",
      "2152/2152 - 4s - 2ms/step - accuracy: 0.1391 - loss: 30.2808\n",
      "Epoch 6/15\n",
      "2152/2152 - 5s - 2ms/step - accuracy: 0.1509 - loss: 30.2809\n",
      "Epoch 7/15\n",
      "2152/2152 - 3s - 1ms/step - accuracy: 0.1510 - loss: 30.2808\n",
      "Epoch 8/15\n",
      "2152/2152 - 3s - 1ms/step - accuracy: 0.1514 - loss: 30.2799\n",
      "Epoch 9/15\n",
      "2152/2152 - 3s - 1ms/step - accuracy: 0.1513 - loss: 30.2780\n",
      "Epoch 10/15\n",
      "2152/2152 - 3s - 1ms/step - accuracy: 0.1513 - loss: 30.2780\n",
      "Epoch 11/15\n",
      "2152/2152 - 3s - 1ms/step - accuracy: 0.1511 - loss: 30.2771\n",
      "Epoch 12/15\n",
      "2152/2152 - 3s - 1ms/step - accuracy: 0.1511 - loss: 30.2771\n",
      "Epoch 13/15\n",
      "2152/2152 - 3s - 1ms/step - accuracy: 0.1503 - loss: 30.2752\n",
      "Epoch 14/15\n",
      "2152/2152 - 4s - 2ms/step - accuracy: 0.1501 - loss: 30.2752\n",
      "Epoch 15/15\n",
      "2152/2152 - 6s - 3ms/step - accuracy: 0.1488 - loss: 30.2733\n"
     ]
    },
    {
     "data": {
      "text/plain": [
       "<keras.src.callbacks.history.History at 0x207b9458d40>"
      ]
     },
     "execution_count": 368,
     "metadata": {},
     "output_type": "execute_result"
    }
   ],
   "source": [
    "# Train the CNN model on the training data\n",
    "# - X_train, y_train: input features and corresponding labels for training\n",
    "# - batch_size=batch_size: number of samples per gradient update\n",
    "# - epochs=epochs: number of complete passes through the training dataset\n",
    "# - verbose=2: display training progress with one line per epoch\n",
    "model.fit(X_train, y_train, batch_size=batch_size, epochs=epochs, verbose=2)"
   ]
  },
  {
   "cell_type": "code",
   "execution_count": 372,
   "id": "d3e6b654-4418-416c-9e2f-ae925e67dcc4",
   "metadata": {},
   "outputs": [],
   "source": [
    "# Define a function to generate a confusion matrix for model predictions\n",
    "# - y_true: true labels in one-hot encoded format\n",
    "# - y_pred: predicted labels in one-hot encoded format\n",
    "# Steps:\n",
    "# 1) Convert one-hot encoded arrays to station names using the 'stations' dictionary.\n",
    "# 2) Use np.argmax to get the predicted class index for each sample.\n",
    "# 3) Convert the indices to Pandas Series of station names for true and predicted labels.\n",
    "# 4) Return a crosstab (confusion matrix) comparing true vs predicted station names.\n",
    "def confusion_matrix(y_true, y_pred):\n",
    "    y_true = pd.Series([stations[y] for y in np.argmax(y_true, axis=1)])\n",
    "    y_pred = pd.Series([stations[y] for y in np.argmax(y_pred, axis=1)])\n",
    "\n",
    "    return pd.crosstab(y_true, y_pred, rownames=['True'], colnames=['Pred'])"
   ]
  },
  {
   "cell_type": "code",
   "execution_count": 374,
   "id": "904ee35e-25ac-42b3-b064-3cc24d60e453",
   "metadata": {},
   "outputs": [
    {
     "name": "stdout",
     "output_type": "stream",
     "text": [
      "\u001b[1m180/180\u001b[0m \u001b[32m━━━━━━━━━━━━━━━━━━━━\u001b[0m\u001b[37m\u001b[0m \u001b[1m1s\u001b[0m 3ms/step\n",
      "Pred        BELGRADE  DUSSELDORF  HEATHROW  LJUBLJANA  MAASTRICHT  MADRID  \\\n",
      "True                                                                        \n",
      "BASEL           2856         101        24         23         323      27   \n",
      "BELGRADE         804          82         1          1         128       2   \n",
      "BUDAPEST         137          20         1          2          37       2   \n",
      "DEBILT            59          10         0          2          10       0   \n",
      "DUSSELDORF        19           4         1          0           5       0   \n",
      "HEATHROW          43           5         1          2          27       1   \n",
      "KASSEL             7           3         0          0           1       0   \n",
      "LJUBLJANA         37           2         2          1          12       2   \n",
      "MAASTRICHT         2           0         1          0           4       0   \n",
      "MADRID           297           4         0         18         105      16   \n",
      "MUNCHENB           2           0         0          0           4       1   \n",
      "OSLO               2           1         0          0           1       0   \n",
      "STOCKHOLM          2           1         0          0           1       0   \n",
      "VALENTIA           1           0         0          0           0       0   \n",
      "\n",
      "Pred        OSLO  \n",
      "True              \n",
      "BASEL        328  \n",
      "BELGRADE      74  \n",
      "BUDAPEST      15  \n",
      "DEBILT         1  \n",
      "DUSSELDORF     0  \n",
      "HEATHROW       3  \n",
      "KASSEL         0  \n",
      "LJUBLJANA      5  \n",
      "MAASTRICHT     2  \n",
      "MADRID        18  \n",
      "MUNCHENB       1  \n",
      "OSLO           1  \n",
      "STOCKHOLM      0  \n",
      "VALENTIA       0  \n"
     ]
    }
   ],
   "source": [
    "# Evaluate the trained model's performance on the test set\n",
    "# - Generate predictions for X_test using model.predict()\n",
    "# - Compare predicted labels to true labels y_test using the confusion_matrix function\n",
    "# - Print the confusion matrix to see how accurately the model classified each station\n",
    "print(confusion_matrix(y_test, model.predict(X_test)))"
   ]
  },
  {
   "cell_type": "code",
   "execution_count": null,
   "id": "25586d9f-0a91-42b2-9167-53be34a5c120",
   "metadata": {},
   "outputs": [],
   "source": []
  }
 ],
 "metadata": {
  "kernelspec": {
   "display_name": "Python 3 (ipykernel)",
   "language": "python",
   "name": "python3"
  },
  "language_info": {
   "codemirror_mode": {
    "name": "ipython",
    "version": 3
   },
   "file_extension": ".py",
   "mimetype": "text/x-python",
   "name": "python",
   "nbconvert_exporter": "python",
   "pygments_lexer": "ipython3",
   "version": "3.12.3"
  }
 },
 "nbformat": 4,
 "nbformat_minor": 5
}
